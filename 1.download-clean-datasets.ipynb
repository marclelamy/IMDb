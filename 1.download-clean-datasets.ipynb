{
 "cells": [
  {
   "cell_type": "markdown",
   "metadata": {},
   "source": [
    "# Project description\n",
    "\n",
    "**READ before running this notebook**: If you are using jupyter notebook and you have variable inspector ticked in your nbextensions config (check in edit drop down menu, last option), I highly recommand to untick it before running this notebook. As some variables of this notebook are pd.DataFrame of dozens of millions of rows, it slows down the whole notebook. \n",
    "\n",
    "\n",
    "**Description:** This notebook has for purpose to download [IMDB's public datasets](https://www.imdb.com/interfaces/) which contain 7 `.tsv` files. This table is the the original files not the new one. Need to be updated for after [4 Cleaning each files](#Cleaning-each-files): \n",
    "\n",
    "\n",
    "File name / feature name | Feature description\n",
    "--- | --- \n",
    "**akas**  |  Contains the following information for titles:\n",
    "titleId (string)  |  a tconst, an alphanumeric unique identifier of the title\n",
    "ordering (integer)  |  a number to uniquely identify rows for a given titleId\n",
    "title (string)  |  the localized title\n",
    "region (string)  |  the region for this version of the title\n",
    "language (string)  |  the language of the title\n",
    "types (array)  |  Enumerated set of attributes for this alternative title. One or more of the following: \"alternative\", \"dvd\", \"festival\", \"tv\", \"video\", \"working\", \"original\", \"imdbDisplay\". New values may be added in the future without warning\n",
    "attributes (array)  |  Additional terms to describe this alternative title, not enumerated\n",
    "isOriginalTitle (boolean)  |  0: not original title; 1: original title\n",
    "|\n",
    "|\n",
    "**basics**  |  Contains the following information for titles:\n",
    "tconst (string)  |  alphanumeric unique identifier of the title\n",
    "titleType (string)  |  the type/format of the title (e.g. movie, short, tvseries, tvepisode, video, etc)\n",
    "primaryTitle (string)  |  the more popular title / the title used by the filmmakers on promotional materials at the point of release\n",
    "originalTitle (string)  |  original title, in the original language\n",
    "isAdult (boolean)  |  0: non-adult title; 1: adult title\n",
    "startYear (YYYY)  |  represents the release year of a title. In the case of TV Series, it is the series start year\n",
    "endYear (YYYY)  |  TV Series end year. for all other title types\n",
    "runtimeMinutes  |  primary runtime of the title, in minutes\n",
    "genres (string array)  |  includes up to three genres associated with the title\n",
    "|\n",
    "|\n",
    "**crew**  |  Contains the director and writer information for all the titles in IMDb. Fields include:\n",
    "tconst (string)  |  alphanumeric unique identifier of the title\n",
    "directors (array of nconsts)  |  director(s) of the given title\n",
    "writers (array of nconsts)  |  writer(s) of the given title\n",
    "|\n",
    "|\n",
    "**episode**  |  Contains the tv episode information. Fields include:\n",
    "tconst (string)  |  alphanumeric identifier of episode\n",
    "parentTconst (string)  |  alphanumeric identifier of the parent TV Series\n",
    "seasonNumber (integer)  |  season number the episode belongs to\n",
    "episodeNumber (integer)  |  episode number of the tconst in the TV series\n",
    "|\n",
    "|\n",
    "**principals**  |  Contains the principal cast/crew for titles\n",
    "tconst (string)  |  alphanumeric unique identifier of the title\n",
    "ordering (integer)  |  a number to uniquely identify rows for a given titleId\n",
    "nconst (string)  |  alphanumeric unique identifier of the name/person\n",
    "category (string)  |  the category of job that person was in\n",
    "job (string)  |  the specific job title if applicable, else \n",
    "characters (string)  |  the name of the character played if applicable, else \n",
    "|\n",
    "|\n",
    "**ratings**  |  Contains the IMDb rating and votes information for titles\n",
    "tconst (string)  |  alphanumeric unique identifier of the title\n",
    "averageRating  |  weighted average of all the individual user ratings\n",
    "numVotes  |  number of votes the title has received\n",
    "|\n",
    "|\n",
    "**name**  |  Contains the following information for names:\n",
    "nconst (string)  |  alphanumeric unique identifier of the name/person\n",
    "primaryName (string)  |  name by which the person is most often credited\n",
    "birthYear  |  in YYYY format\n",
    "deathYear  |  in YYYY format if applicable, else \n",
    "primaryProfession (array of strings)  |  the top-3 professions of the person\n",
    "knownForTitles (array of tconsts)  |  titles the person is known for\n",
    "\n",
    "\n",
    "\n",
    "\n",
    "\n",
    "\n",
    "**Run time on Macbook Pro 2017, i5 3.1 GHz 2 cores, 8GB of ram:** ~40mn\n",
    "\n",
    "**Macbook Air M1 🥺BG of ram:** 🥺"
   ]
  },
  {
   "cell_type": "markdown",
   "metadata": {},
   "source": [
    "<hr style=\"height:.9px;border:none;color:#333;background-color:#333;\" />\n",
    "<hr style=\"height:.9px;border:none;color:#333;background-color:#333;\" />\n",
    "\n",
    "# Get Imdb files links\n",
    "\n",
    "You can set this variable to 1 to download the files, 0 to not. This was just for me when testing, you might find it useful"
   ]
  },
  {
   "cell_type": "code",
   "execution_count": 1,
   "metadata": {
    "ExecuteTime": {
     "end_time": "2021-05-28T03:57:06.537866Z",
     "start_time": "2021-05-28T03:57:06.530336Z"
    }
   },
   "outputs": [],
   "source": [
    "download = 1"
   ]
  },
  {
   "cell_type": "markdown",
   "metadata": {},
   "source": [
    "## Import libraries \n",
    "\n",
    "* Requests to get the page \n",
    "* Beautiful Soup to get the content of that page\n",
    "* Os and Shutil for file management\n",
    "* Patoolib to decompress .gz archives\n",
    "* Time To know how long it takes to excecute the script \n",
    "* Termcolor for unnecessary beautiful colored print statements \n",
    "* Re for string manipulation\n",
    "* Caffeine for display always on"
   ]
  },
  {
   "cell_type": "code",
   "execution_count": 2,
   "metadata": {
    "ExecuteTime": {
     "end_time": "2021-05-28T03:57:07.343347Z",
     "start_time": "2021-05-28T03:57:06.548791Z"
    }
   },
   "outputs": [],
   "source": [
    "from bs4 import BeautifulSoup as bs\n",
    "import requests\n",
    "\n",
    "import os\n",
    "import shutil\n",
    "\n",
    "import patoolib as patoo\n",
    "\n",
    "import time\n",
    "\n",
    "from termcolor import colored\n",
    "\n",
    "import pandas as pd\n",
    "import numpy as np\n",
    "\n",
    "import re\n",
    "\n",
    "import caffeine\n",
    "def on(): # Shortcut def to let the display on while runing long code. \n",
    "    caffeine.on(display=False)"
   ]
  },
  {
   "cell_type": "markdown",
   "metadata": {},
   "source": [
    "## Scrape files links\n",
    "\n",
    "You know when you click on a link and it doesn't open a new page but download a file? That is what's happening my friend, we're getting those links!"
   ]
  },
  {
   "cell_type": "code",
   "execution_count": 3,
   "metadata": {
    "ExecuteTime": {
     "end_time": "2021-05-28T03:57:08.631144Z",
     "start_time": "2021-05-28T03:57:07.349826Z"
    }
   },
   "outputs": [
    {
     "data": {
      "text/plain": [
       "['http://www.imdb.com/interfaces/',\n",
       " 'https://datasets.imdbws.com/name.basics.tsv.gz',\n",
       " 'https://datasets.imdbws.com/title.akas.tsv.gz',\n",
       " 'https://datasets.imdbws.com/title.basics.tsv.gz',\n",
       " 'https://datasets.imdbws.com/title.crew.tsv.gz',\n",
       " 'https://datasets.imdbws.com/title.episode.tsv.gz',\n",
       " 'https://datasets.imdbws.com/title.principals.tsv.gz',\n",
       " 'https://datasets.imdbws.com/title.ratings.tsv.gz']"
      ]
     },
     "execution_count": 3,
     "metadata": {},
     "output_type": "execute_result"
    }
   ],
   "source": [
    "# Link where to find the datasets \n",
    "url = \"https://datasets.imdbws.com/\"\n",
    "links = []\n",
    "\n",
    "# Get the web page\n",
    "page = requests.get(url)\n",
    "\n",
    "# Get the page's html \n",
    "soup = bs(page.content, \"html.parser\")\n",
    "\n",
    "# Get all text as href tag\n",
    "for href in soup.find_all(\"a\"):\n",
    "    links.append(href[\"href\"])\n",
    "    \n",
    "links"
   ]
  },
  {
   "cell_type": "markdown",
   "metadata": {},
   "source": [
    "## Store them"
   ]
  },
  {
   "cell_type": "code",
   "execution_count": 4,
   "metadata": {
    "ExecuteTime": {
     "end_time": "2021-05-28T03:57:08.645067Z",
     "start_time": "2021-05-28T03:57:08.635443Z"
    }
   },
   "outputs": [
    {
     "data": {
      "text/plain": [
       "'http://www.imdb.com/interfaces/'"
      ]
     },
     "execution_count": 4,
     "metadata": {},
     "output_type": "execute_result"
    }
   ],
   "source": [
    "down_links = [x for x in links if \"tsv\" in x]\n",
    "metadata_link = list(set(links) - (set(down_links)))[0]\n",
    "\n",
    "metadata_link"
   ]
  },
  {
   "cell_type": "code",
   "execution_count": 5,
   "metadata": {
    "ExecuteTime": {
     "end_time": "2021-05-28T03:57:08.654960Z",
     "start_time": "2021-05-28T03:57:08.649925Z"
    }
   },
   "outputs": [
    {
     "data": {
      "text/plain": [
       "['https://datasets.imdbws.com/name.basics.tsv.gz',\n",
       " 'https://datasets.imdbws.com/title.akas.tsv.gz',\n",
       " 'https://datasets.imdbws.com/title.basics.tsv.gz',\n",
       " 'https://datasets.imdbws.com/title.crew.tsv.gz',\n",
       " 'https://datasets.imdbws.com/title.episode.tsv.gz',\n",
       " 'https://datasets.imdbws.com/title.principals.tsv.gz',\n",
       " 'https://datasets.imdbws.com/title.ratings.tsv.gz']"
      ]
     },
     "execution_count": 5,
     "metadata": {},
     "output_type": "execute_result"
    }
   ],
   "source": [
    "down_links"
   ]
  },
  {
   "cell_type": "markdown",
   "metadata": {},
   "source": [
    "<hr style=\"height:.9px;border:none;color:#333;background-color:#333;\" />\n",
    "<hr style=\"height:.9px;border:none;color:#333;background-color:#333;\" />\n",
    "\n",
    "\n",
    "# Download files\n",
    "\n",
    "## Create new directory to store them"
   ]
  },
  {
   "cell_type": "code",
   "execution_count": 6,
   "metadata": {
    "ExecuteTime": {
     "end_time": "2021-05-28T03:57:08.660772Z",
     "start_time": "2021-05-28T03:57:08.657231Z"
    }
   },
   "outputs": [],
   "source": [
    "directory = \"imdb_raw_data\"\n",
    "\n",
    "if not os.path.exists(directory):\n",
    "    os.makedirs(directory)"
   ]
  },
  {
   "cell_type": "markdown",
   "metadata": {},
   "source": [
    "## Download the files"
   ]
  },
  {
   "cell_type": "code",
   "execution_count": 7,
   "metadata": {
    "ExecuteTime": {
     "end_time": "2021-05-28T03:58:35.069681Z",
     "start_time": "2021-05-28T03:57:08.664962Z"
    },
    "scrolled": false
   },
   "outputs": [
    {
     "name": "stdout",
     "output_type": "stream",
     "text": [
      "Download Starting...\n",
      "name_basics.tsv.gz\n",
      "patool: Extracting name_basics.tsv.gz ...\n",
      "patool: running '/usr/bin/gzip' -c -d -- 'name_basics.tsv.gz' > 'name_basics.tsv'\n",
      "patool:     with shell='True'\n",
      "patool: ... name_basics.tsv.gz extracted to `'.\n",
      "\u001b[31mname_basics.tsv done, 6 more - 16s\u001b[0m\n",
      "title_akas.tsv.gz\n",
      "patool: Extracting title_akas.tsv.gz ...\n",
      "patool: running '/usr/bin/gzip' -c -d -- 'title_akas.tsv.gz' > 'title_akas.tsv'\n",
      "patool:     with shell='True'\n",
      "patool: ... title_akas.tsv.gz extracted to `'.\n",
      "\u001b[31mtitle_akas.tsv done, 5 more - 19s\u001b[0m\n",
      "title_basics.tsv.gz\n",
      "patool: Extracting title_basics.tsv.gz ...\n",
      "patool: running '/usr/bin/gzip' -c -d -- 'title_basics.tsv.gz' > 'title_basics.tsv'\n",
      "patool:     with shell='True'\n",
      "patool: ... title_basics.tsv.gz extracted to `'.\n",
      "\u001b[31mtitle_basics.tsv done, 4 more - 12s\u001b[0m\n",
      "title_crew.tsv.gz\n",
      "patool: Extracting title_crew.tsv.gz ...\n",
      "patool: running '/usr/bin/gzip' -c -d -- 'title_crew.tsv.gz' > 'title_crew.tsv'\n",
      "patool:     with shell='True'\n",
      "patool: ... title_crew.tsv.gz extracted to `'.\n",
      "\u001b[31mtitle_crew.tsv done, 3 more - 6s\u001b[0m\n",
      "title_episode.tsv.gz\n",
      "patool: Extracting title_episode.tsv.gz ...\n",
      "patool: running '/usr/bin/gzip' -c -d -- 'title_episode.tsv.gz' > 'title_episode.tsv'\n",
      "patool:     with shell='True'\n",
      "patool: ... title_episode.tsv.gz extracted to `'.\n",
      "\u001b[31mtitle_episode.tsv done, 2 more - 4s\u001b[0m\n",
      "title_principals.tsv.gz\n",
      "patool: Extracting title_principals.tsv.gz ...\n",
      "patool: running '/usr/bin/gzip' -c -d -- 'title_principals.tsv.gz' > 'title_principals.tsv'\n",
      "patool:     with shell='True'\n",
      "patool: ... title_principals.tsv.gz extracted to `'.\n",
      "\u001b[31mtitle_principals.tsv done, 1 more - 27s\u001b[0m\n",
      "title_ratings.tsv.gz\n",
      "patool: Extracting title_ratings.tsv.gz ...\n",
      "patool: running '/usr/bin/gzip' -c -d -- 'title_ratings.tsv.gz' > 'title_ratings.tsv'\n",
      "patool:     with shell='True'\n",
      "patool: ... title_ratings.tsv.gz extracted to `'.\n",
      "\u001b[31mtitle_ratings.tsv done, 0 more - 2s\u001b[0m\n",
      "\u001b[1m\u001b[31mDownload Completed!!! It took 86 seconds\u001b[0m\n"
     ]
    }
   ],
   "source": [
    "if download == 1:\n",
    "    print('Download Starting...')\n",
    "    start = time.time()\n",
    "    \n",
    "    for url in down_links:\n",
    "        start2 = time.time()\n",
    "\n",
    "        # Download files\n",
    "        r = requests.get(url)\n",
    "        filename = url.split('/')[-1].replace(\".\", \"_\", 1)\n",
    "        print(filename)\n",
    "\n",
    "        with open(filename,'wb') as output_file:\n",
    "            output_file.write(r.content)\n",
    "\n",
    "\n",
    "        # Decompress file\n",
    "        patoo.extract_archive(filename, outdir=\"\")\n",
    "\n",
    "        # delete compressed file\n",
    "        os.remove(filename)\n",
    "\n",
    "        # Move file to the right folder\n",
    "        filename = filename.replace(\".gz\", \"\")\n",
    "        shutil.move(filename, directory)\n",
    "\n",
    "\n",
    "        index = down_links.index(url) + 1\n",
    "        print(colored(f\"{filename} done, {len(down_links) - index} more - {round(time.time() - start2)}s\", \"red\"))\n",
    "\n",
    "    print(colored(f\"Download Completed!!! It took {round(time.time() - start)} seconds\", \"red\", attrs=['bold']))\n",
    "\n",
    "\n",
    "else: \n",
    "    print(\"No download!\")\n",
    "\n"
   ]
  },
  {
   "cell_type": "markdown",
   "metadata": {},
   "source": [
    "## Checking files\n",
    "\n",
    "Here I just check that all the seven files that were links in \"links\" are in the directory in the right format"
   ]
  },
  {
   "cell_type": "code",
   "execution_count": 8,
   "metadata": {
    "ExecuteTime": {
     "end_time": "2021-05-28T03:58:35.103565Z",
     "start_time": "2021-05-28T03:58:35.075387Z"
    },
    "scrolled": true
   },
   "outputs": [
    {
     "name": "stdout",
     "output_type": "stream",
     "text": [
      "title_basics.tsv\n",
      "title_ratings.tsv\n",
      "title_crew.tsv\n",
      "name_basics.tsv\n",
      "title_akas.tsv\n",
      "title_episode.tsv\n",
      "title_principals.tsv\n"
     ]
    }
   ],
   "source": [
    "from os import listdir\n",
    "from os.path import isfile, join\n",
    "\n",
    "onlyfiles = [f for f in listdir(directory) if isfile(join(directory, f)) and \".tsv\" in f]\n",
    "\n",
    "for file in onlyfiles:\n",
    "    print(file)"
   ]
  },
  {
   "cell_type": "markdown",
   "metadata": {},
   "source": [
    "<hr style=\"height:.9px;border:none;color:#333;background-color:#333;\" />\n",
    "<hr style=\"height:.9px;border:none;color:#333;background-color:#333;\" />\n",
    "\n",
    "\n",
    "\n",
    "# Cleaning each files\n",
    "\n",
    "## Basics\n",
    "\n",
    "### Import file\n",
    "\n",
    "Sometimes I have an Io error, no reson why. Just rerun it, it should work"
   ]
  },
  {
   "cell_type": "code",
   "execution_count": 9,
   "metadata": {
    "ExecuteTime": {
     "end_time": "2021-05-28T03:59:06.737549Z",
     "start_time": "2021-05-28T03:58:35.108565Z"
    }
   },
   "outputs": [],
   "source": [
    "df_basics = pd.read_csv(directory + \"/title_basics.tsv\", delimiter=\"\\t\", low_memory=False)\n"
   ]
  },
  {
   "cell_type": "code",
   "execution_count": 10,
   "metadata": {
    "ExecuteTime": {
     "end_time": "2021-05-28T03:59:06.753930Z",
     "start_time": "2021-05-28T03:59:06.740701Z"
    }
   },
   "outputs": [],
   "source": [
    "df_basics.columns = [\"t_id\", \"type\", \"primary_title\", \"original_title\", \"for_adult\", \n",
    "                           \"start_year\", \"end_year\", \"runtime_mn\", \"genres\"]"
   ]
  },
  {
   "cell_type": "markdown",
   "metadata": {},
   "source": [
    "### Replacing missing values & title_id\n",
    "\n",
    "* Missing avlues are represented by `\\N` and I prefer to have missing values instead as `\\n`\n",
    "* Changing title_id from `tt0000001` to `1`, `tt000389` to `389`,  and so on."
   ]
  },
  {
   "cell_type": "code",
   "execution_count": 11,
   "metadata": {
    "ExecuteTime": {
     "end_time": "2021-05-28T03:59:24.828432Z",
     "start_time": "2021-05-28T03:59:06.764693Z"
    },
    "code_folding": []
   },
   "outputs": [
    {
     "data": {
      "text/html": [
       "<div>\n",
       "<style scoped>\n",
       "    .dataframe tbody tr th:only-of-type {\n",
       "        vertical-align: middle;\n",
       "    }\n",
       "\n",
       "    .dataframe tbody tr th {\n",
       "        vertical-align: top;\n",
       "    }\n",
       "\n",
       "    .dataframe thead th {\n",
       "        text-align: right;\n",
       "    }\n",
       "</style>\n",
       "<table border=\"1\" class=\"dataframe\">\n",
       "  <thead>\n",
       "    <tr style=\"text-align: right;\">\n",
       "      <th></th>\n",
       "      <th>t_id</th>\n",
       "      <th>type</th>\n",
       "      <th>primary_title</th>\n",
       "      <th>original_title</th>\n",
       "      <th>for_adult</th>\n",
       "      <th>start_year</th>\n",
       "      <th>end_year</th>\n",
       "      <th>runtime_mn</th>\n",
       "      <th>genres</th>\n",
       "    </tr>\n",
       "  </thead>\n",
       "  <tbody>\n",
       "    <tr>\n",
       "      <th>0</th>\n",
       "      <td>1</td>\n",
       "      <td>short</td>\n",
       "      <td>Carmencita</td>\n",
       "      <td>Carmencita</td>\n",
       "      <td>0</td>\n",
       "      <td>1894</td>\n",
       "      <td>NaN</td>\n",
       "      <td>1</td>\n",
       "      <td>Documentary,Short</td>\n",
       "    </tr>\n",
       "    <tr>\n",
       "      <th>1</th>\n",
       "      <td>2</td>\n",
       "      <td>short</td>\n",
       "      <td>Le clown et ses chiens</td>\n",
       "      <td>Le clown et ses chiens</td>\n",
       "      <td>0</td>\n",
       "      <td>1892</td>\n",
       "      <td>NaN</td>\n",
       "      <td>5</td>\n",
       "      <td>Animation,Short</td>\n",
       "    </tr>\n",
       "    <tr>\n",
       "      <th>2</th>\n",
       "      <td>3</td>\n",
       "      <td>short</td>\n",
       "      <td>Pauvre Pierrot</td>\n",
       "      <td>Pauvre Pierrot</td>\n",
       "      <td>0</td>\n",
       "      <td>1892</td>\n",
       "      <td>NaN</td>\n",
       "      <td>4</td>\n",
       "      <td>Animation,Comedy,Romance</td>\n",
       "    </tr>\n",
       "    <tr>\n",
       "      <th>3</th>\n",
       "      <td>4</td>\n",
       "      <td>short</td>\n",
       "      <td>Un bon bock</td>\n",
       "      <td>Un bon bock</td>\n",
       "      <td>0</td>\n",
       "      <td>1892</td>\n",
       "      <td>NaN</td>\n",
       "      <td>12</td>\n",
       "      <td>Animation,Short</td>\n",
       "    </tr>\n",
       "    <tr>\n",
       "      <th>4</th>\n",
       "      <td>5</td>\n",
       "      <td>short</td>\n",
       "      <td>Blacksmith Scene</td>\n",
       "      <td>Blacksmith Scene</td>\n",
       "      <td>0</td>\n",
       "      <td>1893</td>\n",
       "      <td>NaN</td>\n",
       "      <td>1</td>\n",
       "      <td>Comedy,Short</td>\n",
       "    </tr>\n",
       "  </tbody>\n",
       "</table>\n",
       "</div>"
      ],
      "text/plain": [
       "   t_id   type           primary_title          original_title for_adult  \\\n",
       "0     1  short              Carmencita              Carmencita         0   \n",
       "1     2  short  Le clown et ses chiens  Le clown et ses chiens         0   \n",
       "2     3  short          Pauvre Pierrot          Pauvre Pierrot         0   \n",
       "3     4  short             Un bon bock             Un bon bock         0   \n",
       "4     5  short        Blacksmith Scene        Blacksmith Scene         0   \n",
       "\n",
       "  start_year end_year runtime_mn                    genres  \n",
       "0       1894      NaN          1         Documentary,Short  \n",
       "1       1892      NaN          5           Animation,Short  \n",
       "2       1892      NaN          4  Animation,Comedy,Romance  \n",
       "3       1892      NaN         12           Animation,Short  \n",
       "4       1893      NaN          1              Comedy,Short  "
      ]
     },
     "execution_count": 11,
     "metadata": {},
     "output_type": "execute_result"
    }
   ],
   "source": [
    "def clean_df(df):\n",
    "    for col in df.columns: \n",
    "        df[col] = df[col].replace(r\"\\N\", np.nan)\n",
    "        \n",
    "        if \"id\" in col: \n",
    "            df[col] = df[col].apply(lambda x: int(re.sub(\"[^0-9]\", \"\", x))) # Keeping only numbers from str\n",
    "        \n",
    "    return df\n",
    "\n",
    "\n",
    "df_basics = clean_df(df_basics)\n",
    "df_basics.head()\n"
   ]
  },
  {
   "cell_type": "markdown",
   "metadata": {},
   "source": [
    "### Adding runtime to genres \n",
    "\n",
    "Some observations have (missing values for most columns) the value of genres in the runtimeMinutes column.\n",
    "\n",
    "Here is an example:"
   ]
  },
  {
   "cell_type": "code",
   "execution_count": 12,
   "metadata": {
    "ExecuteTime": {
     "end_time": "2021-05-28T03:59:25.165476Z",
     "start_time": "2021-05-28T03:59:24.831994Z"
    }
   },
   "outputs": [
    {
     "data": {
      "text/html": [
       "<div>\n",
       "<style scoped>\n",
       "    .dataframe tbody tr th:only-of-type {\n",
       "        vertical-align: middle;\n",
       "    }\n",
       "\n",
       "    .dataframe tbody tr th {\n",
       "        vertical-align: top;\n",
       "    }\n",
       "\n",
       "    .dataframe thead th {\n",
       "        text-align: right;\n",
       "    }\n",
       "</style>\n",
       "<table border=\"1\" class=\"dataframe\">\n",
       "  <thead>\n",
       "    <tr style=\"text-align: right;\">\n",
       "      <th></th>\n",
       "      <th>t_id</th>\n",
       "      <th>type</th>\n",
       "      <th>primary_title</th>\n",
       "      <th>original_title</th>\n",
       "      <th>for_adult</th>\n",
       "      <th>start_year</th>\n",
       "      <th>end_year</th>\n",
       "      <th>runtime_mn</th>\n",
       "      <th>genres</th>\n",
       "    </tr>\n",
       "  </thead>\n",
       "  <tbody>\n",
       "    <tr>\n",
       "      <th>1101591</th>\n",
       "      <td>10233364</td>\n",
       "      <td>tvEpisode</td>\n",
       "      <td>Rolling in the Deep Dish\\tRolling in the Deep ...</td>\n",
       "      <td>0</td>\n",
       "      <td>2019</td>\n",
       "      <td>NaN</td>\n",
       "      <td>NaN</td>\n",
       "      <td>Reality-TV</td>\n",
       "      <td>NaN</td>\n",
       "    </tr>\n",
       "    <tr>\n",
       "      <th>2345856</th>\n",
       "      <td>12415330</td>\n",
       "      <td>tvEpisode</td>\n",
       "      <td>Anthony Davis High Brow Tank\\tAnthony Davis Hi...</td>\n",
       "      <td>0</td>\n",
       "      <td>2017</td>\n",
       "      <td>NaN</td>\n",
       "      <td>NaN</td>\n",
       "      <td>Reality-TV</td>\n",
       "      <td>NaN</td>\n",
       "    </tr>\n",
       "    <tr>\n",
       "      <th>5216475</th>\n",
       "      <td>3984412</td>\n",
       "      <td>tvEpisode</td>\n",
       "      <td>I'm Not Going to Come Last, I'm Just Going to ...</td>\n",
       "      <td>0</td>\n",
       "      <td>2014</td>\n",
       "      <td>NaN</td>\n",
       "      <td>NaN</td>\n",
       "      <td>Reality-TV</td>\n",
       "      <td>NaN</td>\n",
       "    </tr>\n",
       "  </tbody>\n",
       "</table>\n",
       "</div>"
      ],
      "text/plain": [
       "             t_id       type  \\\n",
       "1101591  10233364  tvEpisode   \n",
       "2345856  12415330  tvEpisode   \n",
       "5216475   3984412  tvEpisode   \n",
       "\n",
       "                                             primary_title original_title  \\\n",
       "1101591  Rolling in the Deep Dish\\tRolling in the Deep ...              0   \n",
       "2345856  Anthony Davis High Brow Tank\\tAnthony Davis Hi...              0   \n",
       "5216475  I'm Not Going to Come Last, I'm Just Going to ...              0   \n",
       "\n",
       "        for_adult start_year end_year  runtime_mn genres  \n",
       "1101591      2019        NaN      NaN  Reality-TV    NaN  \n",
       "2345856      2017        NaN      NaN  Reality-TV    NaN  \n",
       "5216475      2014        NaN      NaN  Reality-TV    NaN  "
      ]
     },
     "execution_count": 12,
     "metadata": {},
     "output_type": "execute_result"
    }
   ],
   "source": [
    "df_basics[df_basics[\"runtime_mn\"] == 'Reality-TV']\n"
   ]
  },
  {
   "cell_type": "markdown",
   "metadata": {},
   "source": [
    "Even I will drop those observations later, I still want the data to be as clean as I can."
   ]
  },
  {
   "cell_type": "code",
   "execution_count": 13,
   "metadata": {
    "ExecuteTime": {
     "end_time": "2021-05-28T03:59:27.392498Z",
     "start_time": "2021-05-28T03:59:25.169011Z"
    }
   },
   "outputs": [],
   "source": [
    "for genre in ['Reality-TV', 'Documentary', 'Talk-Show', 'Game-Show', 'Animation,Comedy,Family']:\n",
    "    indexes = df_basics[df_basics[\"runtime_mn\"] == genre].index\n",
    "    \n",
    "    for index in indexes: \n",
    "        df_basics.loc[index, \"genres\"] = genre"
   ]
  },
  {
   "cell_type": "markdown",
   "metadata": {},
   "source": [
    "### Changing data types"
   ]
  },
  {
   "cell_type": "code",
   "execution_count": 14,
   "metadata": {
    "ExecuteTime": {
     "end_time": "2021-05-28T03:59:33.116659Z",
     "start_time": "2021-05-28T03:59:27.395251Z"
    }
   },
   "outputs": [],
   "source": [
    "df_basics[\"for_adult\"] = df_basics[\"for_adult\"].astype(float)\n",
    "df_basics[\"start_year\"] = df_basics[\"start_year\"].astype(float)\n",
    "df_basics[\"end_year\"] = df_basics[\"end_year\"].astype(float)\n",
    "\n",
    "df_basics[\"runtime_mn\"] = df_basics[\"runtime_mn\"].replace({\"Reality-TV\": np.nan,\n",
    "                                                     \"Documentary\": np.nan,\n",
    "                                                     \"Talk-Show\": np.nan,\n",
    "                                                     \"Game-Show\": np.nan,\n",
    "                                                     \"Reality-TV\": np.nan,\n",
    "                                                     \"Animation,Comedy,Family\": np.nan}).astype(float)\n"
   ]
  },
  {
   "cell_type": "markdown",
   "metadata": {},
   "source": [
    "### Keeping only 2000-2021\n",
    "\n",
    "This can be used for later, to keep only movies from certain years. "
   ]
  },
  {
   "cell_type": "code",
   "execution_count": 15,
   "metadata": {
    "ExecuteTime": {
     "end_time": "2021-05-28T03:59:33.164882Z",
     "start_time": "2021-05-28T03:59:33.139068Z"
    }
   },
   "outputs": [
    {
     "name": "stdout",
     "output_type": "stream",
     "text": [
      "(7939695, 9)\n",
      "(7939695, 9)\n"
     ]
    }
   ],
   "source": [
    "print(df_basics.shape)\n",
    "#df_basics = df_tb[df_tb[\"startYear\"].isin(list(range(2000, 2022)))].reset_index(drop=True)\n",
    "print(df_basics.shape)\n"
   ]
  },
  {
   "cell_type": "markdown",
   "metadata": {},
   "source": [
    "### Getting all genres \n",
    "\n",
    "#### Get all genres with their title id "
   ]
  },
  {
   "cell_type": "code",
   "execution_count": 16,
   "metadata": {
    "ExecuteTime": {
     "end_time": "2021-05-28T04:04:21.078837Z",
     "start_time": "2021-05-28T03:59:33.169769Z"
    },
    "scrolled": false
   },
   "outputs": [
    {
     "name": "stdout",
     "output_type": "stream",
     "text": [
      "7,900,000 / 7,939,695\r"
     ]
    },
    {
     "data": {
      "text/plain": [
       "11991888"
      ]
     },
     "execution_count": 16,
     "metadata": {},
     "output_type": "execute_result"
    }
   ],
   "source": [
    "genre_title = []\n",
    "\n",
    "for x in range(len(df_basics[\"genres\"])):\n",
    "    genres = df_basics.loc[x, \"genres\"]\n",
    "    title_id = df_basics.loc[x, \"t_id\"]\n",
    "    \n",
    "    if type(genres) == str:\n",
    "        for genre in genres.split(\",\"): \n",
    "            genre_title.append([title_id, genre])\n",
    "            \n",
    "    if x % 100000 == 0: # As the cells run for a long time, it helps keeping track\n",
    "        length = len(df_basics[\"genres\"])\n",
    "        print(f\"{x:,d} / {length:,d}\", end=\"\\r\") \n",
    "        \n",
    "\n",
    "len(genre_title)"
   ]
  },
  {
   "cell_type": "markdown",
   "metadata": {},
   "source": [
    "#### Creating genre dataframe"
   ]
  },
  {
   "cell_type": "code",
   "execution_count": 17,
   "metadata": {
    "ExecuteTime": {
     "end_time": "2021-05-28T04:04:28.467708Z",
     "start_time": "2021-05-28T04:04:21.081509Z"
    }
   },
   "outputs": [
    {
     "data": {
      "text/html": [
       "<div>\n",
       "<style scoped>\n",
       "    .dataframe tbody tr th:only-of-type {\n",
       "        vertical-align: middle;\n",
       "    }\n",
       "\n",
       "    .dataframe tbody tr th {\n",
       "        vertical-align: top;\n",
       "    }\n",
       "\n",
       "    .dataframe thead th {\n",
       "        text-align: right;\n",
       "    }\n",
       "</style>\n",
       "<table border=\"1\" class=\"dataframe\">\n",
       "  <thead>\n",
       "    <tr style=\"text-align: right;\">\n",
       "      <th></th>\n",
       "      <th>0</th>\n",
       "      <th>1</th>\n",
       "    </tr>\n",
       "  </thead>\n",
       "  <tbody>\n",
       "    <tr>\n",
       "      <th>0</th>\n",
       "      <td>1</td>\n",
       "      <td>Documentary</td>\n",
       "    </tr>\n",
       "    <tr>\n",
       "      <th>1</th>\n",
       "      <td>1</td>\n",
       "      <td>Short</td>\n",
       "    </tr>\n",
       "    <tr>\n",
       "      <th>2</th>\n",
       "      <td>2</td>\n",
       "      <td>Animation</td>\n",
       "    </tr>\n",
       "    <tr>\n",
       "      <th>3</th>\n",
       "      <td>2</td>\n",
       "      <td>Short</td>\n",
       "    </tr>\n",
       "    <tr>\n",
       "      <th>4</th>\n",
       "      <td>3</td>\n",
       "      <td>Animation</td>\n",
       "    </tr>\n",
       "  </tbody>\n",
       "</table>\n",
       "</div>"
      ],
      "text/plain": [
       "   0            1\n",
       "0  1  Documentary\n",
       "1  1        Short\n",
       "2  2    Animation\n",
       "3  2        Short\n",
       "4  3    Animation"
      ]
     },
     "execution_count": 17,
     "metadata": {},
     "output_type": "execute_result"
    }
   ],
   "source": [
    "df_genres = pd.DataFrame(genre_title)\n",
    "df_genres.head()"
   ]
  },
  {
   "cell_type": "markdown",
   "metadata": {},
   "source": [
    "### Export both tables\n",
    "\n",
    "Keeping the genre column with list of genre doesn't lead to anything so I'm going to create two new tables.\n",
    "* genre that will contain each and individual genre\n",
    "* title_id that will contain each title_id (one observation for each genre of each title)\n"
   ]
  },
  {
   "cell_type": "code",
   "execution_count": 18,
   "metadata": {
    "ExecuteTime": {
     "end_time": "2021-05-28T04:05:32.042626Z",
     "start_time": "2021-05-28T04:04:28.542758Z"
    }
   },
   "outputs": [],
   "source": [
    "df_genres.to_csv(directory + \"/genres.csv\", index=False)\n",
    "\n",
    "# We don't need genre column in basics as we have a new df for it \n",
    "df_basics.drop(\"genres\", axis=1).to_csv(directory + \"/basics.csv\", index=False) # Exported as csv for convenience \n",
    "\n",
    "# We also don't need that tsv file anymore\n",
    "os.remove(directory + \"/title_basics.tsv\")"
   ]
  },
  {
   "cell_type": "markdown",
   "metadata": {},
   "source": [
    "<hr style=\"height:.9px;border:none;color:#333;background-color:#333;\" />\n",
    "\n",
    "## Principals\n",
    "### Import file"
   ]
  },
  {
   "cell_type": "code",
   "execution_count": 19,
   "metadata": {
    "ExecuteTime": {
     "end_time": "2021-05-28T04:08:26.415267Z",
     "start_time": "2021-05-28T04:05:32.048577Z"
    }
   },
   "outputs": [
    {
     "data": {
      "text/plain": [
       "(44923116, 6)"
      ]
     },
     "execution_count": 19,
     "metadata": {},
     "output_type": "execute_result"
    }
   ],
   "source": [
    "df_principals = pd.read_csv(directory + \"/title_principals.tsv\", delimiter=\"\\t\", low_memory=False)\n",
    "\n",
    "df_principals.shape"
   ]
  },
  {
   "cell_type": "code",
   "execution_count": 20,
   "metadata": {
    "ExecuteTime": {
     "end_time": "2021-05-28T04:08:26.439716Z",
     "start_time": "2021-05-28T04:08:26.424219Z"
    }
   },
   "outputs": [],
   "source": [
    "df_principals.columns = ['t_id', 'ordering', 'n_id', 'job_category', 'job_title', 'character_played']"
   ]
  },
  {
   "cell_type": "markdown",
   "metadata": {},
   "source": [
    "### Replace missing values & id of id columns"
   ]
  },
  {
   "cell_type": "code",
   "execution_count": 21,
   "metadata": {
    "ExecuteTime": {
     "end_time": "2021-05-28T04:11:36.611816Z",
     "start_time": "2021-05-28T04:08:26.445148Z"
    }
   },
   "outputs": [
    {
     "data": {
      "text/html": [
       "<div>\n",
       "<style scoped>\n",
       "    .dataframe tbody tr th:only-of-type {\n",
       "        vertical-align: middle;\n",
       "    }\n",
       "\n",
       "    .dataframe tbody tr th {\n",
       "        vertical-align: top;\n",
       "    }\n",
       "\n",
       "    .dataframe thead th {\n",
       "        text-align: right;\n",
       "    }\n",
       "</style>\n",
       "<table border=\"1\" class=\"dataframe\">\n",
       "  <thead>\n",
       "    <tr style=\"text-align: right;\">\n",
       "      <th></th>\n",
       "      <th>t_id</th>\n",
       "      <th>ordering</th>\n",
       "      <th>n_id</th>\n",
       "      <th>job_category</th>\n",
       "      <th>job_title</th>\n",
       "      <th>character_played</th>\n",
       "    </tr>\n",
       "  </thead>\n",
       "  <tbody>\n",
       "    <tr>\n",
       "      <th>0</th>\n",
       "      <td>1</td>\n",
       "      <td>1</td>\n",
       "      <td>1588970</td>\n",
       "      <td>self</td>\n",
       "      <td>NaN</td>\n",
       "      <td>[\"Self\"]</td>\n",
       "    </tr>\n",
       "    <tr>\n",
       "      <th>1</th>\n",
       "      <td>1</td>\n",
       "      <td>2</td>\n",
       "      <td>5690</td>\n",
       "      <td>director</td>\n",
       "      <td>NaN</td>\n",
       "      <td>NaN</td>\n",
       "    </tr>\n",
       "    <tr>\n",
       "      <th>2</th>\n",
       "      <td>1</td>\n",
       "      <td>3</td>\n",
       "      <td>374658</td>\n",
       "      <td>cinematographer</td>\n",
       "      <td>director of photography</td>\n",
       "      <td>NaN</td>\n",
       "    </tr>\n",
       "    <tr>\n",
       "      <th>3</th>\n",
       "      <td>2</td>\n",
       "      <td>1</td>\n",
       "      <td>721526</td>\n",
       "      <td>director</td>\n",
       "      <td>NaN</td>\n",
       "      <td>NaN</td>\n",
       "    </tr>\n",
       "    <tr>\n",
       "      <th>4</th>\n",
       "      <td>2</td>\n",
       "      <td>2</td>\n",
       "      <td>1335271</td>\n",
       "      <td>composer</td>\n",
       "      <td>NaN</td>\n",
       "      <td>NaN</td>\n",
       "    </tr>\n",
       "  </tbody>\n",
       "</table>\n",
       "</div>"
      ],
      "text/plain": [
       "   t_id  ordering     n_id     job_category                job_title  \\\n",
       "0     1         1  1588970             self                      NaN   \n",
       "1     1         2     5690         director                      NaN   \n",
       "2     1         3   374658  cinematographer  director of photography   \n",
       "3     2         1   721526         director                      NaN   \n",
       "4     2         2  1335271         composer                      NaN   \n",
       "\n",
       "  character_played  \n",
       "0         [\"Self\"]  \n",
       "1              NaN  \n",
       "2              NaN  \n",
       "3              NaN  \n",
       "4              NaN  "
      ]
     },
     "execution_count": 21,
     "metadata": {},
     "output_type": "execute_result"
    }
   ],
   "source": [
    "df_principals = clean_df(df_principals)\n",
    "df_principals.head()"
   ]
  },
  {
   "cell_type": "markdown",
   "metadata": {},
   "source": [
    "### Export title_principals \n",
    "\n",
    "Now that we have correct missing values and ids, let's export it!"
   ]
  },
  {
   "cell_type": "code",
   "execution_count": 22,
   "metadata": {
    "ExecuteTime": {
     "end_time": "2021-05-28T04:13:21.184579Z",
     "start_time": "2021-05-28T04:11:36.615892Z"
    }
   },
   "outputs": [],
   "source": [
    "df_principals.to_csv(directory + \"/principals.csv\", index=False)\n",
    "os.remove(directory + \"/title_principals.tsv\")"
   ]
  },
  {
   "cell_type": "markdown",
   "metadata": {},
   "source": [
    "<hr style=\"height:.9px;border:none;color:#333;background-color:#333;\" />\n",
    "\n",
    "## Ratings\n",
    "\n",
    "Finally a light file... The lightest actually!\n",
    "\n",
    "### Import file"
   ]
  },
  {
   "cell_type": "code",
   "execution_count": 23,
   "metadata": {
    "ExecuteTime": {
     "end_time": "2021-05-28T04:13:22.177300Z",
     "start_time": "2021-05-28T04:13:21.187967Z"
    }
   },
   "outputs": [
    {
     "data": {
      "text/plain": [
       "(1155733, 3)"
      ]
     },
     "execution_count": 23,
     "metadata": {},
     "output_type": "execute_result"
    }
   ],
   "source": [
    "df_ratings = pd.read_csv(directory + \"/title_ratings.tsv\", delimiter=\"\\t\", low_memory=False)\n",
    "\n",
    "df_ratings.shape"
   ]
  },
  {
   "cell_type": "code",
   "execution_count": 24,
   "metadata": {
    "ExecuteTime": {
     "end_time": "2021-05-28T04:13:22.185144Z",
     "start_time": "2021-05-28T04:13:22.179579Z"
    }
   },
   "outputs": [],
   "source": [
    "df_ratings.columns = ['t_id', 'rating', 'votes']"
   ]
  },
  {
   "cell_type": "markdown",
   "metadata": {
    "ExecuteTime": {
     "end_time": "2021-05-27T21:41:05.403727Z",
     "start_time": "2021-05-27T21:41:05.400262Z"
    }
   },
   "source": [
    "### Replacing missing values & id of id_columns\n"
   ]
  },
  {
   "cell_type": "code",
   "execution_count": 25,
   "metadata": {
    "ExecuteTime": {
     "end_time": "2021-05-28T04:13:24.152480Z",
     "start_time": "2021-05-28T04:13:22.193271Z"
    }
   },
   "outputs": [
    {
     "data": {
      "text/html": [
       "<div>\n",
       "<style scoped>\n",
       "    .dataframe tbody tr th:only-of-type {\n",
       "        vertical-align: middle;\n",
       "    }\n",
       "\n",
       "    .dataframe tbody tr th {\n",
       "        vertical-align: top;\n",
       "    }\n",
       "\n",
       "    .dataframe thead th {\n",
       "        text-align: right;\n",
       "    }\n",
       "</style>\n",
       "<table border=\"1\" class=\"dataframe\">\n",
       "  <thead>\n",
       "    <tr style=\"text-align: right;\">\n",
       "      <th></th>\n",
       "      <th>t_id</th>\n",
       "      <th>rating</th>\n",
       "      <th>votes</th>\n",
       "    </tr>\n",
       "  </thead>\n",
       "  <tbody>\n",
       "    <tr>\n",
       "      <th>0</th>\n",
       "      <td>1</td>\n",
       "      <td>5.7</td>\n",
       "      <td>1702</td>\n",
       "    </tr>\n",
       "    <tr>\n",
       "      <th>1</th>\n",
       "      <td>2</td>\n",
       "      <td>6.1</td>\n",
       "      <td>210</td>\n",
       "    </tr>\n",
       "    <tr>\n",
       "      <th>2</th>\n",
       "      <td>3</td>\n",
       "      <td>6.5</td>\n",
       "      <td>1462</td>\n",
       "    </tr>\n",
       "    <tr>\n",
       "      <th>3</th>\n",
       "      <td>4</td>\n",
       "      <td>6.2</td>\n",
       "      <td>123</td>\n",
       "    </tr>\n",
       "    <tr>\n",
       "      <th>4</th>\n",
       "      <td>5</td>\n",
       "      <td>6.2</td>\n",
       "      <td>2262</td>\n",
       "    </tr>\n",
       "  </tbody>\n",
       "</table>\n",
       "</div>"
      ],
      "text/plain": [
       "   t_id  rating  votes\n",
       "0     1     5.7   1702\n",
       "1     2     6.1    210\n",
       "2     3     6.5   1462\n",
       "3     4     6.2    123\n",
       "4     5     6.2   2262"
      ]
     },
     "execution_count": 25,
     "metadata": {},
     "output_type": "execute_result"
    }
   ],
   "source": [
    "df_ratings = clean_df(df_ratings)\n",
    "df_ratings.head()\n"
   ]
  },
  {
   "cell_type": "markdown",
   "metadata": {},
   "source": [
    "### Export Ratings \n",
    "\n",
    "Now that we have correct missing values and ids, let's export it!"
   ]
  },
  {
   "cell_type": "code",
   "execution_count": 26,
   "metadata": {
    "ExecuteTime": {
     "end_time": "2021-05-28T04:13:26.058109Z",
     "start_time": "2021-05-28T04:13:24.156745Z"
    }
   },
   "outputs": [],
   "source": [
    "df_ratings.to_csv(directory + \"/ratings.csv\", index=False)\n",
    "os.remove(directory + \"/title_ratings.tsv\")"
   ]
  },
  {
   "cell_type": "markdown",
   "metadata": {},
   "source": [
    "<hr style=\"height:.9px;border:none;color:#333;background-color:#333;\" />\n",
    "\n",
    "## Episode\n",
    "\n",
    "### Import file"
   ]
  },
  {
   "cell_type": "code",
   "execution_count": 27,
   "metadata": {
    "ExecuteTime": {
     "end_time": "2021-05-28T04:13:33.893720Z",
     "start_time": "2021-05-28T04:13:26.061950Z"
    }
   },
   "outputs": [
    {
     "data": {
      "text/plain": [
       "(5792364, 4)"
      ]
     },
     "execution_count": 27,
     "metadata": {},
     "output_type": "execute_result"
    }
   ],
   "source": [
    "df_episode = pd.read_csv(directory + \"/title_episode.tsv\", delimiter=\"\\t\", low_memory=False)\n",
    "df_episode.shape"
   ]
  },
  {
   "cell_type": "markdown",
   "metadata": {},
   "source": [
    "`parent_id` is the name of the TV-show where `t_id` is the title of the episode. For movies, `t_id` is the title of the movie.\n"
   ]
  },
  {
   "cell_type": "code",
   "execution_count": 28,
   "metadata": {
    "ExecuteTime": {
     "end_time": "2021-05-28T04:13:33.929430Z",
     "start_time": "2021-05-28T04:13:33.903931Z"
    }
   },
   "outputs": [],
   "source": [
    "df_episode.columns = ['t_id', 'parent_id', 'season', 'episode']"
   ]
  },
  {
   "cell_type": "markdown",
   "metadata": {},
   "source": [
    "### Replacing missing values & id of id_columns\n"
   ]
  },
  {
   "cell_type": "code",
   "execution_count": 29,
   "metadata": {
    "ExecuteTime": {
     "end_time": "2021-05-28T04:14:00.252558Z",
     "start_time": "2021-05-28T04:13:33.933049Z"
    }
   },
   "outputs": [
    {
     "data": {
      "text/html": [
       "<div>\n",
       "<style scoped>\n",
       "    .dataframe tbody tr th:only-of-type {\n",
       "        vertical-align: middle;\n",
       "    }\n",
       "\n",
       "    .dataframe tbody tr th {\n",
       "        vertical-align: top;\n",
       "    }\n",
       "\n",
       "    .dataframe thead th {\n",
       "        text-align: right;\n",
       "    }\n",
       "</style>\n",
       "<table border=\"1\" class=\"dataframe\">\n",
       "  <thead>\n",
       "    <tr style=\"text-align: right;\">\n",
       "      <th></th>\n",
       "      <th>t_id</th>\n",
       "      <th>parent_id</th>\n",
       "      <th>season</th>\n",
       "      <th>episode</th>\n",
       "    </tr>\n",
       "  </thead>\n",
       "  <tbody>\n",
       "    <tr>\n",
       "      <th>0</th>\n",
       "      <td>41951</td>\n",
       "      <td>41038</td>\n",
       "      <td>1</td>\n",
       "      <td>9</td>\n",
       "    </tr>\n",
       "    <tr>\n",
       "      <th>1</th>\n",
       "      <td>42816</td>\n",
       "      <td>989125</td>\n",
       "      <td>1</td>\n",
       "      <td>17</td>\n",
       "    </tr>\n",
       "    <tr>\n",
       "      <th>2</th>\n",
       "      <td>42889</td>\n",
       "      <td>989125</td>\n",
       "      <td>NaN</td>\n",
       "      <td>NaN</td>\n",
       "    </tr>\n",
       "    <tr>\n",
       "      <th>3</th>\n",
       "      <td>43426</td>\n",
       "      <td>40051</td>\n",
       "      <td>3</td>\n",
       "      <td>42</td>\n",
       "    </tr>\n",
       "    <tr>\n",
       "      <th>4</th>\n",
       "      <td>43631</td>\n",
       "      <td>989125</td>\n",
       "      <td>2</td>\n",
       "      <td>16</td>\n",
       "    </tr>\n",
       "  </tbody>\n",
       "</table>\n",
       "</div>"
      ],
      "text/plain": [
       "    t_id  parent_id season episode\n",
       "0  41951      41038      1       9\n",
       "1  42816     989125      1      17\n",
       "2  42889     989125    NaN     NaN\n",
       "3  43426      40051      3      42\n",
       "4  43631     989125      2      16"
      ]
     },
     "execution_count": 29,
     "metadata": {},
     "output_type": "execute_result"
    }
   ],
   "source": [
    "df_episode = clean_df(df_episode)\n",
    "df_episode.head()"
   ]
  },
  {
   "cell_type": "markdown",
   "metadata": {},
   "source": [
    "### Export Episodes \n",
    "\n",
    "Now that we have correct missing values and ids, let's export it!"
   ]
  },
  {
   "cell_type": "code",
   "execution_count": 30,
   "metadata": {
    "ExecuteTime": {
     "end_time": "2021-05-28T04:14:10.039042Z",
     "start_time": "2021-05-28T04:14:00.258980Z"
    }
   },
   "outputs": [],
   "source": [
    "df_episode.to_csv(directory + \"/episode.csv\", index=False)\n",
    "os.remove(directory + \"/title_episode.tsv\")"
   ]
  },
  {
   "cell_type": "markdown",
   "metadata": {},
   "source": [
    "<hr style=\"height:.9px;border:none;color:#333;background-color:#333;\" />\n",
    "\n",
    "## Crew\n",
    "\n",
    "### Import file"
   ]
  },
  {
   "cell_type": "code",
   "execution_count": 31,
   "metadata": {
    "ExecuteTime": {
     "end_time": "2021-05-28T04:14:23.434042Z",
     "start_time": "2021-05-28T04:14:10.044773Z"
    }
   },
   "outputs": [
    {
     "data": {
      "text/plain": [
       "(7939695, 3)"
      ]
     },
     "execution_count": 31,
     "metadata": {},
     "output_type": "execute_result"
    }
   ],
   "source": [
    "df_crew = pd.read_csv(directory + \"/title_crew.tsv\", delimiter=\"\\t\", low_memory=False)\n",
    "df_crew.shape"
   ]
  },
  {
   "cell_type": "code",
   "execution_count": 32,
   "metadata": {
    "ExecuteTime": {
     "end_time": "2021-05-28T04:14:23.446130Z",
     "start_time": "2021-05-28T04:14:23.438727Z"
    }
   },
   "outputs": [],
   "source": [
    "df_crew.columns = ['t_id', 'directors', 'writers']"
   ]
  },
  {
   "cell_type": "markdown",
   "metadata": {},
   "source": [
    "### Replacing missing values & id of id_columns\n"
   ]
  },
  {
   "cell_type": "code",
   "execution_count": 33,
   "metadata": {
    "ExecuteTime": {
     "end_time": "2021-05-28T04:14:41.895214Z",
     "start_time": "2021-05-28T04:14:23.452858Z"
    }
   },
   "outputs": [
    {
     "data": {
      "text/html": [
       "<div>\n",
       "<style scoped>\n",
       "    .dataframe tbody tr th:only-of-type {\n",
       "        vertical-align: middle;\n",
       "    }\n",
       "\n",
       "    .dataframe tbody tr th {\n",
       "        vertical-align: top;\n",
       "    }\n",
       "\n",
       "    .dataframe thead th {\n",
       "        text-align: right;\n",
       "    }\n",
       "</style>\n",
       "<table border=\"1\" class=\"dataframe\">\n",
       "  <thead>\n",
       "    <tr style=\"text-align: right;\">\n",
       "      <th></th>\n",
       "      <th>t_id</th>\n",
       "      <th>directors</th>\n",
       "      <th>writers</th>\n",
       "    </tr>\n",
       "  </thead>\n",
       "  <tbody>\n",
       "    <tr>\n",
       "      <th>0</th>\n",
       "      <td>1</td>\n",
       "      <td>nm0005690</td>\n",
       "      <td>NaN</td>\n",
       "    </tr>\n",
       "    <tr>\n",
       "      <th>1</th>\n",
       "      <td>2</td>\n",
       "      <td>nm0721526</td>\n",
       "      <td>NaN</td>\n",
       "    </tr>\n",
       "    <tr>\n",
       "      <th>2</th>\n",
       "      <td>3</td>\n",
       "      <td>nm0721526</td>\n",
       "      <td>NaN</td>\n",
       "    </tr>\n",
       "    <tr>\n",
       "      <th>3</th>\n",
       "      <td>4</td>\n",
       "      <td>nm0721526</td>\n",
       "      <td>NaN</td>\n",
       "    </tr>\n",
       "    <tr>\n",
       "      <th>4</th>\n",
       "      <td>5</td>\n",
       "      <td>nm0005690</td>\n",
       "      <td>NaN</td>\n",
       "    </tr>\n",
       "  </tbody>\n",
       "</table>\n",
       "</div>"
      ],
      "text/plain": [
       "   t_id  directors writers\n",
       "0     1  nm0005690     NaN\n",
       "1     2  nm0721526     NaN\n",
       "2     3  nm0721526     NaN\n",
       "3     4  nm0721526     NaN\n",
       "4     5  nm0005690     NaN"
      ]
     },
     "execution_count": 33,
     "metadata": {},
     "output_type": "execute_result"
    }
   ],
   "source": [
    "df_crew = clean_df(df_crew)\n",
    "df_crew.head()"
   ]
  },
  {
   "cell_type": "markdown",
   "metadata": {},
   "source": [
    "### Flat out the table \n",
    "\n",
    "Some ids have multiple directors and/or writers, I want each row to have one value only. I'm basically redoing what I did in `4.1.6`"
   ]
  },
  {
   "cell_type": "code",
   "execution_count": 34,
   "metadata": {
    "ExecuteTime": {
     "end_time": "2021-05-28T04:22:43.590388Z",
     "start_time": "2021-05-28T04:14:41.898922Z"
    }
   },
   "outputs": [
    {
     "name": "stdout",
     "output_type": "stream",
     "text": [
      "7,900,000 / 7,939,695 - 5,978,662 / 9,094,823                    \r"
     ]
    }
   ],
   "source": [
    "on() # To keep th \n",
    "\n",
    "directors_lst = []\n",
    "writers_lst = []\n",
    "\n",
    "length = len(df_crew[\"t_id\"])\n",
    "for index in range(length):\n",
    "    t_id = df_crew.loc[index, \"t_id\"]\n",
    "    directors = df_crew.loc[index, \"directors\"]\n",
    "    writers = df_crew.loc[index, \"writers\"]\n",
    "    \n",
    "    if type(directors) == str:\n",
    "        for director in directors.split(\",\"):\n",
    "            directors_lst.append([t_id, director])\n",
    "    \n",
    "    if type(writers) == str:\n",
    "        for writer in writers.split(\",\"):\n",
    "            writers_lst.append([t_id, director])\n",
    "    \n",
    "    \n",
    "    if index % 100000 == 0:\n",
    "        print(f\"{index:,d} / {length:,d} - {len(directors_lst):,d} / {len(writers_lst):,d}\" + \" \"*20, end=\"\\r\")\n",
    "    "
   ]
  },
  {
   "cell_type": "code",
   "execution_count": 35,
   "metadata": {
    "ExecuteTime": {
     "end_time": "2021-05-28T04:23:01.679957Z",
     "start_time": "2021-05-28T04:22:43.595890Z"
    }
   },
   "outputs": [
    {
     "data": {
      "text/plain": [
       "(20459228, 3)"
      ]
     },
     "execution_count": 35,
     "metadata": {},
     "output_type": "execute_result"
    }
   ],
   "source": [
    "df_directors = pd.DataFrame(directors_lst, columns = [\"t_id\", \"directors\"])\n",
    "df_writers = pd.DataFrame(writers_lst, columns = [\"t_id\", \"writers\"])\n",
    "\n",
    "df_crew = df_directors.merge(df_writers, how=\"outer\")\n",
    "df_crew.shape"
   ]
  },
  {
   "cell_type": "markdown",
   "metadata": {},
   "source": [
    "### Export Crew \n",
    "\n",
    "Now that we have correct missing values and ids, let's export it!"
   ]
  },
  {
   "cell_type": "code",
   "execution_count": 36,
   "metadata": {
    "ExecuteTime": {
     "end_time": "2021-05-28T04:23:37.746735Z",
     "start_time": "2021-05-28T04:23:01.685130Z"
    }
   },
   "outputs": [],
   "source": [
    "df_crew.to_csv(directory + \"/crew.csv\", index=False)\n",
    "os.remove(directory + \"/title_crew.tsv\")"
   ]
  },
  {
   "cell_type": "markdown",
   "metadata": {},
   "source": [
    "<hr style=\"height:.9px;border:none;color:#333;background-color:#333;\" />\n",
    "\n",
    "## Akas\n",
    "\n",
    "### Import file"
   ]
  },
  {
   "cell_type": "code",
   "execution_count": 37,
   "metadata": {
    "ExecuteTime": {
     "end_time": "2021-05-28T04:25:27.392410Z",
     "start_time": "2021-05-28T04:23:37.748716Z"
    }
   },
   "outputs": [
    {
     "data": {
      "text/plain": [
       "(26400094, 8)"
      ]
     },
     "execution_count": 37,
     "metadata": {},
     "output_type": "execute_result"
    }
   ],
   "source": [
    "df_akas = pd.read_csv(directory + \"/title_akas.tsv\", delimiter=\"\\t\", low_memory=False)\n",
    "\n",
    "df_akas.shape"
   ]
  },
  {
   "cell_type": "code",
   "execution_count": 38,
   "metadata": {
    "ExecuteTime": {
     "end_time": "2021-05-28T04:25:27.442938Z",
     "start_time": "2021-05-28T04:25:27.406764Z"
    }
   },
   "outputs": [],
   "source": [
    "df_akas.columns = ['t_id', 'ordering', 'title', 'region', 'language', \n",
    "                   'types', 'attributes', 'isOriginalTitle']"
   ]
  },
  {
   "cell_type": "markdown",
   "metadata": {},
   "source": [
    "### Replacing missing values & id of id_columns\n"
   ]
  },
  {
   "cell_type": "code",
   "execution_count": 39,
   "metadata": {
    "ExecuteTime": {
     "end_time": "2021-05-28T04:26:24.862524Z",
     "start_time": "2021-05-28T04:25:27.450220Z"
    }
   },
   "outputs": [
    {
     "data": {
      "text/html": [
       "<div>\n",
       "<style scoped>\n",
       "    .dataframe tbody tr th:only-of-type {\n",
       "        vertical-align: middle;\n",
       "    }\n",
       "\n",
       "    .dataframe tbody tr th {\n",
       "        vertical-align: top;\n",
       "    }\n",
       "\n",
       "    .dataframe thead th {\n",
       "        text-align: right;\n",
       "    }\n",
       "</style>\n",
       "<table border=\"1\" class=\"dataframe\">\n",
       "  <thead>\n",
       "    <tr style=\"text-align: right;\">\n",
       "      <th></th>\n",
       "      <th>t_id</th>\n",
       "      <th>ordering</th>\n",
       "      <th>title</th>\n",
       "      <th>region</th>\n",
       "      <th>language</th>\n",
       "      <th>types</th>\n",
       "      <th>attributes</th>\n",
       "      <th>isOriginalTitle</th>\n",
       "    </tr>\n",
       "  </thead>\n",
       "  <tbody>\n",
       "    <tr>\n",
       "      <th>0</th>\n",
       "      <td>1</td>\n",
       "      <td>1</td>\n",
       "      <td>Карменсіта</td>\n",
       "      <td>UA</td>\n",
       "      <td>NaN</td>\n",
       "      <td>imdbDisplay</td>\n",
       "      <td>NaN</td>\n",
       "      <td>0</td>\n",
       "    </tr>\n",
       "    <tr>\n",
       "      <th>1</th>\n",
       "      <td>1</td>\n",
       "      <td>2</td>\n",
       "      <td>Carmencita</td>\n",
       "      <td>DE</td>\n",
       "      <td>NaN</td>\n",
       "      <td>NaN</td>\n",
       "      <td>literal title</td>\n",
       "      <td>0</td>\n",
       "    </tr>\n",
       "    <tr>\n",
       "      <th>2</th>\n",
       "      <td>1</td>\n",
       "      <td>3</td>\n",
       "      <td>Carmencita - spanyol tánc</td>\n",
       "      <td>HU</td>\n",
       "      <td>NaN</td>\n",
       "      <td>imdbDisplay</td>\n",
       "      <td>NaN</td>\n",
       "      <td>0</td>\n",
       "    </tr>\n",
       "    <tr>\n",
       "      <th>3</th>\n",
       "      <td>1</td>\n",
       "      <td>4</td>\n",
       "      <td>Καρμενσίτα</td>\n",
       "      <td>GR</td>\n",
       "      <td>NaN</td>\n",
       "      <td>imdbDisplay</td>\n",
       "      <td>NaN</td>\n",
       "      <td>0</td>\n",
       "    </tr>\n",
       "    <tr>\n",
       "      <th>4</th>\n",
       "      <td>1</td>\n",
       "      <td>5</td>\n",
       "      <td>Карменсита</td>\n",
       "      <td>RU</td>\n",
       "      <td>NaN</td>\n",
       "      <td>imdbDisplay</td>\n",
       "      <td>NaN</td>\n",
       "      <td>0</td>\n",
       "    </tr>\n",
       "  </tbody>\n",
       "</table>\n",
       "</div>"
      ],
      "text/plain": [
       "   t_id  ordering                      title region language        types  \\\n",
       "0     1         1                 Карменсіта     UA      NaN  imdbDisplay   \n",
       "1     1         2                 Carmencita     DE      NaN          NaN   \n",
       "2     1         3  Carmencita - spanyol tánc     HU      NaN  imdbDisplay   \n",
       "3     1         4                 Καρμενσίτα     GR      NaN  imdbDisplay   \n",
       "4     1         5                 Карменсита     RU      NaN  imdbDisplay   \n",
       "\n",
       "      attributes isOriginalTitle  \n",
       "0            NaN               0  \n",
       "1  literal title               0  \n",
       "2            NaN               0  \n",
       "3            NaN               0  \n",
       "4            NaN               0  "
      ]
     },
     "execution_count": 39,
     "metadata": {},
     "output_type": "execute_result"
    }
   ],
   "source": [
    "df_akas = clean_df(df_akas)\n",
    "df_akas.head()"
   ]
  },
  {
   "cell_type": "markdown",
   "metadata": {},
   "source": [
    "### Export Akas \n",
    "\n",
    "Now that we have correct missing values and ids, let's export it!"
   ]
  },
  {
   "cell_type": "code",
   "execution_count": 40,
   "metadata": {
    "ExecuteTime": {
     "end_time": "2021-05-28T04:27:34.757964Z",
     "start_time": "2021-05-28T04:26:24.867683Z"
    }
   },
   "outputs": [],
   "source": [
    "df_akas.to_csv(directory + \"/akas.csv\", index=False)\n",
    "os.remove(directory + \"/title_akas.tsv\")"
   ]
  },
  {
   "cell_type": "markdown",
   "metadata": {},
   "source": [
    "<hr style=\"height:.9px;border:none;color:#333;background-color:#333;\" />\n",
    "\n",
    "## Names\n",
    "\n",
    "### Import file"
   ]
  },
  {
   "cell_type": "code",
   "execution_count": 41,
   "metadata": {
    "ExecuteTime": {
     "end_time": "2021-05-28T04:28:13.331582Z",
     "start_time": "2021-05-28T04:27:34.763073Z"
    }
   },
   "outputs": [
    {
     "data": {
      "text/plain": [
       "(10956997, 6)"
      ]
     },
     "execution_count": 41,
     "metadata": {},
     "output_type": "execute_result"
    }
   ],
   "source": [
    "df_names = pd.read_csv(directory + \"/name_basics.tsv\", delimiter=\"\\t\", low_memory=False)\n",
    "\n",
    "df_names.shape"
   ]
  },
  {
   "cell_type": "code",
   "execution_count": 42,
   "metadata": {
    "ExecuteTime": {
     "end_time": "2021-05-28T04:28:13.355146Z",
     "start_time": "2021-05-28T04:28:13.342984Z"
    }
   },
   "outputs": [],
   "source": [
    "df_names.columns = ['n_id', 'name', 'birth', \n",
    "                          'death', 'profession','known_for']\n"
   ]
  },
  {
   "cell_type": "markdown",
   "metadata": {},
   "source": [
    "### Replacing missing values & id of id_columns\n"
   ]
  },
  {
   "cell_type": "code",
   "execution_count": 43,
   "metadata": {
    "ExecuteTime": {
     "end_time": "2021-05-28T04:28:36.853150Z",
     "start_time": "2021-05-28T04:28:13.360501Z"
    }
   },
   "outputs": [
    {
     "data": {
      "text/html": [
       "<div>\n",
       "<style scoped>\n",
       "    .dataframe tbody tr th:only-of-type {\n",
       "        vertical-align: middle;\n",
       "    }\n",
       "\n",
       "    .dataframe tbody tr th {\n",
       "        vertical-align: top;\n",
       "    }\n",
       "\n",
       "    .dataframe thead th {\n",
       "        text-align: right;\n",
       "    }\n",
       "</style>\n",
       "<table border=\"1\" class=\"dataframe\">\n",
       "  <thead>\n",
       "    <tr style=\"text-align: right;\">\n",
       "      <th></th>\n",
       "      <th>n_id</th>\n",
       "      <th>name</th>\n",
       "      <th>birth</th>\n",
       "      <th>death</th>\n",
       "      <th>profession</th>\n",
       "      <th>known_for</th>\n",
       "    </tr>\n",
       "  </thead>\n",
       "  <tbody>\n",
       "    <tr>\n",
       "      <th>0</th>\n",
       "      <td>1</td>\n",
       "      <td>Fred Astaire</td>\n",
       "      <td>1899</td>\n",
       "      <td>1987</td>\n",
       "      <td>soundtrack,actor,miscellaneous</td>\n",
       "      <td>tt0053137,tt0031983,tt0072308,tt0050419</td>\n",
       "    </tr>\n",
       "    <tr>\n",
       "      <th>1</th>\n",
       "      <td>2</td>\n",
       "      <td>Lauren Bacall</td>\n",
       "      <td>1924</td>\n",
       "      <td>2014</td>\n",
       "      <td>actress,soundtrack</td>\n",
       "      <td>tt0071877,tt0037382,tt0117057,tt0038355</td>\n",
       "    </tr>\n",
       "    <tr>\n",
       "      <th>2</th>\n",
       "      <td>3</td>\n",
       "      <td>Brigitte Bardot</td>\n",
       "      <td>1934</td>\n",
       "      <td>NaN</td>\n",
       "      <td>actress,soundtrack,music_department</td>\n",
       "      <td>tt0056404,tt0049189,tt0057345,tt0054452</td>\n",
       "    </tr>\n",
       "    <tr>\n",
       "      <th>3</th>\n",
       "      <td>4</td>\n",
       "      <td>John Belushi</td>\n",
       "      <td>1949</td>\n",
       "      <td>1982</td>\n",
       "      <td>actor,soundtrack,writer</td>\n",
       "      <td>tt0080455,tt0072562,tt0077975,tt0078723</td>\n",
       "    </tr>\n",
       "    <tr>\n",
       "      <th>4</th>\n",
       "      <td>5</td>\n",
       "      <td>Ingmar Bergman</td>\n",
       "      <td>1918</td>\n",
       "      <td>2007</td>\n",
       "      <td>writer,director,actor</td>\n",
       "      <td>tt0060827,tt0069467,tt0050976,tt0050986</td>\n",
       "    </tr>\n",
       "  </tbody>\n",
       "</table>\n",
       "</div>"
      ],
      "text/plain": [
       "   n_id             name birth death                           profession  \\\n",
       "0     1     Fred Astaire  1899  1987       soundtrack,actor,miscellaneous   \n",
       "1     2    Lauren Bacall  1924  2014                   actress,soundtrack   \n",
       "2     3  Brigitte Bardot  1934   NaN  actress,soundtrack,music_department   \n",
       "3     4     John Belushi  1949  1982              actor,soundtrack,writer   \n",
       "4     5   Ingmar Bergman  1918  2007                writer,director,actor   \n",
       "\n",
       "                                 known_for  \n",
       "0  tt0053137,tt0031983,tt0072308,tt0050419  \n",
       "1  tt0071877,tt0037382,tt0117057,tt0038355  \n",
       "2  tt0056404,tt0049189,tt0057345,tt0054452  \n",
       "3  tt0080455,tt0072562,tt0077975,tt0078723  \n",
       "4  tt0060827,tt0069467,tt0050976,tt0050986  "
      ]
     },
     "execution_count": 43,
     "metadata": {},
     "output_type": "execute_result"
    }
   ],
   "source": [
    "df_names = clean_df(df_names)\n",
    "df_names.head()"
   ]
  },
  {
   "cell_type": "code",
   "execution_count": 44,
   "metadata": {
    "ExecuteTime": {
     "end_time": "2021-05-28T04:28:45.596094Z",
     "start_time": "2021-05-28T04:28:36.857328Z"
    }
   },
   "outputs": [
    {
     "data": {
      "text/html": [
       "<div>\n",
       "<style scoped>\n",
       "    .dataframe tbody tr th:only-of-type {\n",
       "        vertical-align: middle;\n",
       "    }\n",
       "\n",
       "    .dataframe tbody tr th {\n",
       "        vertical-align: top;\n",
       "    }\n",
       "\n",
       "    .dataframe thead th {\n",
       "        text-align: right;\n",
       "    }\n",
       "</style>\n",
       "<table border=\"1\" class=\"dataframe\">\n",
       "  <thead>\n",
       "    <tr style=\"text-align: right;\">\n",
       "      <th></th>\n",
       "      <th>t_id</th>\n",
       "      <th>ordering</th>\n",
       "      <th>n_id</th>\n",
       "      <th>job_category</th>\n",
       "      <th>job_title</th>\n",
       "      <th>character_played</th>\n",
       "    </tr>\n",
       "  </thead>\n",
       "  <tbody>\n",
       "    <tr>\n",
       "      <th>364765</th>\n",
       "      <td>44881</td>\n",
       "      <td>1</td>\n",
       "      <td>3</td>\n",
       "      <td>actress</td>\n",
       "      <td>NaN</td>\n",
       "      <td>[\"Manina\"]</td>\n",
       "    </tr>\n",
       "    <tr>\n",
       "      <th>376459</th>\n",
       "      <td>46200</td>\n",
       "      <td>3</td>\n",
       "      <td>3</td>\n",
       "      <td>actress</td>\n",
       "      <td>NaN</td>\n",
       "      <td>[\"Domino\"]</td>\n",
       "    </tr>\n",
       "    <tr>\n",
       "      <th>388875</th>\n",
       "      <td>47607</td>\n",
       "      <td>1</td>\n",
       "      <td>3</td>\n",
       "      <td>actress</td>\n",
       "      <td>NaN</td>\n",
       "      <td>[\"Anna Schumann\"]</td>\n",
       "    </tr>\n",
       "    <tr>\n",
       "      <th>392444</th>\n",
       "      <td>48001</td>\n",
       "      <td>3</td>\n",
       "      <td>3</td>\n",
       "      <td>actress</td>\n",
       "      <td>NaN</td>\n",
       "      <td>[\"Hélène Colbert\"]</td>\n",
       "    </tr>\n",
       "    <tr>\n",
       "      <th>393367</th>\n",
       "      <td>48103</td>\n",
       "      <td>2</td>\n",
       "      <td>3</td>\n",
       "      <td>actress</td>\n",
       "      <td>NaN</td>\n",
       "      <td>[\"Sophie Dimater\"]</td>\n",
       "    </tr>\n",
       "    <tr>\n",
       "      <th>...</th>\n",
       "      <td>...</td>\n",
       "      <td>...</td>\n",
       "      <td>...</td>\n",
       "      <td>...</td>\n",
       "      <td>...</td>\n",
       "      <td>...</td>\n",
       "    </tr>\n",
       "    <tr>\n",
       "      <th>41940357</th>\n",
       "      <td>8881518</td>\n",
       "      <td>2</td>\n",
       "      <td>3</td>\n",
       "      <td>archive_footage</td>\n",
       "      <td>NaN</td>\n",
       "      <td>[\"Self\"]</td>\n",
       "    </tr>\n",
       "    <tr>\n",
       "      <th>42053126</th>\n",
       "      <td>8920000</td>\n",
       "      <td>3</td>\n",
       "      <td>3</td>\n",
       "      <td>self</td>\n",
       "      <td>NaN</td>\n",
       "      <td>[\"Self\"]</td>\n",
       "    </tr>\n",
       "    <tr>\n",
       "      <th>43180749</th>\n",
       "      <td>9310388</td>\n",
       "      <td>1</td>\n",
       "      <td>3</td>\n",
       "      <td>archive_footage</td>\n",
       "      <td>NaN</td>\n",
       "      <td>[\"Self\"]</td>\n",
       "    </tr>\n",
       "    <tr>\n",
       "      <th>43247549</th>\n",
       "      <td>9332740</td>\n",
       "      <td>2</td>\n",
       "      <td>3</td>\n",
       "      <td>self</td>\n",
       "      <td>NaN</td>\n",
       "      <td>[\"Self\"]</td>\n",
       "    </tr>\n",
       "    <tr>\n",
       "      <th>43540903</th>\n",
       "      <td>9430998</td>\n",
       "      <td>1</td>\n",
       "      <td>3</td>\n",
       "      <td>archive_footage</td>\n",
       "      <td>NaN</td>\n",
       "      <td>[\"Self\"]</td>\n",
       "    </tr>\n",
       "  </tbody>\n",
       "</table>\n",
       "<p>183 rows × 6 columns</p>\n",
       "</div>"
      ],
      "text/plain": [
       "             t_id  ordering  n_id     job_category job_title  \\\n",
       "364765      44881         1     3          actress       NaN   \n",
       "376459      46200         3     3          actress       NaN   \n",
       "388875      47607         1     3          actress       NaN   \n",
       "392444      48001         3     3          actress       NaN   \n",
       "393367      48103         2     3          actress       NaN   \n",
       "...           ...       ...   ...              ...       ...   \n",
       "41940357  8881518         2     3  archive_footage       NaN   \n",
       "42053126  8920000         3     3             self       NaN   \n",
       "43180749  9310388         1     3  archive_footage       NaN   \n",
       "43247549  9332740         2     3             self       NaN   \n",
       "43540903  9430998         1     3  archive_footage       NaN   \n",
       "\n",
       "            character_played  \n",
       "364765            [\"Manina\"]  \n",
       "376459            [\"Domino\"]  \n",
       "388875     [\"Anna Schumann\"]  \n",
       "392444    [\"Hélène Colbert\"]  \n",
       "393367    [\"Sophie Dimater\"]  \n",
       "...                      ...  \n",
       "41940357            [\"Self\"]  \n",
       "42053126            [\"Self\"]  \n",
       "43180749            [\"Self\"]  \n",
       "43247549            [\"Self\"]  \n",
       "43540903            [\"Self\"]  \n",
       "\n",
       "[183 rows x 6 columns]"
      ]
     },
     "execution_count": 44,
     "metadata": {},
     "output_type": "execute_result"
    }
   ],
   "source": [
    "# Calling all movies where Brigitte Bardot played\n",
    "df_principals[df_principals[\"n_id\"] == 3]"
   ]
  },
  {
   "cell_type": "markdown",
   "metadata": {},
   "source": [
    "### Known_for flat out\n",
    "#### Get each movie for which the person is known for\n",
    "\n",
    "\n",
    "Known_for don't represent all the movie of each person so we need to flat it out"
   ]
  },
  {
   "cell_type": "code",
   "execution_count": 45,
   "metadata": {
    "ExecuteTime": {
     "end_time": "2021-05-28T04:41:04.566384Z",
     "start_time": "2021-05-28T04:28:45.602353Z"
    }
   },
   "outputs": [
    {
     "name": "stdout",
     "output_type": "stream",
     "text": [
      "10,900,000 / 10,956,997 - 17,042,496\r"
     ]
    }
   ],
   "source": [
    "data = []\n",
    "\n",
    "for x in range(len(df_names[\"n_id\"])):\n",
    "    n_id = df_names.loc[x, \"n_id\"]\n",
    "    name = df_names.loc[x, \"name\"]\n",
    "    known_for = df_names.loc[x, \"known_for\"]\n",
    "    \n",
    "    if type(known_for) == str:\n",
    "        for movie in known_for.split(\",\"):\n",
    "            data.append([n_id, name, movie])\n",
    "            \n",
    "    if x % 100000 == 0:\n",
    "        length = len(df_names[\"n_id\"])\n",
    "        print(f\"{x:,d} / {length:,d} - {len(data):,d}\", end=\"\\r\")            \n",
    "    "
   ]
  },
  {
   "cell_type": "markdown",
   "metadata": {},
   "source": [
    "#### Create a df for known_for"
   ]
  },
  {
   "cell_type": "code",
   "execution_count": 46,
   "metadata": {
    "ExecuteTime": {
     "end_time": "2021-05-28T04:41:33.589739Z",
     "start_time": "2021-05-28T04:41:04.600088Z"
    }
   },
   "outputs": [
    {
     "data": {
      "text/plain": [
       "(17097804, 3)"
      ]
     },
     "execution_count": 46,
     "metadata": {},
     "output_type": "execute_result"
    }
   ],
   "source": [
    "df_known_for = pd.DataFrame(data, columns = [\"n_id\", \"name\", \"known_for\"])\n",
    "df_known_for.shape"
   ]
  },
  {
   "cell_type": "code",
   "execution_count": 47,
   "metadata": {
    "ExecuteTime": {
     "end_time": "2021-05-28T04:41:33.667629Z",
     "start_time": "2021-05-28T04:41:33.597568Z"
    }
   },
   "outputs": [
    {
     "data": {
      "text/html": [
       "<div>\n",
       "<style scoped>\n",
       "    .dataframe tbody tr th:only-of-type {\n",
       "        vertical-align: middle;\n",
       "    }\n",
       "\n",
       "    .dataframe tbody tr th {\n",
       "        vertical-align: top;\n",
       "    }\n",
       "\n",
       "    .dataframe thead th {\n",
       "        text-align: right;\n",
       "    }\n",
       "</style>\n",
       "<table border=\"1\" class=\"dataframe\">\n",
       "  <thead>\n",
       "    <tr style=\"text-align: right;\">\n",
       "      <th></th>\n",
       "      <th>n_id</th>\n",
       "      <th>name</th>\n",
       "      <th>known_for</th>\n",
       "    </tr>\n",
       "  </thead>\n",
       "  <tbody>\n",
       "    <tr>\n",
       "      <th>0</th>\n",
       "      <td>1</td>\n",
       "      <td>Fred Astaire</td>\n",
       "      <td>tt0053137</td>\n",
       "    </tr>\n",
       "    <tr>\n",
       "      <th>1</th>\n",
       "      <td>1</td>\n",
       "      <td>Fred Astaire</td>\n",
       "      <td>tt0031983</td>\n",
       "    </tr>\n",
       "    <tr>\n",
       "      <th>2</th>\n",
       "      <td>1</td>\n",
       "      <td>Fred Astaire</td>\n",
       "      <td>tt0072308</td>\n",
       "    </tr>\n",
       "    <tr>\n",
       "      <th>3</th>\n",
       "      <td>1</td>\n",
       "      <td>Fred Astaire</td>\n",
       "      <td>tt0050419</td>\n",
       "    </tr>\n",
       "    <tr>\n",
       "      <th>4</th>\n",
       "      <td>2</td>\n",
       "      <td>Lauren Bacall</td>\n",
       "      <td>tt0071877</td>\n",
       "    </tr>\n",
       "  </tbody>\n",
       "</table>\n",
       "</div>"
      ],
      "text/plain": [
       "   n_id           name  known_for\n",
       "0     1   Fred Astaire  tt0053137\n",
       "1     1   Fred Astaire  tt0031983\n",
       "2     1   Fred Astaire  tt0072308\n",
       "3     1   Fred Astaire  tt0050419\n",
       "4     2  Lauren Bacall  tt0071877"
      ]
     },
     "execution_count": 47,
     "metadata": {},
     "output_type": "execute_result"
    }
   ],
   "source": [
    "df_known_for.head()"
   ]
  },
  {
   "cell_type": "markdown",
   "metadata": {},
   "source": [
    "### Export both tables: Akas and Known_for\n",
    "\n",
    "Now that we have correct missing values and ids, let's export it!"
   ]
  },
  {
   "cell_type": "code",
   "execution_count": 48,
   "metadata": {
    "ExecuteTime": {
     "end_time": "2021-05-28T04:42:38.933792Z",
     "start_time": "2021-05-28T04:41:33.672105Z"
    }
   },
   "outputs": [],
   "source": [
    "df_known_for.to_csv(directory + \"/known_for.csv\", index=False)\n",
    "\n",
    "# We don't need genre column in basics as we have a new df for it \n",
    "df_names.drop(\"known_for\", axis=1).to_csv(directory + \"/names.csv\", index=False)\n",
    "os.remove(directory + \"/name_basics.tsv\")"
   ]
  },
  {
   "cell_type": "code",
   "execution_count": null,
   "metadata": {},
   "outputs": [],
   "source": [
    "\n",
    "\n",
    "\n",
    "\n",
    "\n",
    "\n",
    "\n",
    "\n",
    "\n",
    "\n",
    "\n",
    "\n",
    "\n",
    "\n",
    "\n",
    "\n",
    "\n",
    "\n",
    "\n",
    "\n",
    "\n",
    "\n",
    "\n",
    "\n",
    "\n"
   ]
  },
  {
   "cell_type": "code",
   "execution_count": null,
   "metadata": {},
   "outputs": [],
   "source": []
  },
  {
   "cell_type": "code",
   "execution_count": null,
   "metadata": {},
   "outputs": [],
   "source": []
  },
  {
   "cell_type": "code",
   "execution_count": 49,
   "metadata": {
    "ExecuteTime": {
     "end_time": "2021-05-28T04:42:39.099589Z",
     "start_time": "2021-05-28T04:42:38.960077Z"
    }
   },
   "outputs": [
    {
     "name": "stdout",
     "output_type": "stream",
     "text": [
      "✅✅✅✅✅✅✅✅✅✅✅✅✅✅✅✅✅✅✅✅✅✅✅✅✅✅✅✅✅✅✅✅✅✅✅✅✅✅✅✅✅✅✅✅✅✅✅✅✅✅✅✅✅✅✅✅✅✅✅✅✅✅✅✅✅✅✅✅✅✅✅✅✅✅✅✅✅✅✅✅✅✅✅✅✅✅✅✅✅✅✅✅✅✅✅✅✅✅✅✅✅✅✅✅✅✅✅✅✅✅✅✅✅✅✅✅✅✅✅✅✅✅✅✅✅✅✅✅✅✅✅✅✅✅✅✅✅✅✅✅✅✅✅✅✅✅✅✅✅✅✅✅✅✅✅✅✅✅✅✅✅✅✅✅✅✅✅✅✅✅✅✅✅✅✅✅✅✅✅✅✅✅✅✅✅✅✅✅✅✅✅✅✅✅✅✅✅✅✅✅✅✅✅✅✅✅✅✅✅✅✅✅✅✅✅✅✅✅✅✅✅✅✅✅✅✅✅✅✅✅✅✅✅✅✅✅✅✅✅✅✅✅✅✅✅✅✅✅✅✅✅✅✅✅✅✅✅✅✅✅✅✅✅✅✅✅✅✅✅✅✅✅✅✅✅✅✅✅✅✅✅✅✅✅✅✅✅✅✅✅✅✅✅✅✅✅✅✅✅✅✅✅✅✅✅✅✅✅✅✅✅✅✅✅✅✅✅✅✅✅✅✅✅✅✅✅✅✅✅✅✅✅✅✅✅✅✅✅✅✅✅✅✅✅✅✅✅✅✅✅✅✅✅✅✅✅✅✅✅✅✅✅✅✅✅✅✅✅✅✅✅✅✅✅✅✅✅✅✅✅✅✅✅✅✅✅✅✅✅✅✅✅✅✅✅✅✅✅✅✅✅✅✅✅✅✅✅✅✅✅✅✅✅✅✅✅✅✅✅✅✅✅✅✅✅✅✅✅✅✅✅✅✅✅✅✅✅✅✅✅✅✅✅✅✅✅✅✅✅✅✅✅✅✅✅✅✅✅✅✅✅✅✅✅✅✅✅✅✅✅✅✅✅✅✅✅✅✅✅✅✅✅✅✅✅✅✅✅✅✅✅✅✅✅✅✅✅✅✅✅✅✅✅✅✅✅✅✅✅✅✅✅✅✅✅✅✅✅✅✅✅✅✅✅✅✅✅✅✅✅✅✅✅✅✅✅✅✅✅✅✅✅✅✅✅✅✅✅✅✅✅✅✅✅✅✅✅✅✅✅✅✅✅✅✅✅✅✅✅✅✅✅✅✅✅✅✅✅✅✅✅✅✅✅✅✅✅✅✅✅✅✅✅✅✅✅✅✅✅✅✅✅✅✅✅✅✅✅✅✅✅✅✅✅✅✅✅✅✅✅✅✅✅✅✅✅✅✅✅✅✅✅✅✅✅✅✅✅✅✅✅✅✅✅✅✅✅✅✅✅✅✅✅✅✅✅✅✅✅✅✅✅✅✅✅✅✅✅✅✅✅✅✅✅✅✅✅✅✅✅✅✅✅✅✅✅✅✅✅✅✅✅✅✅✅✅✅✅✅✅✅✅✅✅✅✅✅✅✅✅✅✅✅✅✅✅✅✅✅✅✅✅✅✅✅✅✅✅✅✅✅✅✅✅✅✅✅✅✅✅✅✅✅✅✅✅✅✅✅✅✅✅✅✅✅✅✅✅✅✅✅✅✅✅✅✅✅✅✅✅✅✅✅✅✅✅✅✅✅✅✅✅✅✅✅✅✅✅✅✅✅✅✅✅✅✅✅✅✅✅✅✅✅✅✅✅✅✅✅✅✅✅✅✅✅✅✅✅✅✅✅✅✅✅✅✅✅✅✅✅✅✅✅✅✅✅✅✅✅✅✅✅✅✅✅✅✅✅✅✅✅✅✅✅✅✅✅✅✅✅✅✅✅✅✅✅✅✅✅✅✅✅✅✅✅✅✅✅✅✅✅✅✅✅✅✅✅✅✅✅✅✅✅✅✅✅✅✅✅✅✅✅✅✅✅✅✅✅✅✅✅✅✅✅✅✅✅✅✅✅✅✅✅✅✅✅✅✅✅✅✅✅✅✅✅✅✅✅✅✅✅✅✅✅✅✅✅✅✅✅✅✅✅✅✅✅✅✅✅✅✅✅✅✅✅✅✅✅✅✅✅✅✅✅✅✅✅✅✅✅✅✅✅✅✅✅✅✅✅✅✅✅✅✅✅✅✅✅✅✅\n"
     ]
    }
   ],
   "source": [
    "# That is just for me when I run the script fully and I want to know when it's done from my bed. \n",
    "on()\n",
    "print(\"✅\"*1000)"
   ]
  }
 ],
 "metadata": {
  "gist": {
   "data": {
    "description": "Projects/imdb/Download and clean Imdb data.ipynb",
    "public": true
   },
   "id": ""
  },
  "kernelspec": {
   "display_name": "Python 3",
   "language": "python",
   "name": "python3"
  },
  "language_info": {
   "codemirror_mode": {
    "name": "ipython",
    "version": 3
   },
   "file_extension": ".py",
   "mimetype": "text/x-python",
   "name": "python",
   "nbconvert_exporter": "python",
   "pygments_lexer": "ipython3",
   "version": "3.8.3"
  },
  "toc": {
   "base_numbering": 1,
   "nav_menu": {},
   "number_sections": true,
   "sideBar": true,
   "skip_h1_title": false,
   "title_cell": "Table of Contents",
   "title_sidebar": "Contents",
   "toc_cell": false,
   "toc_position": {
    "height": "calc(100% - 180px)",
    "left": "10px",
    "top": "150px",
    "width": "288px"
   },
   "toc_section_display": true,
   "toc_window_display": true
  },
  "varInspector": {
   "cols": {
    "lenName": 16,
    "lenType": 16,
    "lenVar": 40
   },
   "kernels_config": {
    "python": {
     "delete_cmd_postfix": "",
     "delete_cmd_prefix": "del ",
     "library": "var_list.py",
     "varRefreshCmd": "print(var_dic_list())"
    },
    "r": {
     "delete_cmd_postfix": ") ",
     "delete_cmd_prefix": "rm(",
     "library": "var_list.r",
     "varRefreshCmd": "cat(var_dic_list()) "
    }
   },
   "types_to_exclude": [
    "module",
    "function",
    "builtin_function_or_method",
    "instance",
    "_Feature"
   ],
   "window_display": false
  }
 },
 "nbformat": 4,
 "nbformat_minor": 4
}
