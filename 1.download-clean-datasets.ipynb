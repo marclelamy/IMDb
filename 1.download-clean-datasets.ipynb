{
 "cells": [
  {
   "cell_type": "markdown",
   "metadata": {},
   "source": [
    "# Project description\n",
    "\n",
    "**Status:** Done. Need to add more comments & description. \n",
    "\n",
    "## READ before running the notebook\n",
    "If you are using jupyter notebook and you have variable inspector ticked in your nbextensions config (check in edit drop down menu, last option), I highly recommand to untick it before running this notebook. As some variables of this notebook are pd.DataFrame of dozens of millions of rows, it slows down the whole notebook. \n",
    "\n",
    "\n",
    "## Description:\n",
    "This notebook has for purpose to download [IMDB's public datasets](https://www.imdb.com/interfaces/) which contain 7 `.tsv` files. This table is the the original files not the new one. Need to be updated for after [4 Cleaning each files](#Cleaning-each-files): \n",
    "\n",
    "\n",
    "File name / feature name | Feature description\n",
    "--- | --- \n",
    "**akas**  |  Contains the following information for titles:\n",
    "titleId (string)  |  a tconst, an alphanumeric unique identifier of the title\n",
    "ordering (integer)  |  a number to uniquely identify rows for a given titleId\n",
    "title (string)  |  the localized title\n",
    "region (string)  |  the region for this version of the title\n",
    "language (string)  |  the language of the title\n",
    "types (array)  |  Enumerated set of attributes for this alternative title. One or more of the following: \"alternative\", \"dvd\", \"festival\", \"tv\", \"video\", \"working\", \"original\", \"imdbDisplay\". New values may be added in the future without warning\n",
    "attributes (array)  |  Additional terms to describe this alternative title, not enumerated\n",
    "isOriginalTitle (boolean)  |  0: not original title; 1: original title\n",
    "|\n",
    "|\n",
    "**basics**  |  Contains the following information for titles:\n",
    "tconst (string)  |  alphanumeric unique identifier of the title\n",
    "titleType (string)  |  the type/format of the title (e.g. movie, short, tvseries, tvepisode, video, etc)\n",
    "primaryTitle (string)  |  the more popular title / the title used by the filmmakers on promotional materials at the point of release\n",
    "originalTitle (string)  |  original title, in the original language\n",
    "isAdult (boolean)  |  0: non-adult title; 1: adult title\n",
    "startYear (YYYY)  |  represents the release year of a title. In the case of TV Series, it is the series start year\n",
    "endYear (YYYY)  |  TV Series end year. for all other title types\n",
    "runtimeMinutes  |  primary runtime of the title, in minutes\n",
    "genres (string array)  |  includes up to three genres associated with the title\n",
    "|\n",
    "|\n",
    "**crew**  |  Contains the director and writer information for all the titles in IMDb. Fields include:\n",
    "tconst (string)  |  alphanumeric unique identifier of the title\n",
    "directors (array of nconsts)  |  director(s) of the given title\n",
    "writers (array of nconsts)  |  writer(s) of the given title\n",
    "|\n",
    "|\n",
    "**episode**  |  Contains the tv episode information. Fields include:\n",
    "tconst (string)  |  alphanumeric identifier of episode\n",
    "parentTconst (string)  |  alphanumeric identifier of the parent TV Series\n",
    "seasonNumber (integer)  |  season number the episode belongs to\n",
    "episodeNumber (integer)  |  episode number of the tconst in the TV series\n",
    "|\n",
    "|\n",
    "**principals**  |  Contains the principal cast/crew for titles\n",
    "tconst (string)  |  alphanumeric unique identifier of the title\n",
    "ordering (integer)  |  a number to uniquely identify rows for a given titleId\n",
    "nconst (string)  |  alphanumeric unique identifier of the name/person\n",
    "category (string)  |  the category of job that person was in\n",
    "job (string)  |  the specific job title if applicable, else \n",
    "characters (string)  |  the name of the character played if applicable, else \n",
    "|\n",
    "|\n",
    "**ratings**  |  Contains the IMDb rating and votes information for titles\n",
    "tconst (string)  |  alphanumeric unique identifier of the title\n",
    "averageRating  |  weighted average of all the individual user ratings\n",
    "numVotes  |  number of votes the title has received\n",
    "|\n",
    "|\n",
    "**name**  |  Contains the following information for names:\n",
    "nconst (string)  |  alphanumeric unique identifier of the name/person\n",
    "primaryName (string)  |  name by which the person is most often credited\n",
    "birthYear  |  in YYYY format\n",
    "deathYear  |  in YYYY format if applicable, else \n",
    "primaryProfession (array of strings)  |  the top-3 professions of the person\n",
    "knownForTitles (array of tconsts)  |  titles the person is known for\n",
    "\n",
    "\n",
    "\n",
    "\n",
    "\n",
    "\n",
    "**Run time on Macbook Pro 2017, i5 3.1 GHz 2 cores, 8GB of ram:** ~40mn\n",
    "\n",
    "**Macbook Air M1 🥺BG of ram:** 🥺"
   ]
  },
  {
   "cell_type": "markdown",
   "metadata": {},
   "source": [
    "<hr style=\"height:.9px;border:none;color:#333;background-color:#333;\" />\n",
    "<hr style=\"height:.9px;border:none;color:#333;background-color:#333;\" />\n",
    "\n",
    "# Get Imdb files links\n"
   ]
  },
  {
   "cell_type": "markdown",
   "metadata": {},
   "source": [
    "## Import libraries \n",
    "\n",
    "* Requests to get the page \n",
    "* Beautiful Soup to get the content of that page\n",
    "* Os and Shutil for file management\n",
    "* Patoolib to decompress .gz archives\n",
    "* Time To know how long it takes to excecute the script \n",
    "* Termcolor for unnecessary beautiful colored print statements \n",
    "* Re for string manipulation\n",
    "* Caffeine for display always on"
   ]
  },
  {
   "cell_type": "code",
   "execution_count": 1,
   "metadata": {
    "ExecuteTime": {
     "end_time": "2021-06-01T00:55:40.122292Z",
     "start_time": "2021-06-01T00:55:39.126203Z"
    }
   },
   "outputs": [],
   "source": [
    "from bs4 import BeautifulSoup as bs\n",
    "import requests\n",
    "\n",
    "import os\n",
    "from os import listdir\n",
    "from os.path import isfile, join\n",
    "import shutil\n",
    "import patoolib as patoo\n",
    "import re\n",
    "\n",
    "import pandas as pd\n",
    "import numpy as np\n",
    "\n",
    "import time\n",
    "\n",
    "from termcolor import colored\n",
    "\n",
    "import caffeine\n",
    "def on(): # Shortcut def to let the display on while runing long code. \n",
    "    caffeine.on(display=False)"
   ]
  },
  {
   "cell_type": "markdown",
   "metadata": {},
   "source": [
    "## Scrape files links\n",
    "\n",
    "You know when you click on a link and it doesn't open a new page but download a file? That is what's happening my friend, we're getting those links!"
   ]
  },
  {
   "cell_type": "code",
   "execution_count": 55,
   "metadata": {
    "ExecuteTime": {
     "end_time": "2021-05-31T23:52:50.803005Z",
     "start_time": "2021-05-31T23:52:50.664839Z"
    },
    "cell_style": "center"
   },
   "outputs": [
    {
     "data": {
      "text/plain": [
       "['http://www.imdb.com/interfaces/',\n",
       " 'https://datasets.imdbws.com/name.basics.tsv.gz',\n",
       " 'https://datasets.imdbws.com/title.akas.tsv.gz',\n",
       " 'https://datasets.imdbws.com/title.basics.tsv.gz',\n",
       " 'https://datasets.imdbws.com/title.crew.tsv.gz',\n",
       " 'https://datasets.imdbws.com/title.episode.tsv.gz',\n",
       " 'https://datasets.imdbws.com/title.principals.tsv.gz',\n",
       " 'https://datasets.imdbws.com/title.ratings.tsv.gz']"
      ]
     },
     "execution_count": 55,
     "metadata": {},
     "output_type": "execute_result"
    }
   ],
   "source": [
    "start = time.time()\n",
    "\n",
    "# Link where to find the datasets \n",
    "url = \"https://datasets.imdbws.com/\"\n",
    "links = []\n",
    "\n",
    "# Get the web page\n",
    "page = requests.get(url)\n",
    "\n",
    "# Get the page's html \n",
    "soup = bs(page.content, \"html.parser\")\n",
    "\n",
    "# Get all text as href tag\n",
    "for href in soup.find_all(\"a\"):\n",
    "    links.append(href[\"href\"])\n",
    "    \n",
    "links"
   ]
  },
  {
   "cell_type": "markdown",
   "metadata": {},
   "source": [
    "## Store them"
   ]
  },
  {
   "cell_type": "code",
   "execution_count": 56,
   "metadata": {
    "ExecuteTime": {
     "end_time": "2021-05-31T23:52:50.823799Z",
     "start_time": "2021-05-31T23:52:50.809916Z"
    }
   },
   "outputs": [
    {
     "data": {
      "text/plain": [
       "'http://www.imdb.com/interfaces/'"
      ]
     },
     "execution_count": 56,
     "metadata": {},
     "output_type": "execute_result"
    }
   ],
   "source": [
    "down_links = [x for x in links if \"tsv\" in x]\n",
    "metadata_link = list(set(links) - (set(down_links)))[0]\n",
    "\n",
    "metadata_link"
   ]
  },
  {
   "cell_type": "code",
   "execution_count": 57,
   "metadata": {
    "ExecuteTime": {
     "end_time": "2021-05-31T23:52:50.839261Z",
     "start_time": "2021-05-31T23:52:50.831843Z"
    }
   },
   "outputs": [
    {
     "data": {
      "text/plain": [
       "['https://datasets.imdbws.com/name.basics.tsv.gz',\n",
       " 'https://datasets.imdbws.com/title.akas.tsv.gz',\n",
       " 'https://datasets.imdbws.com/title.basics.tsv.gz',\n",
       " 'https://datasets.imdbws.com/title.crew.tsv.gz',\n",
       " 'https://datasets.imdbws.com/title.episode.tsv.gz',\n",
       " 'https://datasets.imdbws.com/title.principals.tsv.gz',\n",
       " 'https://datasets.imdbws.com/title.ratings.tsv.gz']"
      ]
     },
     "execution_count": 57,
     "metadata": {},
     "output_type": "execute_result"
    }
   ],
   "source": [
    "down_links"
   ]
  },
  {
   "cell_type": "markdown",
   "metadata": {},
   "source": [
    "<hr style=\"height:.9px;border:none;color:#333;background-color:#333;\" />\n",
    "<hr style=\"height:.9px;border:none;color:#333;background-color:#333;\" />\n",
    "\n",
    "\n",
    "# Download files\n",
    "\n",
    "## Create new directory to store them"
   ]
  },
  {
   "cell_type": "code",
   "execution_count": 58,
   "metadata": {
    "ExecuteTime": {
     "end_time": "2021-05-31T23:52:50.847607Z",
     "start_time": "2021-05-31T23:52:50.841690Z"
    }
   },
   "outputs": [],
   "source": [
    "directory = \"data/TSVs\"\n",
    "if not os.path.exists(directory):\n",
    "    os.makedirs(directory)"
   ]
  },
  {
   "cell_type": "markdown",
   "metadata": {},
   "source": [
    "## Download the files"
   ]
  },
  {
   "cell_type": "code",
   "execution_count": 59,
   "metadata": {
    "ExecuteTime": {
     "end_time": "2021-05-31T23:53:44.087167Z",
     "start_time": "2021-05-31T23:52:50.850326Z"
    },
    "scrolled": false
   },
   "outputs": [
    {
     "name": "stdout",
     "output_type": "stream",
     "text": [
      "Download Starting...\n",
      "name_basics.tsv.gz\n",
      "patool: Extracting name_basics.tsv.gz ...\n",
      "patool: running '/usr/bin/gzip' -c -d -- 'name_basics.tsv.gz' > 'name_basics.tsv'\n",
      "patool:     with shell='True'\n",
      "patool: ... name_basics.tsv.gz extracted to `'.\n",
      "\u001b[31mname_basics.tsv done, 6 more - 9s\u001b[0m\n",
      "title_akas.tsv.gz\n",
      "patool: Extracting title_akas.tsv.gz ...\n",
      "patool: running '/usr/bin/gzip' -c -d -- 'title_akas.tsv.gz' > 'title_akas.tsv'\n",
      "patool:     with shell='True'\n",
      "patool: ... title_akas.tsv.gz extracted to `'.\n",
      "\u001b[31mtitle_akas.tsv done, 5 more - 11s\u001b[0m\n",
      "title_basics.tsv.gz\n",
      "patool: Extracting title_basics.tsv.gz ...\n",
      "patool: running '/usr/bin/gzip' -c -d -- 'title_basics.tsv.gz' > 'title_basics.tsv'\n",
      "patool:     with shell='True'\n",
      "patool: ... title_basics.tsv.gz extracted to `'.\n",
      "\u001b[31mtitle_basics.tsv done, 4 more - 10s\u001b[0m\n",
      "title_crew.tsv.gz\n",
      "patool: Extracting title_crew.tsv.gz ...\n",
      "patool: running '/usr/bin/gzip' -c -d -- 'title_crew.tsv.gz' > 'title_crew.tsv'\n",
      "patool:     with shell='True'\n",
      "patool: ... title_crew.tsv.gz extracted to `'.\n",
      "\u001b[31mtitle_crew.tsv done, 3 more - 3s\u001b[0m\n",
      "title_episode.tsv.gz\n",
      "patool: Extracting title_episode.tsv.gz ...\n",
      "patool: running '/usr/bin/gzip' -c -d -- 'title_episode.tsv.gz' > 'title_episode.tsv'\n",
      "patool:     with shell='True'\n",
      "patool: ... title_episode.tsv.gz extracted to `'.\n",
      "\u001b[31mtitle_episode.tsv done, 2 more - 2s\u001b[0m\n",
      "title_principals.tsv.gz\n",
      "patool: Extracting title_principals.tsv.gz ...\n",
      "patool: running '/usr/bin/gzip' -c -d -- 'title_principals.tsv.gz' > 'title_principals.tsv'\n",
      "patool:     with shell='True'\n",
      "patool: ... title_principals.tsv.gz extracted to `'.\n",
      "\u001b[31mtitle_principals.tsv done, 1 more - 17s\u001b[0m\n",
      "title_ratings.tsv.gz\n",
      "patool: Extracting title_ratings.tsv.gz ...\n",
      "patool: running '/usr/bin/gzip' -c -d -- 'title_ratings.tsv.gz' > 'title_ratings.tsv'\n",
      "patool:     with shell='True'\n",
      "patool: ... title_ratings.tsv.gz extracted to `'.\n",
      "\u001b[31mtitle_ratings.tsv done, 0 more - 1s\u001b[0m\n",
      "\u001b[1m\u001b[31mDownload Completed!!! It took 53 seconds\u001b[0m\n"
     ]
    }
   ],
   "source": [
    "print('Download Starting...')\n",
    "start = time.time() # Starting timer\n",
    "\n",
    "for url in down_links:\n",
    "    start2 = time.time()\n",
    "\n",
    "    # Download files\n",
    "    r = requests.get(url)\n",
    "    filename = url.split('/')[-1].replace(\".\", \"_\", 1)\n",
    "    print(filename)\n",
    "\n",
    "    with open(filename,'wb') as output_file:\n",
    "        output_file.write(r.content)\n",
    "\n",
    "        \n",
    "    # Decompress file\n",
    "    patoo.extract_archive(filename, outdir=\"\")\n",
    "\n",
    "    # Delete compressed file\n",
    "    os.remove(filename)\n",
    "\n",
    "    # Move file to the right folder\n",
    "    filename = filename.replace(\".gz\", \"\")\n",
    "    shutil.move(filename, directory)\n",
    "\n",
    "\n",
    "    index = down_links.index(url) + 1\n",
    "    print(colored(f\"{filename} done, {len(down_links) - index} more - {round(time.time() - start2)}s\", \"red\"))\n",
    "\n",
    "print(colored(f\"Download Completed!!! It took {round(time.time() - start)} seconds\", \"red\", attrs=['bold']))"
   ]
  },
  {
   "cell_type": "markdown",
   "metadata": {},
   "source": [
    "## Checking files\n",
    "\n",
    "Here I just check that all the seven files that were links in \"links\" are in the directory in the right format"
   ]
  },
  {
   "cell_type": "code",
   "execution_count": 60,
   "metadata": {
    "ExecuteTime": {
     "end_time": "2021-05-31T23:53:44.109765Z",
     "start_time": "2021-05-31T23:53:44.090353Z"
    },
    "scrolled": true
   },
   "outputs": [
    {
     "name": "stdout",
     "output_type": "stream",
     "text": [
      "title_basics.tsv\n",
      "title_ratings.tsv\n",
      "title_crew.tsv\n",
      "name_basics.tsv\n",
      "title_akas.tsv\n",
      "title_episode.tsv\n",
      "title_principals.tsv\n"
     ]
    }
   ],
   "source": [
    "onlyfiles = [f for f in listdir(directory) if isfile(join(directory, f)) and \".tsv\" in f]\n",
    "\n",
    "for file in onlyfiles:\n",
    "    print(file)"
   ]
  },
  {
   "cell_type": "markdown",
   "metadata": {},
   "source": [
    "<hr style=\"height:.9px;border:none;color:#333;background-color:#333;\" />\n",
    "<hr style=\"height:.9px;border:none;color:#333;background-color:#333;\" />\n",
    "\n",
    "\n",
    "\n",
    "# Cleaning each files\n",
    "\n",
    "## Basics\n",
    "\n",
    "### Import file"
   ]
  },
  {
   "cell_type": "code",
   "execution_count": 61,
   "metadata": {
    "ExecuteTime": {
     "end_time": "2021-05-31T23:54:11.639421Z",
     "start_time": "2021-05-31T23:53:44.115596Z"
    }
   },
   "outputs": [
    {
     "data": {
      "text/plain": [
       "(7948647, 9)"
      ]
     },
     "execution_count": 61,
     "metadata": {},
     "output_type": "execute_result"
    }
   ],
   "source": [
    "df_basics = pd.read_csv(\"data/TSVs/title_basics.tsv\", delimiter=\"\\t\")\n",
    "df_basics.shape"
   ]
  },
  {
   "cell_type": "code",
   "execution_count": 62,
   "metadata": {
    "ExecuteTime": {
     "end_time": "2021-05-31T23:54:11.655583Z",
     "start_time": "2021-05-31T23:54:11.643147Z"
    }
   },
   "outputs": [],
   "source": [
    "df_basics.columns = [\"t_id\", \"type\", \"primary_title\", \"original_title\", \"for_adult\", \n",
    "                     \"start_year\", \"end_year\", \"runtime_mn\", \"genres\"]"
   ]
  },
  {
   "cell_type": "markdown",
   "metadata": {},
   "source": [
    "### Replacing missing values & title_id\n",
    "\n",
    "* Missing avlues are represented by `\\N` and I prefer to have missing values instead as `\\n`\n",
    "* Changing title_id from `tt0000001` to `1`, `tt000389` to `389`,  and so on. (outdated)"
   ]
  },
  {
   "cell_type": "code",
   "execution_count": 63,
   "metadata": {
    "ExecuteTime": {
     "end_time": "2021-05-31T23:54:13.677236Z",
     "start_time": "2021-05-31T23:54:11.658318Z"
    },
    "code_folding": []
   },
   "outputs": [
    {
     "data": {
      "text/html": [
       "<div>\n",
       "<style scoped>\n",
       "    .dataframe tbody tr th:only-of-type {\n",
       "        vertical-align: middle;\n",
       "    }\n",
       "\n",
       "    .dataframe tbody tr th {\n",
       "        vertical-align: top;\n",
       "    }\n",
       "\n",
       "    .dataframe thead th {\n",
       "        text-align: right;\n",
       "    }\n",
       "</style>\n",
       "<table border=\"1\" class=\"dataframe\">\n",
       "  <thead>\n",
       "    <tr style=\"text-align: right;\">\n",
       "      <th></th>\n",
       "      <th>t_id</th>\n",
       "      <th>type</th>\n",
       "      <th>primary_title</th>\n",
       "      <th>original_title</th>\n",
       "      <th>for_adult</th>\n",
       "      <th>start_year</th>\n",
       "      <th>end_year</th>\n",
       "      <th>runtime_mn</th>\n",
       "      <th>genres</th>\n",
       "    </tr>\n",
       "  </thead>\n",
       "  <tbody>\n",
       "    <tr>\n",
       "      <th>0</th>\n",
       "      <td>tt0000001</td>\n",
       "      <td>short</td>\n",
       "      <td>Carmencita</td>\n",
       "      <td>Carmencita</td>\n",
       "      <td>0</td>\n",
       "      <td>1894</td>\n",
       "      <td>NaN</td>\n",
       "      <td>1</td>\n",
       "      <td>Documentary,Short</td>\n",
       "    </tr>\n",
       "    <tr>\n",
       "      <th>1</th>\n",
       "      <td>tt0000002</td>\n",
       "      <td>short</td>\n",
       "      <td>Le clown et ses chiens</td>\n",
       "      <td>Le clown et ses chiens</td>\n",
       "      <td>0</td>\n",
       "      <td>1892</td>\n",
       "      <td>NaN</td>\n",
       "      <td>5</td>\n",
       "      <td>Animation,Short</td>\n",
       "    </tr>\n",
       "    <tr>\n",
       "      <th>2</th>\n",
       "      <td>tt0000003</td>\n",
       "      <td>short</td>\n",
       "      <td>Pauvre Pierrot</td>\n",
       "      <td>Pauvre Pierrot</td>\n",
       "      <td>0</td>\n",
       "      <td>1892</td>\n",
       "      <td>NaN</td>\n",
       "      <td>4</td>\n",
       "      <td>Animation,Comedy,Romance</td>\n",
       "    </tr>\n",
       "    <tr>\n",
       "      <th>3</th>\n",
       "      <td>tt0000004</td>\n",
       "      <td>short</td>\n",
       "      <td>Un bon bock</td>\n",
       "      <td>Un bon bock</td>\n",
       "      <td>0</td>\n",
       "      <td>1892</td>\n",
       "      <td>NaN</td>\n",
       "      <td>12</td>\n",
       "      <td>Animation,Short</td>\n",
       "    </tr>\n",
       "    <tr>\n",
       "      <th>4</th>\n",
       "      <td>tt0000005</td>\n",
       "      <td>short</td>\n",
       "      <td>Blacksmith Scene</td>\n",
       "      <td>Blacksmith Scene</td>\n",
       "      <td>0</td>\n",
       "      <td>1893</td>\n",
       "      <td>NaN</td>\n",
       "      <td>1</td>\n",
       "      <td>Comedy,Short</td>\n",
       "    </tr>\n",
       "  </tbody>\n",
       "</table>\n",
       "</div>"
      ],
      "text/plain": [
       "        t_id   type           primary_title          original_title for_adult  \\\n",
       "0  tt0000001  short              Carmencita              Carmencita         0   \n",
       "1  tt0000002  short  Le clown et ses chiens  Le clown et ses chiens         0   \n",
       "2  tt0000003  short          Pauvre Pierrot          Pauvre Pierrot         0   \n",
       "3  tt0000004  short             Un bon bock             Un bon bock         0   \n",
       "4  tt0000005  short        Blacksmith Scene        Blacksmith Scene         0   \n",
       "\n",
       "  start_year end_year runtime_mn                    genres  \n",
       "0       1894      NaN          1         Documentary,Short  \n",
       "1       1892      NaN          5           Animation,Short  \n",
       "2       1892      NaN          4  Animation,Comedy,Romance  \n",
       "3       1892      NaN         12           Animation,Short  \n",
       "4       1893      NaN          1              Comedy,Short  "
      ]
     },
     "execution_count": 63,
     "metadata": {},
     "output_type": "execute_result"
    }
   ],
   "source": [
    "def clean_df(df):\n",
    "    df.replace(r\"\\N\", np.nan, inplace=True)\n",
    "        \n",
    "    return df\n",
    "\n",
    "df_basics = clean_df(df_basics)\n",
    "df_basics.head()"
   ]
  },
  {
   "cell_type": "code",
   "execution_count": 64,
   "metadata": {
    "ExecuteTime": {
     "end_time": "2021-05-31T23:54:13.684244Z",
     "start_time": "2021-05-31T23:54:13.680699Z"
    }
   },
   "outputs": [],
   "source": [
    "# for genre in ['Reality-TV', 'Documentary', 'Talk-Show', 'Game-Show', 'Animation,Comedy,Family']:\n",
    "#     indexes = df_basics[df_basics[\"runtime_mn\"] == genre].index\n",
    "    \n",
    "#     for index in indexes: \n",
    "#         df_basics.loc[index, \"genres\"] = genre"
   ]
  },
  {
   "cell_type": "markdown",
   "metadata": {},
   "source": [
    "### Changing data types\n"
   ]
  },
  {
   "cell_type": "code",
   "execution_count": 65,
   "metadata": {
    "ExecuteTime": {
     "end_time": "2021-05-31T23:54:13.711127Z",
     "start_time": "2021-05-31T23:54:13.687283Z"
    }
   },
   "outputs": [
    {
     "name": "stdout",
     "output_type": "stream",
     "text": [
      "<class 'pandas.core.frame.DataFrame'>\n",
      "RangeIndex: 7948647 entries, 0 to 7948646\n",
      "Data columns (total 9 columns):\n",
      " #   Column          Dtype \n",
      "---  ------          ----- \n",
      " 0   t_id            object\n",
      " 1   type            object\n",
      " 2   primary_title   object\n",
      " 3   original_title  object\n",
      " 4   for_adult       object\n",
      " 5   start_year      object\n",
      " 6   end_year        object\n",
      " 7   runtime_mn      object\n",
      " 8   genres          object\n",
      "dtypes: object(9)\n",
      "memory usage: 545.8+ MB\n"
     ]
    }
   ],
   "source": [
    "df_basics.info()"
   ]
  },
  {
   "cell_type": "markdown",
   "metadata": {},
   "source": [
    "#### Changing Year from `float` to `datetime`"
   ]
  },
  {
   "cell_type": "code",
   "execution_count": 66,
   "metadata": {
    "ExecuteTime": {
     "end_time": "2021-05-31T23:54:15.420739Z",
     "start_time": "2021-05-31T23:54:13.714980Z"
    }
   },
   "outputs": [],
   "source": [
    "df_basics[\"start_year\"] = df_basics[\"start_year\"].astype(\"datetime64\")\n",
    "df_basics[\"end_year\"] = df_basics[\"end_year\"].astype(\"datetime64\")"
   ]
  },
  {
   "cell_type": "markdown",
   "metadata": {},
   "source": [
    "#### Changing others from `float` to `int`\n",
    "\n",
    "In the function, there are two ways of doing it. The first way with `list`seems to be way faster than imputing at each index of the `Series` using `.loc`."
   ]
  },
  {
   "cell_type": "code",
   "execution_count": 67,
   "metadata": {
    "ExecuteTime": {
     "end_time": "2021-05-31T23:54:24.210109Z",
     "start_time": "2021-05-31T23:54:15.423591Z"
    },
    "code_folding": [
     0
    ]
   },
   "outputs": [
    {
     "name": "stdout",
     "output_type": "stream",
     "text": [
      "99.39%                                                                                                                                                                                                          \r"
     ]
    }
   ],
   "source": [
    "def series_to_int(df, *args):\n",
    "    for col in args:\n",
    "        liste = df[col].to_list() # Used lists as pd.Series were too slow\n",
    "        \n",
    "        new = []\n",
    "        for x in range(len(liste)):\n",
    "            val = liste[x]\n",
    "            try:\n",
    "                new.append(int(val))\n",
    "            except: \n",
    "                new.append(np.nan)\n",
    "                \n",
    "            if x % 100000 == 0:\n",
    "                print(f\"{round(x / len(liste) * 100, 2)}%\", \" \" * 100, end=\"\\r\")\n",
    "        df[col] = new\n",
    "    \n",
    "\n",
    "        df[col] = df[col].astype(\"Int64\")\n",
    "\n",
    "    return df\n",
    "\n",
    "df_basics = series_to_int(df_basics, \"for_adult\", \"runtime_mn\")"
   ]
  },
  {
   "cell_type": "code",
   "execution_count": 68,
   "metadata": {
    "ExecuteTime": {
     "end_time": "2021-05-31T23:54:24.236619Z",
     "start_time": "2021-05-31T23:54:24.212230Z"
    }
   },
   "outputs": [
    {
     "name": "stdout",
     "output_type": "stream",
     "text": [
      "<class 'pandas.core.frame.DataFrame'>\n",
      "RangeIndex: 7948647 entries, 0 to 7948646\n",
      "Data columns (total 9 columns):\n",
      " #   Column          Dtype         \n",
      "---  ------          -----         \n",
      " 0   t_id            object        \n",
      " 1   type            object        \n",
      " 2   primary_title   object        \n",
      " 3   original_title  object        \n",
      " 4   for_adult       Int64         \n",
      " 5   start_year      datetime64[ns]\n",
      " 6   end_year        datetime64[ns]\n",
      " 7   runtime_mn      Int64         \n",
      " 8   genres          object        \n",
      "dtypes: Int64(2), datetime64[ns](2), object(5)\n",
      "memory usage: 561.0+ MB\n"
     ]
    }
   ],
   "source": [
    "df_basics.info()"
   ]
  },
  {
   "cell_type": "markdown",
   "metadata": {},
   "source": [
    "### Getting all genres \n",
    "\n",
    "So we can have a new DataFrame that will have each genre for each movie!"
   ]
  },
  {
   "cell_type": "code",
   "execution_count": 69,
   "metadata": {
    "ExecuteTime": {
     "end_time": "2021-05-31T23:55:35.723413Z",
     "start_time": "2021-05-31T23:54:24.241441Z"
    }
   },
   "outputs": [
    {
     "data": {
      "text/plain": [
       "(12619654, 2)"
      ]
     },
     "execution_count": 69,
     "metadata": {},
     "output_type": "execute_result"
    }
   ],
   "source": [
    "df_genres = df_basics[[\"t_id\", \"genres\"]].set_index(\"t_id\")[\"genres\"].str.split(\",\").explode().to_frame().reset_index()\n",
    "df_genres.shape"
   ]
  },
  {
   "cell_type": "code",
   "execution_count": 70,
   "metadata": {
    "ExecuteTime": {
     "end_time": "2021-05-31T23:55:35.758846Z",
     "start_time": "2021-05-31T23:55:35.730718Z"
    }
   },
   "outputs": [
    {
     "data": {
      "text/html": [
       "<div>\n",
       "<style scoped>\n",
       "    .dataframe tbody tr th:only-of-type {\n",
       "        vertical-align: middle;\n",
       "    }\n",
       "\n",
       "    .dataframe tbody tr th {\n",
       "        vertical-align: top;\n",
       "    }\n",
       "\n",
       "    .dataframe thead th {\n",
       "        text-align: right;\n",
       "    }\n",
       "</style>\n",
       "<table border=\"1\" class=\"dataframe\">\n",
       "  <thead>\n",
       "    <tr style=\"text-align: right;\">\n",
       "      <th></th>\n",
       "      <th>t_id</th>\n",
       "      <th>genres</th>\n",
       "    </tr>\n",
       "  </thead>\n",
       "  <tbody>\n",
       "    <tr>\n",
       "      <th>0</th>\n",
       "      <td>tt0000001</td>\n",
       "      <td>Documentary</td>\n",
       "    </tr>\n",
       "    <tr>\n",
       "      <th>1</th>\n",
       "      <td>tt0000001</td>\n",
       "      <td>Short</td>\n",
       "    </tr>\n",
       "    <tr>\n",
       "      <th>2</th>\n",
       "      <td>tt0000002</td>\n",
       "      <td>Animation</td>\n",
       "    </tr>\n",
       "    <tr>\n",
       "      <th>3</th>\n",
       "      <td>tt0000002</td>\n",
       "      <td>Short</td>\n",
       "    </tr>\n",
       "    <tr>\n",
       "      <th>4</th>\n",
       "      <td>tt0000003</td>\n",
       "      <td>Animation</td>\n",
       "    </tr>\n",
       "  </tbody>\n",
       "</table>\n",
       "</div>"
      ],
      "text/plain": [
       "        t_id       genres\n",
       "0  tt0000001  Documentary\n",
       "1  tt0000001        Short\n",
       "2  tt0000002    Animation\n",
       "3  tt0000002        Short\n",
       "4  tt0000003    Animation"
      ]
     },
     "execution_count": 70,
     "metadata": {},
     "output_type": "execute_result"
    }
   ],
   "source": [
    "df_genres.head()"
   ]
  },
  {
   "cell_type": "markdown",
   "metadata": {},
   "source": [
    "### Export both tables\n",
    "\n",
    "Keeping the genre column with list of genre doesn't lead to anything so I'm going to create two new tables.\n",
    "* genre that will contain each and individual genre\n",
    "* title_id that will contain each title_id (one observation for each genre of each title)\n"
   ]
  },
  {
   "cell_type": "code",
   "execution_count": 71,
   "metadata": {
    "ExecuteTime": {
     "end_time": "2021-05-31T23:56:57.777079Z",
     "start_time": "2021-05-31T23:55:35.765444Z"
    }
   },
   "outputs": [
    {
     "name": "stdout",
     "output_type": "stream",
     "text": [
      "Genre table exported!\n",
      "Basics table exported!\n"
     ]
    }
   ],
   "source": [
    "df_genres.to_csv(\"data/genres.csv\", index=False)\n",
    "print(\"Genre table exported!\")\n",
    "\n",
    "# We don't need genre column in basics as we have a new df for it \n",
    "df_basics.drop(\"genres\", axis=1).to_csv(\"data/basics.csv\", index=False) # Exported as csv for convenience \n",
    "print(\"Basics table exported!\")\n",
    "\n",
    "# We also don't need that tsv file anymore\n",
    "# os.remove(directory + \"/title_basics.tsv\")"
   ]
  },
  {
   "cell_type": "markdown",
   "metadata": {},
   "source": [
    "<hr style=\"height:.9px;border:none;color:#333;background-color:#333;\" />\n",
    "\n",
    "## Principals\n",
    "### Import file"
   ]
  },
  {
   "cell_type": "code",
   "execution_count": 145,
   "metadata": {
    "ExecuteTime": {
     "end_time": "2021-06-01T00:37:22.113238Z",
     "start_time": "2021-06-01T00:37:10.335179Z"
    }
   },
   "outputs": [
    {
     "ename": "KeyboardInterrupt",
     "evalue": "",
     "output_type": "error",
     "traceback": [
      "\u001b[0;31m---------------------------------------------------------------------------\u001b[0m",
      "\u001b[0;31mKeyboardInterrupt\u001b[0m                         Traceback (most recent call last)",
      "\u001b[0;32m<ipython-input-145-ad1f67079476>\u001b[0m in \u001b[0;36m<module>\u001b[0;34m\u001b[0m\n\u001b[0;32m----> 1\u001b[0;31m \u001b[0mdf_principals\u001b[0m \u001b[0;34m=\u001b[0m \u001b[0mpd\u001b[0m\u001b[0;34m.\u001b[0m\u001b[0mread_csv\u001b[0m\u001b[0;34m(\u001b[0m\u001b[0;34m\"data/TSVs/title_principals.tsv\"\u001b[0m\u001b[0;34m,\u001b[0m \u001b[0mdelimiter\u001b[0m\u001b[0;34m=\u001b[0m\u001b[0;34m\"\\t\"\u001b[0m\u001b[0;34m)\u001b[0m\u001b[0;34m\u001b[0m\u001b[0;34m\u001b[0m\u001b[0m\n\u001b[0m\u001b[1;32m      2\u001b[0m \u001b[0mdf_principals\u001b[0m\u001b[0;34m.\u001b[0m\u001b[0mshape\u001b[0m\u001b[0;34m\u001b[0m\u001b[0;34m\u001b[0m\u001b[0m\n",
      "\u001b[0;32m/Applications/anaconda3/lib/python3.8/site-packages/pandas/io/parsers.py\u001b[0m in \u001b[0;36mread_csv\u001b[0;34m(filepath_or_buffer, sep, delimiter, header, names, index_col, usecols, squeeze, prefix, mangle_dupe_cols, dtype, engine, converters, true_values, false_values, skipinitialspace, skiprows, skipfooter, nrows, na_values, keep_default_na, na_filter, verbose, skip_blank_lines, parse_dates, infer_datetime_format, keep_date_col, date_parser, dayfirst, cache_dates, iterator, chunksize, compression, thousands, decimal, lineterminator, quotechar, quoting, doublequote, escapechar, comment, encoding, dialect, error_bad_lines, warn_bad_lines, delim_whitespace, low_memory, memory_map, float_precision, storage_options)\u001b[0m\n\u001b[1;32m    603\u001b[0m     \u001b[0mkwds\u001b[0m\u001b[0;34m.\u001b[0m\u001b[0mupdate\u001b[0m\u001b[0;34m(\u001b[0m\u001b[0mkwds_defaults\u001b[0m\u001b[0;34m)\u001b[0m\u001b[0;34m\u001b[0m\u001b[0;34m\u001b[0m\u001b[0m\n\u001b[1;32m    604\u001b[0m \u001b[0;34m\u001b[0m\u001b[0m\n\u001b[0;32m--> 605\u001b[0;31m     \u001b[0;32mreturn\u001b[0m \u001b[0m_read\u001b[0m\u001b[0;34m(\u001b[0m\u001b[0mfilepath_or_buffer\u001b[0m\u001b[0;34m,\u001b[0m \u001b[0mkwds\u001b[0m\u001b[0;34m)\u001b[0m\u001b[0;34m\u001b[0m\u001b[0;34m\u001b[0m\u001b[0m\n\u001b[0m\u001b[1;32m    606\u001b[0m \u001b[0;34m\u001b[0m\u001b[0m\n\u001b[1;32m    607\u001b[0m \u001b[0;34m\u001b[0m\u001b[0m\n",
      "\u001b[0;32m/Applications/anaconda3/lib/python3.8/site-packages/pandas/io/parsers.py\u001b[0m in \u001b[0;36m_read\u001b[0;34m(filepath_or_buffer, kwds)\u001b[0m\n\u001b[1;32m    461\u001b[0m \u001b[0;34m\u001b[0m\u001b[0m\n\u001b[1;32m    462\u001b[0m     \u001b[0;32mwith\u001b[0m \u001b[0mparser\u001b[0m\u001b[0;34m:\u001b[0m\u001b[0;34m\u001b[0m\u001b[0;34m\u001b[0m\u001b[0m\n\u001b[0;32m--> 463\u001b[0;31m         \u001b[0;32mreturn\u001b[0m \u001b[0mparser\u001b[0m\u001b[0;34m.\u001b[0m\u001b[0mread\u001b[0m\u001b[0;34m(\u001b[0m\u001b[0mnrows\u001b[0m\u001b[0;34m)\u001b[0m\u001b[0;34m\u001b[0m\u001b[0;34m\u001b[0m\u001b[0m\n\u001b[0m\u001b[1;32m    464\u001b[0m \u001b[0;34m\u001b[0m\u001b[0m\n\u001b[1;32m    465\u001b[0m \u001b[0;34m\u001b[0m\u001b[0m\n",
      "\u001b[0;32m/Applications/anaconda3/lib/python3.8/site-packages/pandas/io/parsers.py\u001b[0m in \u001b[0;36mread\u001b[0;34m(self, nrows)\u001b[0m\n\u001b[1;32m   1050\u001b[0m     \u001b[0;32mdef\u001b[0m \u001b[0mread\u001b[0m\u001b[0;34m(\u001b[0m\u001b[0mself\u001b[0m\u001b[0;34m,\u001b[0m \u001b[0mnrows\u001b[0m\u001b[0;34m=\u001b[0m\u001b[0;32mNone\u001b[0m\u001b[0;34m)\u001b[0m\u001b[0;34m:\u001b[0m\u001b[0;34m\u001b[0m\u001b[0;34m\u001b[0m\u001b[0m\n\u001b[1;32m   1051\u001b[0m         \u001b[0mnrows\u001b[0m \u001b[0;34m=\u001b[0m \u001b[0mvalidate_integer\u001b[0m\u001b[0;34m(\u001b[0m\u001b[0;34m\"nrows\"\u001b[0m\u001b[0;34m,\u001b[0m \u001b[0mnrows\u001b[0m\u001b[0;34m)\u001b[0m\u001b[0;34m\u001b[0m\u001b[0;34m\u001b[0m\u001b[0m\n\u001b[0;32m-> 1052\u001b[0;31m         \u001b[0mindex\u001b[0m\u001b[0;34m,\u001b[0m \u001b[0mcolumns\u001b[0m\u001b[0;34m,\u001b[0m \u001b[0mcol_dict\u001b[0m \u001b[0;34m=\u001b[0m \u001b[0mself\u001b[0m\u001b[0;34m.\u001b[0m\u001b[0m_engine\u001b[0m\u001b[0;34m.\u001b[0m\u001b[0mread\u001b[0m\u001b[0;34m(\u001b[0m\u001b[0mnrows\u001b[0m\u001b[0;34m)\u001b[0m\u001b[0;34m\u001b[0m\u001b[0;34m\u001b[0m\u001b[0m\n\u001b[0m\u001b[1;32m   1053\u001b[0m \u001b[0;34m\u001b[0m\u001b[0m\n\u001b[1;32m   1054\u001b[0m         \u001b[0;32mif\u001b[0m \u001b[0mindex\u001b[0m \u001b[0;32mis\u001b[0m \u001b[0;32mNone\u001b[0m\u001b[0;34m:\u001b[0m\u001b[0;34m\u001b[0m\u001b[0;34m\u001b[0m\u001b[0m\n",
      "\u001b[0;32m/Applications/anaconda3/lib/python3.8/site-packages/pandas/io/parsers.py\u001b[0m in \u001b[0;36mread\u001b[0;34m(self, nrows)\u001b[0m\n\u001b[1;32m   2054\u001b[0m     \u001b[0;32mdef\u001b[0m \u001b[0mread\u001b[0m\u001b[0;34m(\u001b[0m\u001b[0mself\u001b[0m\u001b[0;34m,\u001b[0m \u001b[0mnrows\u001b[0m\u001b[0;34m=\u001b[0m\u001b[0;32mNone\u001b[0m\u001b[0;34m)\u001b[0m\u001b[0;34m:\u001b[0m\u001b[0;34m\u001b[0m\u001b[0;34m\u001b[0m\u001b[0m\n\u001b[1;32m   2055\u001b[0m         \u001b[0;32mtry\u001b[0m\u001b[0;34m:\u001b[0m\u001b[0;34m\u001b[0m\u001b[0;34m\u001b[0m\u001b[0m\n\u001b[0;32m-> 2056\u001b[0;31m             \u001b[0mdata\u001b[0m \u001b[0;34m=\u001b[0m \u001b[0mself\u001b[0m\u001b[0;34m.\u001b[0m\u001b[0m_reader\u001b[0m\u001b[0;34m.\u001b[0m\u001b[0mread\u001b[0m\u001b[0;34m(\u001b[0m\u001b[0mnrows\u001b[0m\u001b[0;34m)\u001b[0m\u001b[0;34m\u001b[0m\u001b[0;34m\u001b[0m\u001b[0m\n\u001b[0m\u001b[1;32m   2057\u001b[0m         \u001b[0;32mexcept\u001b[0m \u001b[0mStopIteration\u001b[0m\u001b[0;34m:\u001b[0m\u001b[0;34m\u001b[0m\u001b[0;34m\u001b[0m\u001b[0m\n\u001b[1;32m   2058\u001b[0m             \u001b[0;32mif\u001b[0m \u001b[0mself\u001b[0m\u001b[0;34m.\u001b[0m\u001b[0m_first_chunk\u001b[0m\u001b[0;34m:\u001b[0m\u001b[0;34m\u001b[0m\u001b[0;34m\u001b[0m\u001b[0m\n",
      "\u001b[0;32mpandas/_libs/parsers.pyx\u001b[0m in \u001b[0;36mpandas._libs.parsers.TextReader.read\u001b[0;34m()\u001b[0m\n",
      "\u001b[0;32mpandas/_libs/parsers.pyx\u001b[0m in \u001b[0;36mpandas._libs.parsers.TextReader._read_low_memory\u001b[0;34m()\u001b[0m\n",
      "\u001b[0;32mpandas/_libs/parsers.pyx\u001b[0m in \u001b[0;36mpandas._libs.parsers.TextReader._read_rows\u001b[0;34m()\u001b[0m\n",
      "\u001b[0;32mpandas/_libs/parsers.pyx\u001b[0m in \u001b[0;36mpandas._libs.parsers.TextReader._convert_column_data\u001b[0;34m()\u001b[0m\n",
      "\u001b[0;32mpandas/_libs/parsers.pyx\u001b[0m in \u001b[0;36mpandas._libs.parsers.TextReader._convert_tokens\u001b[0;34m()\u001b[0m\n",
      "\u001b[0;32mpandas/_libs/parsers.pyx\u001b[0m in \u001b[0;36mpandas._libs.parsers.TextReader._convert_with_dtype\u001b[0;34m()\u001b[0m\n",
      "\u001b[0;32m/Applications/anaconda3/lib/python3.8/site-packages/pandas/core/dtypes/common.py\u001b[0m in \u001b[0;36mis_integer_dtype\u001b[0;34m(arr_or_dtype)\u001b[0m\n\u001b[1;32m    752\u001b[0m     \u001b[0;32mFalse\u001b[0m\u001b[0;34m\u001b[0m\u001b[0;34m\u001b[0m\u001b[0m\n\u001b[1;32m    753\u001b[0m     \"\"\"\n\u001b[0;32m--> 754\u001b[0;31m     \u001b[0;32mreturn\u001b[0m \u001b[0m_is_dtype_type\u001b[0m\u001b[0;34m(\u001b[0m\u001b[0marr_or_dtype\u001b[0m\u001b[0;34m,\u001b[0m \u001b[0mclasses_and_not_datetimelike\u001b[0m\u001b[0;34m(\u001b[0m\u001b[0mnp\u001b[0m\u001b[0;34m.\u001b[0m\u001b[0minteger\u001b[0m\u001b[0;34m)\u001b[0m\u001b[0;34m)\u001b[0m\u001b[0;34m\u001b[0m\u001b[0;34m\u001b[0m\u001b[0m\n\u001b[0m\u001b[1;32m    755\u001b[0m \u001b[0;34m\u001b[0m\u001b[0m\n\u001b[1;32m    756\u001b[0m \u001b[0;34m\u001b[0m\u001b[0m\n",
      "\u001b[0;32m/Applications/anaconda3/lib/python3.8/site-packages/pandas/core/dtypes/common.py\u001b[0m in \u001b[0;36mclasses_and_not_datetimelike\u001b[0;34m(*klasses)\u001b[0m\n\u001b[1;32m    193\u001b[0m     \u001b[0;32mand\u001b[0m \u001b[0;32mnot\u001b[0m \u001b[0ma\u001b[0m \u001b[0mdatetimelike\u001b[0m\u001b[0;34m\u001b[0m\u001b[0;34m\u001b[0m\u001b[0m\n\u001b[1;32m    194\u001b[0m     \"\"\"\n\u001b[0;32m--> 195\u001b[0;31m     return lambda tipo: (\n\u001b[0m\u001b[1;32m    196\u001b[0m         \u001b[0missubclass\u001b[0m\u001b[0;34m(\u001b[0m\u001b[0mtipo\u001b[0m\u001b[0;34m,\u001b[0m \u001b[0mklasses\u001b[0m\u001b[0;34m)\u001b[0m\u001b[0;34m\u001b[0m\u001b[0;34m\u001b[0m\u001b[0m\n\u001b[1;32m    197\u001b[0m         \u001b[0;32mand\u001b[0m \u001b[0;32mnot\u001b[0m \u001b[0missubclass\u001b[0m\u001b[0;34m(\u001b[0m\u001b[0mtipo\u001b[0m\u001b[0;34m,\u001b[0m \u001b[0;34m(\u001b[0m\u001b[0mnp\u001b[0m\u001b[0;34m.\u001b[0m\u001b[0mdatetime64\u001b[0m\u001b[0;34m,\u001b[0m \u001b[0mnp\u001b[0m\u001b[0;34m.\u001b[0m\u001b[0mtimedelta64\u001b[0m\u001b[0;34m)\u001b[0m\u001b[0;34m)\u001b[0m\u001b[0;34m\u001b[0m\u001b[0;34m\u001b[0m\u001b[0m\n",
      "\u001b[0;31mKeyboardInterrupt\u001b[0m: "
     ]
    }
   ],
   "source": [
    "df_principals = pd.read_csv(\"data/TSVs/title_principals.tsv\", delimiter=\"\\t\")\n",
    "df_principals.shape"
   ]
  },
  {
   "cell_type": "code",
   "execution_count": 73,
   "metadata": {
    "ExecuteTime": {
     "end_time": "2021-05-31T23:58:01.297830Z",
     "start_time": "2021-05-31T23:58:01.283077Z"
    }
   },
   "outputs": [],
   "source": [
    "df_principals.columns = ['t_id', 'ordering', 'n_id', 'job_category', 'job_title', 'character_played']"
   ]
  },
  {
   "cell_type": "markdown",
   "metadata": {},
   "source": [
    "### Replace missing values & id of id columns"
   ]
  },
  {
   "cell_type": "code",
   "execution_count": 74,
   "metadata": {
    "ExecuteTime": {
     "end_time": "2021-05-31T23:58:11.469981Z",
     "start_time": "2021-05-31T23:58:01.302511Z"
    }
   },
   "outputs": [
    {
     "data": {
      "text/html": [
       "<div>\n",
       "<style scoped>\n",
       "    .dataframe tbody tr th:only-of-type {\n",
       "        vertical-align: middle;\n",
       "    }\n",
       "\n",
       "    .dataframe tbody tr th {\n",
       "        vertical-align: top;\n",
       "    }\n",
       "\n",
       "    .dataframe thead th {\n",
       "        text-align: right;\n",
       "    }\n",
       "</style>\n",
       "<table border=\"1\" class=\"dataframe\">\n",
       "  <thead>\n",
       "    <tr style=\"text-align: right;\">\n",
       "      <th></th>\n",
       "      <th>t_id</th>\n",
       "      <th>ordering</th>\n",
       "      <th>n_id</th>\n",
       "      <th>job_category</th>\n",
       "      <th>job_title</th>\n",
       "      <th>character_played</th>\n",
       "    </tr>\n",
       "  </thead>\n",
       "  <tbody>\n",
       "    <tr>\n",
       "      <th>0</th>\n",
       "      <td>tt0000001</td>\n",
       "      <td>1</td>\n",
       "      <td>nm1588970</td>\n",
       "      <td>self</td>\n",
       "      <td>NaN</td>\n",
       "      <td>[\"Self\"]</td>\n",
       "    </tr>\n",
       "    <tr>\n",
       "      <th>1</th>\n",
       "      <td>tt0000001</td>\n",
       "      <td>2</td>\n",
       "      <td>nm0005690</td>\n",
       "      <td>director</td>\n",
       "      <td>NaN</td>\n",
       "      <td>NaN</td>\n",
       "    </tr>\n",
       "    <tr>\n",
       "      <th>2</th>\n",
       "      <td>tt0000001</td>\n",
       "      <td>3</td>\n",
       "      <td>nm0374658</td>\n",
       "      <td>cinematographer</td>\n",
       "      <td>director of photography</td>\n",
       "      <td>NaN</td>\n",
       "    </tr>\n",
       "    <tr>\n",
       "      <th>3</th>\n",
       "      <td>tt0000002</td>\n",
       "      <td>1</td>\n",
       "      <td>nm0721526</td>\n",
       "      <td>director</td>\n",
       "      <td>NaN</td>\n",
       "      <td>NaN</td>\n",
       "    </tr>\n",
       "    <tr>\n",
       "      <th>4</th>\n",
       "      <td>tt0000002</td>\n",
       "      <td>2</td>\n",
       "      <td>nm1335271</td>\n",
       "      <td>composer</td>\n",
       "      <td>NaN</td>\n",
       "      <td>NaN</td>\n",
       "    </tr>\n",
       "  </tbody>\n",
       "</table>\n",
       "</div>"
      ],
      "text/plain": [
       "        t_id  ordering       n_id     job_category                job_title  \\\n",
       "0  tt0000001         1  nm1588970             self                      NaN   \n",
       "1  tt0000001         2  nm0005690         director                      NaN   \n",
       "2  tt0000001         3  nm0374658  cinematographer  director of photography   \n",
       "3  tt0000002         1  nm0721526         director                      NaN   \n",
       "4  tt0000002         2  nm1335271         composer                      NaN   \n",
       "\n",
       "  character_played  \n",
       "0         [\"Self\"]  \n",
       "1              NaN  \n",
       "2              NaN  \n",
       "3              NaN  \n",
       "4              NaN  "
      ]
     },
     "execution_count": 74,
     "metadata": {},
     "output_type": "execute_result"
    }
   ],
   "source": [
    "df_principals = clean_df(df_principals)\n",
    "df_principals.head()"
   ]
  },
  {
   "cell_type": "markdown",
   "metadata": {},
   "source": [
    "**No need to change the data types.**"
   ]
  },
  {
   "cell_type": "code",
   "execution_count": 75,
   "metadata": {
    "ExecuteTime": {
     "end_time": "2021-05-31T23:58:11.516618Z",
     "start_time": "2021-05-31T23:58:11.472492Z"
    }
   },
   "outputs": [
    {
     "name": "stdout",
     "output_type": "stream",
     "text": [
      "<class 'pandas.core.frame.DataFrame'>\n",
      "RangeIndex: 44994526 entries, 0 to 44994525\n",
      "Data columns (total 6 columns):\n",
      " #   Column            Dtype \n",
      "---  ------            ----- \n",
      " 0   t_id              object\n",
      " 1   ordering          int64 \n",
      " 2   n_id              object\n",
      " 3   job_category      object\n",
      " 4   job_title         object\n",
      " 5   character_played  object\n",
      "dtypes: int64(1), object(5)\n",
      "memory usage: 2.0+ GB\n"
     ]
    }
   ],
   "source": [
    "df_principals.info()"
   ]
  },
  {
   "cell_type": "markdown",
   "metadata": {},
   "source": [
    "### Export title_principals \n",
    "\n",
    "Now that we have correct missing values and ids, let's export it!"
   ]
  },
  {
   "cell_type": "code",
   "execution_count": 76,
   "metadata": {
    "ExecuteTime": {
     "end_time": "2021-06-01T00:00:17.705024Z",
     "start_time": "2021-05-31T23:58:11.520744Z"
    }
   },
   "outputs": [
    {
     "name": "stdout",
     "output_type": "stream",
     "text": [
      "Principals table exported!\n"
     ]
    }
   ],
   "source": [
    "# We don't need ordering column\n",
    "df_principals.drop(\"ordering\", axis=1).to_csv(\"data/principals.csv\", index=False)\n",
    "print(\"Principals table exported!\")\n",
    "\n",
    "# os.remove(directory + \"/title_principals.tsv\")"
   ]
  },
  {
   "cell_type": "markdown",
   "metadata": {},
   "source": [
    "<hr style=\"height:.9px;border:none;color:#333;background-color:#333;\" />\n",
    "\n",
    "## Ratings\n",
    "\n",
    "Finally a light file... The lightest actually!\n",
    "\n",
    "### Import file"
   ]
  },
  {
   "cell_type": "code",
   "execution_count": 77,
   "metadata": {
    "ExecuteTime": {
     "end_time": "2021-06-01T00:00:18.515173Z",
     "start_time": "2021-06-01T00:00:17.718598Z"
    }
   },
   "outputs": [
    {
     "data": {
      "text/plain": [
       "(1157108, 3)"
      ]
     },
     "execution_count": 77,
     "metadata": {},
     "output_type": "execute_result"
    }
   ],
   "source": [
    "df_ratings = pd.read_csv(\"data/TSVs/title_ratings.tsv\", delimiter=\"\\t\")\n",
    "df_ratings.shape"
   ]
  },
  {
   "cell_type": "code",
   "execution_count": 78,
   "metadata": {
    "ExecuteTime": {
     "end_time": "2021-06-01T00:00:18.526620Z",
     "start_time": "2021-06-01T00:00:18.518868Z"
    }
   },
   "outputs": [],
   "source": [
    "df_ratings.columns = ['t_id', 'rating', 'votes']"
   ]
  },
  {
   "cell_type": "markdown",
   "metadata": {
    "ExecuteTime": {
     "end_time": "2021-05-27T21:41:05.403727Z",
     "start_time": "2021-05-27T21:41:05.400262Z"
    }
   },
   "source": [
    "### Replacing missing values & id of id_columns\n"
   ]
  },
  {
   "cell_type": "code",
   "execution_count": 79,
   "metadata": {
    "ExecuteTime": {
     "end_time": "2021-06-01T00:00:18.569854Z",
     "start_time": "2021-06-01T00:00:18.529541Z"
    }
   },
   "outputs": [
    {
     "data": {
      "text/html": [
       "<div>\n",
       "<style scoped>\n",
       "    .dataframe tbody tr th:only-of-type {\n",
       "        vertical-align: middle;\n",
       "    }\n",
       "\n",
       "    .dataframe tbody tr th {\n",
       "        vertical-align: top;\n",
       "    }\n",
       "\n",
       "    .dataframe thead th {\n",
       "        text-align: right;\n",
       "    }\n",
       "</style>\n",
       "<table border=\"1\" class=\"dataframe\">\n",
       "  <thead>\n",
       "    <tr style=\"text-align: right;\">\n",
       "      <th></th>\n",
       "      <th>t_id</th>\n",
       "      <th>rating</th>\n",
       "      <th>votes</th>\n",
       "    </tr>\n",
       "  </thead>\n",
       "  <tbody>\n",
       "    <tr>\n",
       "      <th>0</th>\n",
       "      <td>tt0000001</td>\n",
       "      <td>5.7</td>\n",
       "      <td>1707</td>\n",
       "    </tr>\n",
       "    <tr>\n",
       "      <th>1</th>\n",
       "      <td>tt0000002</td>\n",
       "      <td>6.1</td>\n",
       "      <td>210</td>\n",
       "    </tr>\n",
       "    <tr>\n",
       "      <th>2</th>\n",
       "      <td>tt0000003</td>\n",
       "      <td>6.5</td>\n",
       "      <td>1465</td>\n",
       "    </tr>\n",
       "    <tr>\n",
       "      <th>3</th>\n",
       "      <td>tt0000004</td>\n",
       "      <td>6.2</td>\n",
       "      <td>123</td>\n",
       "    </tr>\n",
       "    <tr>\n",
       "      <th>4</th>\n",
       "      <td>tt0000005</td>\n",
       "      <td>6.2</td>\n",
       "      <td>2266</td>\n",
       "    </tr>\n",
       "  </tbody>\n",
       "</table>\n",
       "</div>"
      ],
      "text/plain": [
       "        t_id  rating  votes\n",
       "0  tt0000001     5.7   1707\n",
       "1  tt0000002     6.1    210\n",
       "2  tt0000003     6.5   1465\n",
       "3  tt0000004     6.2    123\n",
       "4  tt0000005     6.2   2266"
      ]
     },
     "execution_count": 79,
     "metadata": {},
     "output_type": "execute_result"
    }
   ],
   "source": [
    "df_ratings = clean_df(df_ratings)\n",
    "df_ratings.head()"
   ]
  },
  {
   "cell_type": "markdown",
   "metadata": {},
   "source": [
    "**No need to change the data types.**"
   ]
  },
  {
   "cell_type": "code",
   "execution_count": 80,
   "metadata": {
    "ExecuteTime": {
     "end_time": "2021-06-01T00:00:18.670129Z",
     "start_time": "2021-06-01T00:00:18.573361Z"
    }
   },
   "outputs": [
    {
     "name": "stdout",
     "output_type": "stream",
     "text": [
      "<class 'pandas.core.frame.DataFrame'>\n",
      "RangeIndex: 1157108 entries, 0 to 1157107\n",
      "Data columns (total 3 columns):\n",
      " #   Column  Non-Null Count    Dtype  \n",
      "---  ------  --------------    -----  \n",
      " 0   t_id    1157108 non-null  object \n",
      " 1   rating  1157108 non-null  float64\n",
      " 2   votes   1157108 non-null  int64  \n",
      "dtypes: float64(1), int64(1), object(1)\n",
      "memory usage: 26.5+ MB\n"
     ]
    }
   ],
   "source": [
    "df_ratings.info()"
   ]
  },
  {
   "cell_type": "markdown",
   "metadata": {},
   "source": [
    "### Export Ratings \n",
    "\n",
    "Now that we have correct missing values and ids, let's export it!"
   ]
  },
  {
   "cell_type": "code",
   "execution_count": 81,
   "metadata": {
    "ExecuteTime": {
     "end_time": "2021-06-01T00:00:20.774392Z",
     "start_time": "2021-06-01T00:00:18.673333Z"
    }
   },
   "outputs": [
    {
     "name": "stdout",
     "output_type": "stream",
     "text": [
      "Ratings table exported!\n"
     ]
    }
   ],
   "source": [
    "df_ratings.to_csv(\"data/ratings.csv\", index=False)\n",
    "print(\"Ratings table exported!\")\n",
    "\n",
    "# We also don't need that tsv file anymore\n",
    "# os.remove(directory + \"/title_ratings.tsv\")"
   ]
  },
  {
   "cell_type": "markdown",
   "metadata": {},
   "source": [
    "<hr style=\"height:.9px;border:none;color:#333;background-color:#333;\" />\n",
    "\n",
    "## Episode\n",
    "\n",
    "### Import file"
   ]
  },
  {
   "cell_type": "code",
   "execution_count": 82,
   "metadata": {
    "ExecuteTime": {
     "end_time": "2021-06-01T00:00:24.509164Z",
     "start_time": "2021-06-01T00:00:20.778466Z"
    }
   },
   "outputs": [
    {
     "data": {
      "text/plain": [
       "(5799623, 4)"
      ]
     },
     "execution_count": 82,
     "metadata": {},
     "output_type": "execute_result"
    }
   ],
   "source": [
    "df_episode = pd.read_csv(\"data/TSVs/title_episode.tsv\", delimiter=\"\\t\")\n",
    "df_episode.shape"
   ]
  },
  {
   "cell_type": "markdown",
   "metadata": {},
   "source": [
    "`parent_id` is the name of the TV-show where `t_id` is the title of the episode. For movies, `t_id` is the title of the movie.\n"
   ]
  },
  {
   "cell_type": "code",
   "execution_count": 83,
   "metadata": {
    "ExecuteTime": {
     "end_time": "2021-06-01T00:00:24.517628Z",
     "start_time": "2021-06-01T00:00:24.512322Z"
    }
   },
   "outputs": [],
   "source": [
    "df_episode.columns = ['t_id', 'parent_id', 'season', 'episode']"
   ]
  },
  {
   "cell_type": "markdown",
   "metadata": {},
   "source": [
    "### Replacing missing values & id of id_columns\n"
   ]
  },
  {
   "cell_type": "code",
   "execution_count": 84,
   "metadata": {
    "ExecuteTime": {
     "end_time": "2021-06-01T00:00:25.089036Z",
     "start_time": "2021-06-01T00:00:24.521288Z"
    }
   },
   "outputs": [
    {
     "data": {
      "text/html": [
       "<div>\n",
       "<style scoped>\n",
       "    .dataframe tbody tr th:only-of-type {\n",
       "        vertical-align: middle;\n",
       "    }\n",
       "\n",
       "    .dataframe tbody tr th {\n",
       "        vertical-align: top;\n",
       "    }\n",
       "\n",
       "    .dataframe thead th {\n",
       "        text-align: right;\n",
       "    }\n",
       "</style>\n",
       "<table border=\"1\" class=\"dataframe\">\n",
       "  <thead>\n",
       "    <tr style=\"text-align: right;\">\n",
       "      <th></th>\n",
       "      <th>t_id</th>\n",
       "      <th>parent_id</th>\n",
       "      <th>season</th>\n",
       "      <th>episode</th>\n",
       "    </tr>\n",
       "  </thead>\n",
       "  <tbody>\n",
       "    <tr>\n",
       "      <th>0</th>\n",
       "      <td>tt0041951</td>\n",
       "      <td>tt0041038</td>\n",
       "      <td>1</td>\n",
       "      <td>9</td>\n",
       "    </tr>\n",
       "    <tr>\n",
       "      <th>1</th>\n",
       "      <td>tt0042816</td>\n",
       "      <td>tt0989125</td>\n",
       "      <td>1</td>\n",
       "      <td>17</td>\n",
       "    </tr>\n",
       "    <tr>\n",
       "      <th>2</th>\n",
       "      <td>tt0042889</td>\n",
       "      <td>tt0989125</td>\n",
       "      <td>NaN</td>\n",
       "      <td>NaN</td>\n",
       "    </tr>\n",
       "    <tr>\n",
       "      <th>3</th>\n",
       "      <td>tt0043426</td>\n",
       "      <td>tt0040051</td>\n",
       "      <td>3</td>\n",
       "      <td>42</td>\n",
       "    </tr>\n",
       "    <tr>\n",
       "      <th>4</th>\n",
       "      <td>tt0043631</td>\n",
       "      <td>tt0989125</td>\n",
       "      <td>2</td>\n",
       "      <td>16</td>\n",
       "    </tr>\n",
       "  </tbody>\n",
       "</table>\n",
       "</div>"
      ],
      "text/plain": [
       "        t_id  parent_id season episode\n",
       "0  tt0041951  tt0041038      1       9\n",
       "1  tt0042816  tt0989125      1      17\n",
       "2  tt0042889  tt0989125    NaN     NaN\n",
       "3  tt0043426  tt0040051      3      42\n",
       "4  tt0043631  tt0989125      2      16"
      ]
     },
     "execution_count": 84,
     "metadata": {},
     "output_type": "execute_result"
    }
   ],
   "source": [
    "df_episode = clean_df(df_episode)\n",
    "df_episode.head()"
   ]
  },
  {
   "cell_type": "code",
   "execution_count": 85,
   "metadata": {
    "ExecuteTime": {
     "end_time": "2021-06-01T00:00:25.101991Z",
     "start_time": "2021-06-01T00:00:25.092019Z"
    }
   },
   "outputs": [
    {
     "name": "stdout",
     "output_type": "stream",
     "text": [
      "<class 'pandas.core.frame.DataFrame'>\n",
      "RangeIndex: 5799623 entries, 0 to 5799622\n",
      "Data columns (total 4 columns):\n",
      " #   Column     Dtype \n",
      "---  ------     ----- \n",
      " 0   t_id       object\n",
      " 1   parent_id  object\n",
      " 2   season     object\n",
      " 3   episode    object\n",
      "dtypes: object(4)\n",
      "memory usage: 177.0+ MB\n"
     ]
    }
   ],
   "source": [
    "df_episode.info()"
   ]
  },
  {
   "cell_type": "markdown",
   "metadata": {},
   "source": [
    "**Just checking if numbers in season and episode are `str`or `int`**"
   ]
  },
  {
   "cell_type": "code",
   "execution_count": 86,
   "metadata": {
    "ExecuteTime": {
     "end_time": "2021-06-01T00:00:26.578079Z",
     "start_time": "2021-06-01T00:00:25.105683Z"
    }
   },
   "outputs": [
    {
     "name": "stdout",
     "output_type": "stream",
     "text": [
      "<class 'str'>\n",
      "<class 'str'>\n"
     ]
    }
   ],
   "source": [
    "for value in df_episode[\"season\"]:\n",
    "    # If the value is not a str and not null then print. If nothing gets printed, all vals are strings\n",
    "    if type(value) != str and str(value) != \"nan\": \n",
    "        print(type(value))\n",
    "    \n",
    "# Just making sure the precedent comment is correct. Index choosen based on output of 4.4.2\n",
    "print(type(df_episode.loc[0, \"season\"]))\n",
    "print(type(df_episode.loc[0, \"episode\"]))"
   ]
  },
  {
   "cell_type": "markdown",
   "metadata": {},
   "source": [
    "### Export Episodes \n",
    "\n",
    "Now that we have correct missing values and ids, let's export it!"
   ]
  },
  {
   "cell_type": "code",
   "execution_count": 87,
   "metadata": {
    "ExecuteTime": {
     "end_time": "2021-06-01T00:00:35.499940Z",
     "start_time": "2021-06-01T00:00:26.581521Z"
    }
   },
   "outputs": [
    {
     "name": "stdout",
     "output_type": "stream",
     "text": [
      "Episode table exported!\n"
     ]
    }
   ],
   "source": [
    "df_episode.to_csv(\"data/episode.csv\", index=False)\n",
    "print(\"Episode table exported!\")\n",
    "\n",
    "# os.remove(directory + \"/title_episode.tsv\")"
   ]
  },
  {
   "cell_type": "markdown",
   "metadata": {},
   "source": [
    "<hr style=\"height:.9px;border:none;color:#333;background-color:#333;\" />\n",
    "\n",
    "## Crew\n",
    "\n",
    "### Import file"
   ]
  },
  {
   "cell_type": "code",
   "execution_count": 88,
   "metadata": {
    "ExecuteTime": {
     "end_time": "2021-06-01T00:00:46.751784Z",
     "start_time": "2021-06-01T00:00:35.505808Z"
    }
   },
   "outputs": [
    {
     "data": {
      "text/plain": [
       "(7951502, 3)"
      ]
     },
     "execution_count": 88,
     "metadata": {},
     "output_type": "execute_result"
    }
   ],
   "source": [
    "df_crew = pd.read_csv(\"data/TSVs/title_crew.tsv\", delimiter=\"\\t\")\n",
    "import_shape = df_crew.shape\n",
    "import_shape"
   ]
  },
  {
   "cell_type": "code",
   "execution_count": 89,
   "metadata": {
    "ExecuteTime": {
     "end_time": "2021-06-01T00:00:46.767599Z",
     "start_time": "2021-06-01T00:00:46.760652Z"
    }
   },
   "outputs": [],
   "source": [
    "df_crew.columns = ['t_id', 'directors', 'writers']"
   ]
  },
  {
   "cell_type": "markdown",
   "metadata": {},
   "source": [
    "### Replacing missing values & id of id_columns\n"
   ]
  },
  {
   "cell_type": "code",
   "execution_count": 90,
   "metadata": {
    "ExecuteTime": {
     "end_time": "2021-06-01T00:00:47.772973Z",
     "start_time": "2021-06-01T00:00:46.773700Z"
    }
   },
   "outputs": [
    {
     "data": {
      "text/html": [
       "<div>\n",
       "<style scoped>\n",
       "    .dataframe tbody tr th:only-of-type {\n",
       "        vertical-align: middle;\n",
       "    }\n",
       "\n",
       "    .dataframe tbody tr th {\n",
       "        vertical-align: top;\n",
       "    }\n",
       "\n",
       "    .dataframe thead th {\n",
       "        text-align: right;\n",
       "    }\n",
       "</style>\n",
       "<table border=\"1\" class=\"dataframe\">\n",
       "  <thead>\n",
       "    <tr style=\"text-align: right;\">\n",
       "      <th></th>\n",
       "      <th>t_id</th>\n",
       "      <th>directors</th>\n",
       "      <th>writers</th>\n",
       "    </tr>\n",
       "  </thead>\n",
       "  <tbody>\n",
       "    <tr>\n",
       "      <th>0</th>\n",
       "      <td>tt0000001</td>\n",
       "      <td>nm0005690</td>\n",
       "      <td>NaN</td>\n",
       "    </tr>\n",
       "    <tr>\n",
       "      <th>1</th>\n",
       "      <td>tt0000002</td>\n",
       "      <td>nm0721526</td>\n",
       "      <td>NaN</td>\n",
       "    </tr>\n",
       "    <tr>\n",
       "      <th>2</th>\n",
       "      <td>tt0000003</td>\n",
       "      <td>nm0721526</td>\n",
       "      <td>NaN</td>\n",
       "    </tr>\n",
       "    <tr>\n",
       "      <th>3</th>\n",
       "      <td>tt0000004</td>\n",
       "      <td>nm0721526</td>\n",
       "      <td>NaN</td>\n",
       "    </tr>\n",
       "    <tr>\n",
       "      <th>4</th>\n",
       "      <td>tt0000005</td>\n",
       "      <td>nm0005690</td>\n",
       "      <td>NaN</td>\n",
       "    </tr>\n",
       "  </tbody>\n",
       "</table>\n",
       "</div>"
      ],
      "text/plain": [
       "        t_id  directors writers\n",
       "0  tt0000001  nm0005690     NaN\n",
       "1  tt0000002  nm0721526     NaN\n",
       "2  tt0000003  nm0721526     NaN\n",
       "3  tt0000004  nm0721526     NaN\n",
       "4  tt0000005  nm0005690     NaN"
      ]
     },
     "execution_count": 90,
     "metadata": {},
     "output_type": "execute_result"
    }
   ],
   "source": [
    "df_crew = clean_df(df_crew)\n",
    "df_crew.head()"
   ]
  },
  {
   "cell_type": "markdown",
   "metadata": {},
   "source": [
    "### Flatten the table \n",
    "\n",
    "Some ids have multiple directors and/or writers, I want each row to have one value only. I'm basically redoing what I did in `4.1.5`\n",
    "\n",
    "Need to find a way to fasten this"
   ]
  },
  {
   "cell_type": "code",
   "execution_count": 91,
   "metadata": {
    "ExecuteTime": {
     "end_time": "2021-06-01T00:02:50.509441Z",
     "start_time": "2021-06-01T00:00:47.777814Z"
    }
   },
   "outputs": [],
   "source": [
    "# Flattenning both columns into two dataframes\n",
    "df_directors = df_crew[[\"t_id\", \"directors\"]].set_index(\"t_id\")[\"directors\"].str.split(\",\")\\\n",
    "                                         .explode().to_frame().reset_index()\n",
    "\n",
    "df_writers = df_crew[[\"t_id\", \"writers\"]].set_index(\"t_id\")[\"writers\"].str.split(\",\")\\\n",
    "                                         .explode().to_frame().reset_index()\n",
    "\n",
    "\n",
    "# Merging both dfs on the ID and as outer as we still want a director if there is no writer\n",
    "df_crew = df_directors.dropna().merge(df_writers.dropna(), how=\"outer\", on=\"t_id\")"
   ]
  },
  {
   "cell_type": "markdown",
   "metadata": {},
   "source": [
    "### Export Crew \n",
    "\n",
    "Now that we have correct missing values and ids, let's export it!"
   ]
  },
  {
   "cell_type": "code",
   "execution_count": 92,
   "metadata": {
    "ExecuteTime": {
     "end_time": "2021-06-01T00:02:50.536393Z",
     "start_time": "2021-06-01T00:02:50.525820Z"
    }
   },
   "outputs": [
    {
     "name": "stdout",
     "output_type": "stream",
     "text": [
      "Import shape: (7951502, 3) \n",
      "Export shape: (20483997, 3)\n"
     ]
    }
   ],
   "source": [
    "export_shape = df_crew.shape\n",
    "print(f\"Import shape: {import_shape} \\nExport shape: {export_shape}\")"
   ]
  },
  {
   "cell_type": "code",
   "execution_count": 93,
   "metadata": {
    "ExecuteTime": {
     "end_time": "2021-06-01T00:03:22.429817Z",
     "start_time": "2021-06-01T00:02:50.539094Z"
    }
   },
   "outputs": [
    {
     "name": "stdout",
     "output_type": "stream",
     "text": [
      "Crew table exported!\n"
     ]
    }
   ],
   "source": [
    "df_crew.to_csv(\"data/crew.csv\", index=False)\n",
    "print(\"Crew table exported!\")\n",
    "\n",
    "# os.remove(directory + \"/title_crew.tsv\")"
   ]
  },
  {
   "cell_type": "markdown",
   "metadata": {},
   "source": [
    "<hr style=\"height:.9px;border:none;color:#333;background-color:#333;\" />\n",
    "\n",
    "## Akas\n",
    "\n",
    "### Import file"
   ]
  },
  {
   "cell_type": "code",
   "execution_count": 94,
   "metadata": {
    "ExecuteTime": {
     "end_time": "2021-06-01T00:04:11.529526Z",
     "start_time": "2021-06-01T00:03:22.433427Z"
    }
   },
   "outputs": [
    {
     "name": "stderr",
     "output_type": "stream",
     "text": [
      "/Applications/anaconda3/lib/python3.8/site-packages/IPython/core/interactiveshell.py:3145: DtypeWarning: Columns (7) have mixed types.Specify dtype option on import or set low_memory=False.\n",
      "  has_raised = await self.run_ast_nodes(code_ast.body, cell_name,\n"
     ]
    },
    {
     "data": {
      "text/plain": [
       "(26444606, 8)"
      ]
     },
     "execution_count": 94,
     "metadata": {},
     "output_type": "execute_result"
    }
   ],
   "source": [
    "df_akas = pd.read_csv(\"data/TSVs/title_akas.tsv\", delimiter=\"\\t\")\n",
    "df_akas.shape"
   ]
  },
  {
   "cell_type": "code",
   "execution_count": 95,
   "metadata": {
    "ExecuteTime": {
     "end_time": "2021-06-01T00:04:11.611695Z",
     "start_time": "2021-06-01T00:04:11.562482Z"
    }
   },
   "outputs": [],
   "source": [
    "df_akas.columns = ['t_id', 'ordering', 'title', 'region', 'language', \n",
    "                   'types', 'attributes', 'isoriginal']"
   ]
  },
  {
   "cell_type": "markdown",
   "metadata": {},
   "source": [
    "### Replacing missing values & id of id_columns\n"
   ]
  },
  {
   "cell_type": "code",
   "execution_count": 96,
   "metadata": {
    "ExecuteTime": {
     "end_time": "2021-06-01T00:04:18.155339Z",
     "start_time": "2021-06-01T00:04:11.617924Z"
    }
   },
   "outputs": [
    {
     "data": {
      "text/html": [
       "<div>\n",
       "<style scoped>\n",
       "    .dataframe tbody tr th:only-of-type {\n",
       "        vertical-align: middle;\n",
       "    }\n",
       "\n",
       "    .dataframe tbody tr th {\n",
       "        vertical-align: top;\n",
       "    }\n",
       "\n",
       "    .dataframe thead th {\n",
       "        text-align: right;\n",
       "    }\n",
       "</style>\n",
       "<table border=\"1\" class=\"dataframe\">\n",
       "  <thead>\n",
       "    <tr style=\"text-align: right;\">\n",
       "      <th></th>\n",
       "      <th>t_id</th>\n",
       "      <th>ordering</th>\n",
       "      <th>title</th>\n",
       "      <th>region</th>\n",
       "      <th>language</th>\n",
       "      <th>types</th>\n",
       "      <th>attributes</th>\n",
       "      <th>isoriginal</th>\n",
       "    </tr>\n",
       "  </thead>\n",
       "  <tbody>\n",
       "    <tr>\n",
       "      <th>0</th>\n",
       "      <td>tt0000001</td>\n",
       "      <td>1</td>\n",
       "      <td>Карменсіта</td>\n",
       "      <td>UA</td>\n",
       "      <td>NaN</td>\n",
       "      <td>imdbDisplay</td>\n",
       "      <td>NaN</td>\n",
       "      <td>0</td>\n",
       "    </tr>\n",
       "    <tr>\n",
       "      <th>1</th>\n",
       "      <td>tt0000001</td>\n",
       "      <td>2</td>\n",
       "      <td>Carmencita</td>\n",
       "      <td>DE</td>\n",
       "      <td>NaN</td>\n",
       "      <td>NaN</td>\n",
       "      <td>literal title</td>\n",
       "      <td>0</td>\n",
       "    </tr>\n",
       "    <tr>\n",
       "      <th>2</th>\n",
       "      <td>tt0000001</td>\n",
       "      <td>3</td>\n",
       "      <td>Carmencita - spanyol tánc</td>\n",
       "      <td>HU</td>\n",
       "      <td>NaN</td>\n",
       "      <td>imdbDisplay</td>\n",
       "      <td>NaN</td>\n",
       "      <td>0</td>\n",
       "    </tr>\n",
       "    <tr>\n",
       "      <th>3</th>\n",
       "      <td>tt0000001</td>\n",
       "      <td>4</td>\n",
       "      <td>Καρμενσίτα</td>\n",
       "      <td>GR</td>\n",
       "      <td>NaN</td>\n",
       "      <td>imdbDisplay</td>\n",
       "      <td>NaN</td>\n",
       "      <td>0</td>\n",
       "    </tr>\n",
       "    <tr>\n",
       "      <th>4</th>\n",
       "      <td>tt0000001</td>\n",
       "      <td>5</td>\n",
       "      <td>Карменсита</td>\n",
       "      <td>RU</td>\n",
       "      <td>NaN</td>\n",
       "      <td>imdbDisplay</td>\n",
       "      <td>NaN</td>\n",
       "      <td>0</td>\n",
       "    </tr>\n",
       "  </tbody>\n",
       "</table>\n",
       "</div>"
      ],
      "text/plain": [
       "        t_id  ordering                      title region language  \\\n",
       "0  tt0000001         1                 Карменсіта     UA      NaN   \n",
       "1  tt0000001         2                 Carmencita     DE      NaN   \n",
       "2  tt0000001         3  Carmencita - spanyol tánc     HU      NaN   \n",
       "3  tt0000001         4                 Καρμενσίτα     GR      NaN   \n",
       "4  tt0000001         5                 Карменсита     RU      NaN   \n",
       "\n",
       "         types     attributes isoriginal  \n",
       "0  imdbDisplay            NaN          0  \n",
       "1          NaN  literal title          0  \n",
       "2  imdbDisplay            NaN          0  \n",
       "3  imdbDisplay            NaN          0  \n",
       "4  imdbDisplay            NaN          0  "
      ]
     },
     "execution_count": 96,
     "metadata": {},
     "output_type": "execute_result"
    }
   ],
   "source": [
    "df_akas = clean_df(df_akas)\n",
    "df_akas.head()"
   ]
  },
  {
   "cell_type": "markdown",
   "metadata": {},
   "source": [
    "### Changing data types "
   ]
  },
  {
   "cell_type": "code",
   "execution_count": 97,
   "metadata": {
    "ExecuteTime": {
     "end_time": "2021-06-01T00:04:18.207824Z",
     "start_time": "2021-06-01T00:04:18.158161Z"
    }
   },
   "outputs": [
    {
     "name": "stdout",
     "output_type": "stream",
     "text": [
      "<class 'pandas.core.frame.DataFrame'>\n",
      "RangeIndex: 26444606 entries, 0 to 26444605\n",
      "Data columns (total 8 columns):\n",
      " #   Column      Dtype \n",
      "---  ------      ----- \n",
      " 0   t_id        object\n",
      " 1   ordering    int64 \n",
      " 2   title       object\n",
      " 3   region      object\n",
      " 4   language    object\n",
      " 5   types       object\n",
      " 6   attributes  object\n",
      " 7   isoriginal  object\n",
      "dtypes: int64(1), object(7)\n",
      "memory usage: 1.6+ GB\n"
     ]
    }
   ],
   "source": [
    "df_akas.info()"
   ]
  },
  {
   "cell_type": "markdown",
   "metadata": {},
   "source": [
    "#### Changing isoriginal from `object` to `int`"
   ]
  },
  {
   "cell_type": "code",
   "execution_count": 98,
   "metadata": {
    "ExecuteTime": {
     "end_time": "2021-06-01T00:04:31.265921Z",
     "start_time": "2021-06-01T00:04:18.210583Z"
    }
   },
   "outputs": [
    {
     "name": "stdout",
     "output_type": "stream",
     "text": [
      "99.83%                                                                                                                                                                                                                                                                                                                                                                                                                   \r"
     ]
    }
   ],
   "source": [
    "df_akas = series_to_int(df_akas, \"isoriginal\")"
   ]
  },
  {
   "cell_type": "markdown",
   "metadata": {},
   "source": [
    "**Making sure `isoriginal` dtype is int**"
   ]
  },
  {
   "cell_type": "code",
   "execution_count": 99,
   "metadata": {
    "ExecuteTime": {
     "end_time": "2021-06-01T00:04:31.296193Z",
     "start_time": "2021-06-01T00:04:31.272244Z"
    }
   },
   "outputs": [
    {
     "name": "stdout",
     "output_type": "stream",
     "text": [
      "<class 'pandas.core.frame.DataFrame'>\n",
      "RangeIndex: 26444606 entries, 0 to 26444605\n",
      "Data columns (total 8 columns):\n",
      " #   Column      Dtype \n",
      "---  ------      ----- \n",
      " 0   t_id        object\n",
      " 1   ordering    int64 \n",
      " 2   title       object\n",
      " 3   region      object\n",
      " 4   language    object\n",
      " 5   types       object\n",
      " 6   attributes  object\n",
      " 7   isoriginal  Int64 \n",
      "dtypes: Int64(1), int64(1), object(6)\n",
      "memory usage: 1.6+ GB\n"
     ]
    }
   ],
   "source": [
    "df_akas.info()"
   ]
  },
  {
   "cell_type": "code",
   "execution_count": 100,
   "metadata": {
    "ExecuteTime": {
     "end_time": "2021-06-01T00:04:31.662349Z",
     "start_time": "2021-06-01T00:04:31.301829Z"
    }
   },
   "outputs": [
    {
     "data": {
      "text/plain": [
       "0    25886759\n",
       "1      555658\n",
       "Name: isoriginal, dtype: Int64"
      ]
     },
     "execution_count": 100,
     "metadata": {},
     "output_type": "execute_result"
    }
   ],
   "source": [
    "df_akas[\"isoriginal\"].value_counts()"
   ]
  },
  {
   "cell_type": "markdown",
   "metadata": {},
   "source": [
    "### Export Akas \n",
    "\n",
    "Now that we have correct missing values and ids, let's export it!"
   ]
  },
  {
   "cell_type": "code",
   "execution_count": 101,
   "metadata": {
    "ExecuteTime": {
     "end_time": "2021-06-01T00:05:39.591678Z",
     "start_time": "2021-06-01T00:04:31.667466Z"
    }
   },
   "outputs": [
    {
     "name": "stdout",
     "output_type": "stream",
     "text": [
      "Akas table exported!\n"
     ]
    }
   ],
   "source": [
    "df_akas.drop(\"ordering\", axis=1).to_csv(\"data/akas.csv\", index=False)\n",
    "print(\"Akas table exported!\")\n",
    "\n",
    "# os.remove(directory + \"/title_akas.tsv\")"
   ]
  },
  {
   "cell_type": "markdown",
   "metadata": {},
   "source": [
    "<hr style=\"height:.9px;border:none;color:#333;background-color:#333;\" />\n",
    "\n",
    "## Names\n",
    "\n",
    "### Import file"
   ]
  },
  {
   "cell_type": "code",
   "execution_count": 102,
   "metadata": {
    "ExecuteTime": {
     "end_time": "2021-06-01T00:06:29.157617Z",
     "start_time": "2021-06-01T00:05:39.601128Z"
    }
   },
   "outputs": [],
   "source": [
    "df_names = pd.read_csv(\"data/TSVs/name_basics.tsv\", delimiter=\"\\t\")\n",
    "import_shape = df_names.shape"
   ]
  },
  {
   "cell_type": "code",
   "execution_count": 103,
   "metadata": {
    "ExecuteTime": {
     "end_time": "2021-06-01T00:06:29.240014Z",
     "start_time": "2021-06-01T00:06:29.168075Z"
    }
   },
   "outputs": [],
   "source": [
    "df_names.columns = ['n_id', 'name', 'birth', 'death', 'profession','known_for']"
   ]
  },
  {
   "cell_type": "markdown",
   "metadata": {},
   "source": [
    "### Replacing missing values & id of id_columns\n"
   ]
  },
  {
   "cell_type": "code",
   "execution_count": 104,
   "metadata": {
    "ExecuteTime": {
     "end_time": "2021-06-01T00:06:35.205408Z",
     "start_time": "2021-06-01T00:06:29.248714Z"
    }
   },
   "outputs": [
    {
     "data": {
      "text/html": [
       "<div>\n",
       "<style scoped>\n",
       "    .dataframe tbody tr th:only-of-type {\n",
       "        vertical-align: middle;\n",
       "    }\n",
       "\n",
       "    .dataframe tbody tr th {\n",
       "        vertical-align: top;\n",
       "    }\n",
       "\n",
       "    .dataframe thead th {\n",
       "        text-align: right;\n",
       "    }\n",
       "</style>\n",
       "<table border=\"1\" class=\"dataframe\">\n",
       "  <thead>\n",
       "    <tr style=\"text-align: right;\">\n",
       "      <th></th>\n",
       "      <th>n_id</th>\n",
       "      <th>name</th>\n",
       "      <th>birth</th>\n",
       "      <th>death</th>\n",
       "      <th>profession</th>\n",
       "      <th>known_for</th>\n",
       "    </tr>\n",
       "  </thead>\n",
       "  <tbody>\n",
       "    <tr>\n",
       "      <th>0</th>\n",
       "      <td>nm0000001</td>\n",
       "      <td>Fred Astaire</td>\n",
       "      <td>1899</td>\n",
       "      <td>1987</td>\n",
       "      <td>soundtrack,actor,miscellaneous</td>\n",
       "      <td>tt0053137,tt0050419,tt0031983,tt0072308</td>\n",
       "    </tr>\n",
       "    <tr>\n",
       "      <th>1</th>\n",
       "      <td>nm0000002</td>\n",
       "      <td>Lauren Bacall</td>\n",
       "      <td>1924</td>\n",
       "      <td>2014</td>\n",
       "      <td>actress,soundtrack</td>\n",
       "      <td>tt0038355,tt0037382,tt0071877,tt0117057</td>\n",
       "    </tr>\n",
       "    <tr>\n",
       "      <th>2</th>\n",
       "      <td>nm0000003</td>\n",
       "      <td>Brigitte Bardot</td>\n",
       "      <td>1934</td>\n",
       "      <td>NaN</td>\n",
       "      <td>actress,soundtrack,music_department</td>\n",
       "      <td>tt0056404,tt0057345,tt0049189,tt0054452</td>\n",
       "    </tr>\n",
       "    <tr>\n",
       "      <th>3</th>\n",
       "      <td>nm0000004</td>\n",
       "      <td>John Belushi</td>\n",
       "      <td>1949</td>\n",
       "      <td>1982</td>\n",
       "      <td>actor,soundtrack,writer</td>\n",
       "      <td>tt0072562,tt0078723,tt0077975,tt0080455</td>\n",
       "    </tr>\n",
       "    <tr>\n",
       "      <th>4</th>\n",
       "      <td>nm0000005</td>\n",
       "      <td>Ingmar Bergman</td>\n",
       "      <td>1918</td>\n",
       "      <td>2007</td>\n",
       "      <td>writer,director,actor</td>\n",
       "      <td>tt0050976,tt0050986,tt0083922,tt0060827</td>\n",
       "    </tr>\n",
       "  </tbody>\n",
       "</table>\n",
       "</div>"
      ],
      "text/plain": [
       "        n_id             name birth death  \\\n",
       "0  nm0000001     Fred Astaire  1899  1987   \n",
       "1  nm0000002    Lauren Bacall  1924  2014   \n",
       "2  nm0000003  Brigitte Bardot  1934   NaN   \n",
       "3  nm0000004     John Belushi  1949  1982   \n",
       "4  nm0000005   Ingmar Bergman  1918  2007   \n",
       "\n",
       "                            profession  \\\n",
       "0       soundtrack,actor,miscellaneous   \n",
       "1                   actress,soundtrack   \n",
       "2  actress,soundtrack,music_department   \n",
       "3              actor,soundtrack,writer   \n",
       "4                writer,director,actor   \n",
       "\n",
       "                                 known_for  \n",
       "0  tt0053137,tt0050419,tt0031983,tt0072308  \n",
       "1  tt0038355,tt0037382,tt0071877,tt0117057  \n",
       "2  tt0056404,tt0057345,tt0049189,tt0054452  \n",
       "3  tt0072562,tt0078723,tt0077975,tt0080455  \n",
       "4  tt0050976,tt0050986,tt0083922,tt0060827  "
      ]
     },
     "execution_count": 104,
     "metadata": {},
     "output_type": "execute_result"
    }
   ],
   "source": [
    "df_names = clean_df(df_names)\n",
    "df_names.head()"
   ]
  },
  {
   "cell_type": "markdown",
   "metadata": {},
   "source": [
    "### Change data types"
   ]
  },
  {
   "cell_type": "code",
   "execution_count": 105,
   "metadata": {
    "ExecuteTime": {
     "end_time": "2021-06-01T00:06:35.242706Z",
     "start_time": "2021-06-01T00:06:35.207834Z"
    }
   },
   "outputs": [
    {
     "name": "stdout",
     "output_type": "stream",
     "text": [
      "<class 'pandas.core.frame.DataFrame'>\n",
      "RangeIndex: 10968938 entries, 0 to 10968937\n",
      "Data columns (total 6 columns):\n",
      " #   Column      Dtype \n",
      "---  ------      ----- \n",
      " 0   n_id        object\n",
      " 1   name        object\n",
      " 2   birth       object\n",
      " 3   death       object\n",
      " 4   profession  object\n",
      " 5   known_for   object\n",
      "dtypes: object(6)\n",
      "memory usage: 502.1+ MB\n"
     ]
    }
   ],
   "source": [
    "df_names.info()"
   ]
  },
  {
   "cell_type": "markdown",
   "metadata": {},
   "source": [
    "#### Changing birth and death from ` ` to `datetime`"
   ]
  },
  {
   "cell_type": "code",
   "execution_count": 106,
   "metadata": {
    "ExecuteTime": {
     "end_time": "2021-06-01T00:06:37.142815Z",
     "start_time": "2021-06-01T00:06:35.248386Z"
    }
   },
   "outputs": [],
   "source": [
    "df_names[\"birth\"] = pd.to_datetime(df_names[\"birth\"], format='%Y', errors='coerce')\n",
    "df_names[\"death\"] = pd.to_datetime(df_names[\"death\"], format='%Y', errors='coerce')"
   ]
  },
  {
   "cell_type": "code",
   "execution_count": 107,
   "metadata": {
    "ExecuteTime": {
     "end_time": "2021-06-01T00:06:37.167283Z",
     "start_time": "2021-06-01T00:06:37.145245Z"
    }
   },
   "outputs": [
    {
     "name": "stdout",
     "output_type": "stream",
     "text": [
      "<class 'pandas.core.frame.DataFrame'>\n",
      "RangeIndex: 10968938 entries, 0 to 10968937\n",
      "Data columns (total 6 columns):\n",
      " #   Column      Dtype         \n",
      "---  ------      -----         \n",
      " 0   n_id        object        \n",
      " 1   name        object        \n",
      " 2   birth       datetime64[ns]\n",
      " 3   death       datetime64[ns]\n",
      " 4   profession  object        \n",
      " 5   known_for   object        \n",
      "dtypes: datetime64[ns](2), object(4)\n",
      "memory usage: 502.1+ MB\n"
     ]
    }
   ],
   "source": [
    "df_names.info()"
   ]
  },
  {
   "cell_type": "markdown",
   "metadata": {},
   "source": [
    "### Known_for flatten"
   ]
  },
  {
   "cell_type": "code",
   "execution_count": 108,
   "metadata": {
    "ExecuteTime": {
     "end_time": "2021-06-01T00:08:33.452617Z",
     "start_time": "2021-06-01T00:06:37.174458Z"
    }
   },
   "outputs": [
    {
     "data": {
      "text/plain": [
       "(17114065, 2)"
      ]
     },
     "execution_count": 108,
     "metadata": {},
     "output_type": "execute_result"
    }
   ],
   "source": [
    "df_known_for = df_names[[\"n_id\", \"known_for\"]].set_index(\"n_id\")[\"known_for\"].str.split(\",\")\\\n",
    "                                         .explode().to_frame().reset_index().dropna()\n",
    "\n",
    "df_known_for.shape"
   ]
  },
  {
   "cell_type": "markdown",
   "metadata": {},
   "source": [
    "### Export both tables: Names and Known_for\n",
    "\n",
    "Now that we have correct missing values and ids, let's export it!"
   ]
  },
  {
   "cell_type": "code",
   "execution_count": 109,
   "metadata": {
    "ExecuteTime": {
     "end_time": "2021-06-01T00:09:28.240242Z",
     "start_time": "2021-06-01T00:08:33.469189Z"
    }
   },
   "outputs": [
    {
     "name": "stdout",
     "output_type": "stream",
     "text": [
      "Known_for table exported!\n",
      "Name table exported!\n"
     ]
    }
   ],
   "source": [
    "df_known_for.to_csv(\"data/known_for.csv\", index=False)\n",
    "print(\"Known_for table exported!\")\n",
    "\n",
    "# We don't need genre column in basics as we have a new df for it \n",
    "df_names.drop(\"known_for\", axis=1).to_csv(\"data/names.csv\", index=False)\n",
    "print(\"Name table exported!\")\n",
    "\n",
    "# os.remove(directory + \"/name_basics.tsv\")"
   ]
  },
  {
   "cell_type": "code",
   "execution_count": null,
   "metadata": {},
   "outputs": [],
   "source": [
    "\n",
    "\n",
    "\n",
    "\n",
    "\n",
    "\n",
    "\n",
    "\n",
    "\n",
    "\n",
    "\n",
    "\n",
    "\n",
    "\n",
    "\n",
    "\n",
    "\n",
    "\n",
    "\n",
    "\n",
    "\n",
    "\n",
    "\n",
    "\n",
    "\n"
   ]
  },
  {
   "cell_type": "code",
   "execution_count": null,
   "metadata": {},
   "outputs": [],
   "source": []
  },
  {
   "cell_type": "markdown",
   "metadata": {},
   "source": []
  },
  {
   "cell_type": "code",
   "execution_count": 110,
   "metadata": {
    "ExecuteTime": {
     "end_time": "2021-06-01T00:09:28.584388Z",
     "start_time": "2021-06-01T00:09:28.305713Z"
    }
   },
   "outputs": [
    {
     "name": "stdout",
     "output_type": "stream",
     "text": [
      "It took 17 minutes\n",
      "✅✅✅✅✅✅✅✅✅✅✅✅✅✅✅✅✅✅✅✅✅✅✅✅✅✅✅✅✅✅✅✅✅✅✅✅✅✅✅✅✅✅✅✅✅✅✅✅✅✅✅✅✅✅✅✅✅✅✅✅✅✅✅✅✅✅✅✅✅✅✅✅✅✅✅✅✅✅✅✅✅✅✅✅✅✅✅✅✅✅✅✅✅✅✅✅✅✅✅✅✅✅✅✅✅✅✅✅✅✅✅✅✅✅✅✅✅✅✅✅✅✅✅✅✅✅✅✅✅✅✅✅✅✅✅✅✅✅✅✅✅✅✅✅✅✅✅✅✅✅✅✅✅✅✅✅✅✅✅✅✅✅✅✅✅✅✅✅✅✅✅✅✅✅✅✅✅✅✅✅✅✅✅✅✅✅✅✅✅✅✅✅✅✅✅✅✅✅✅✅✅✅✅✅✅✅✅✅✅✅✅✅✅✅✅✅✅✅✅✅✅✅✅✅✅✅✅✅✅✅✅✅✅✅✅✅✅✅✅✅✅✅✅✅✅✅✅✅✅✅✅✅✅✅✅✅✅✅✅✅✅✅✅✅✅✅✅✅✅✅✅✅✅✅✅✅✅✅✅✅✅✅✅✅✅✅✅✅✅✅✅✅✅✅✅✅✅✅✅✅✅✅✅✅✅✅✅✅✅✅✅✅✅✅✅✅✅✅✅✅✅✅✅✅✅✅✅✅✅✅✅✅✅✅✅✅✅✅✅✅✅✅✅✅✅✅✅✅✅✅✅✅✅✅✅✅✅✅✅✅✅✅✅✅✅✅✅✅✅✅✅✅✅✅✅✅✅✅✅✅✅✅✅✅✅✅✅✅✅✅✅✅✅✅✅✅✅✅✅✅✅✅✅✅✅✅✅✅✅✅✅✅✅✅✅✅✅✅✅✅✅✅✅✅✅✅✅✅✅✅✅✅✅✅✅✅✅✅✅✅✅✅✅✅✅✅✅✅✅✅✅✅✅✅✅✅✅✅✅✅✅✅✅✅✅✅✅✅✅✅✅✅✅✅✅✅✅✅✅✅✅✅✅✅✅✅✅✅✅✅✅✅✅✅✅✅✅✅✅✅✅✅✅✅✅✅✅✅✅✅✅✅✅✅✅✅✅✅✅✅✅✅✅✅✅✅✅✅✅✅✅✅✅✅✅✅✅✅✅✅✅✅✅✅✅✅✅✅✅✅✅✅✅✅✅✅✅✅✅✅✅✅✅✅✅✅✅✅✅✅✅✅✅✅✅✅✅✅✅✅✅✅✅✅✅✅✅✅✅✅✅✅✅✅✅✅✅✅✅✅✅✅✅✅✅✅✅✅✅✅✅✅✅✅✅✅✅✅✅✅✅✅✅✅✅✅✅✅✅✅✅✅✅✅✅✅✅✅✅✅✅✅✅✅✅✅✅✅✅✅✅✅✅✅✅✅✅✅✅✅✅✅✅✅✅✅✅✅✅✅✅✅✅✅✅✅✅✅✅✅✅✅✅✅✅✅✅✅✅✅✅✅✅✅✅✅✅✅✅✅✅✅✅✅✅✅✅✅✅✅✅✅✅✅✅✅✅✅✅✅✅✅✅✅✅✅✅✅✅✅✅✅✅✅✅✅✅✅✅✅✅✅✅✅✅✅✅✅✅✅✅✅✅✅✅✅✅✅✅✅✅✅✅✅✅✅✅✅✅✅✅✅✅✅✅✅✅✅✅✅✅✅✅✅✅✅✅✅✅✅✅✅✅✅✅✅✅✅✅✅✅✅✅✅✅✅✅✅✅✅✅✅✅✅✅✅✅✅✅✅✅✅✅✅✅✅✅✅✅✅✅✅✅✅✅✅✅✅✅✅✅✅✅✅✅✅✅✅✅✅✅✅✅✅✅✅✅✅✅✅✅✅✅✅✅✅✅✅✅✅✅✅✅✅✅✅✅✅✅✅✅✅✅✅✅✅✅✅✅✅✅✅✅✅✅✅✅✅✅✅✅✅✅✅✅✅✅✅✅✅✅✅✅✅✅✅✅✅✅✅✅✅✅✅✅✅✅✅✅✅✅✅✅✅✅✅✅✅✅✅✅✅✅✅✅✅✅✅✅✅✅✅✅✅✅✅✅✅✅✅✅✅✅✅✅✅✅✅✅✅✅✅✅✅✅✅✅✅✅✅✅✅✅✅✅✅✅✅✅✅✅✅✅✅✅✅✅✅✅✅\n"
     ]
    }
   ],
   "source": [
    "# This is just for me when I run the script fully and I want to know when it's done. From my bed. \n",
    "on()\n",
    "diff = round((time.time() - start)/60)\n",
    "print(f\"It took {diff} minutes\")\n",
    "print(\"✅\"*1000)"
   ]
  },
  {
   "cell_type": "code",
   "execution_count": null,
   "metadata": {
    "ExecuteTime": {
     "end_time": "2021-05-28T18:38:43.604602Z",
     "start_time": "2021-05-28T18:38:43.489598Z"
    }
   },
   "outputs": [],
   "source": []
  },
  {
   "cell_type": "code",
   "execution_count": null,
   "metadata": {},
   "outputs": [],
   "source": [
    "\n",
    "\n",
    "\n",
    "\n",
    "\n",
    "\n",
    "\n",
    "\n",
    "\n",
    "\n",
    "\n",
    "\n",
    "\n",
    "\n",
    "\n",
    "\n",
    "\n",
    "\n",
    "\n",
    "\n",
    "\n",
    "\n",
    "\n",
    "\n",
    "\n",
    "\n",
    "\n",
    "\n",
    "\n",
    "\n",
    "\n",
    "\n",
    "\n",
    "\n",
    "\n"
   ]
  },
  {
   "cell_type": "code",
   "execution_count": 30,
   "metadata": {
    "ExecuteTime": {
     "end_time": "2021-05-31T23:34:54.428066Z",
     "start_time": "2021-05-31T23:34:54.390461Z"
    }
   },
   "outputs": [
    {
     "ename": "NameError",
     "evalue": "name 'df_basics' is not defined",
     "output_type": "error",
     "traceback": [
      "\u001b[0;31m---------------------------------------------------------------------------\u001b[0m",
      "\u001b[0;31mNameError\u001b[0m                                 Traceback (most recent call last)",
      "\u001b[0;32m<ipython-input-30-e5f14a19233f>\u001b[0m in \u001b[0;36m<module>\u001b[0;34m\u001b[0m\n\u001b[0;32m----> 1\u001b[0;31m \u001b[0mdf_basics\u001b[0m\u001b[0;34m.\u001b[0m\u001b[0mhead\u001b[0m\u001b[0;34m(\u001b[0m\u001b[0;34m)\u001b[0m\u001b[0;34m\u001b[0m\u001b[0;34m\u001b[0m\u001b[0m\n\u001b[0m",
      "\u001b[0;31mNameError\u001b[0m: name 'df_basics' is not defined"
     ]
    }
   ],
   "source": [
    "df_basics.head()"
   ]
  },
  {
   "cell_type": "markdown",
   "metadata": {},
   "source": [
    "# Merge all tables \n"
   ]
  },
  {
   "cell_type": "code",
   "execution_count": null,
   "metadata": {
    "ExecuteTime": {
     "end_time": "2021-05-28T19:22:35.673202Z",
     "start_time": "2021-05-28T19:22:35.419963Z"
    }
   },
   "outputs": [],
   "source": [
    "# set(df_known_for[\"t_id\"]).intersection(df_episode[\"t_id\"])\n",
    "\n",
    "df_names[df_names[\"n_id\"].isin(df_principals.loc[:20, \"n_id\"])][\"n_id\"]"
   ]
  },
  {
   "cell_type": "code",
   "execution_count": null,
   "metadata": {
    "ExecuteTime": {
     "end_time": "2021-05-28T19:39:19.885986Z",
     "start_time": "2021-05-28T19:38:54.054656Z"
    }
   },
   "outputs": [],
   "source": [
    "# List that contains the series to try out the merge.\n",
    "movies_to_keep = df_names[df_names[\"n_id\"].isin(df_principals.loc[:200000, \"n_id\"])][\"n_id\"]\n",
    "size = []\n",
    "\n",
    "df_basics_sample = df_basics[df_basics[\"t_id\"].isin(movies_to_keep)]\n",
    "size.append([\"Basics\", df_basics_sample.shape, \"t_id\"])\n",
    "\n",
    "df_genres_sample = df_genres[df_genres[\"t_id\"].isin(movies_to_keep)]\n",
    "size.append([\"Genres\", df_genres_sample.shape, \"t_id\"])\n",
    "\n",
    "df_principals_sample = df_principals[df_principals[\"t_id\"].isin(movies_to_keep)]\n",
    "size.append([\"Principals\", df_principals_sample.shape, \"t_id\"])\n",
    "\n",
    "df_ratings_sample = df_ratings[df_ratings[\"t_id\"].isin(movies_to_keep)]\n",
    "size.append([\"Ratings\", df_ratings_sample.shape, \"t_id\"])\n",
    "\n",
    "df_episode_sample = df_episode[df_episode[\"t_id\"].isin(movies_to_keep)]\n",
    "size.append([\"Episode\", df_episode_sample.shape, \"t_id\"])\n",
    "\n",
    "df_crew_sample = df_crew[df_crew[\"t_id\"].isin(movies_to_keep)]\n",
    "size.append([\"Crew\", df_crew_sample.shape, \"t_id\"])\n",
    "\n",
    "df_akas_sample = df_akas[df_akas[\"t_id\"].isin(movies_to_keep)]\n",
    "size.append([\"Akas\", df_akas_sample.shape, \"t_id\"])\n",
    "\n",
    "df_known_for_sample = df_known_for[df_known_for[\"t_id\"].isin(movies_to_keep)]\n",
    "size.append([\"Known_for\", df_known_for_sample.shape, \"t_id\"])\n",
    "\n",
    "df_names_sample = df_names[df_names[\"n_id\"].isin(df_principals_sample.head()[\"n_id\"])]\n",
    "size.append([\"Names\", df_names_sample.shape, \"n_id\"])\n",
    "\n",
    "\n",
    "\n",
    "pd.DataFrame(size, columns=[\"Dataset\", \"size\", \"merge_on\"])"
   ]
  },
  {
   "cell_type": "markdown",
   "metadata": {
    "heading_collapsed": true
   },
   "source": [
    "## Merging"
   ]
  },
  {
   "cell_type": "code",
   "execution_count": null,
   "metadata": {
    "ExecuteTime": {
     "start_time": "2021-05-28T20:57:58.802Z"
    },
    "hidden": true
   },
   "outputs": [],
   "source": [
    "pd.set_option(\"display.max_columns\", None)\n",
    "\n",
    "start = time.time()\n",
    "\n",
    "df_bg = df_basics.merge(df_genres, on=\"t_id\", how=\"outer\")\n",
    "print(f\"2 | {df_bg.shape[0]:,d} | {round(time.time() - start)}s\")\n",
    "df_bgp = df_bg.merge(df_principals, on=\"t_id\", how=\"outer\")\n",
    "print(f\"3 | {df_bgp.shape[0]:,d} | {round(time.time() - start)}s\")\n",
    "df_bgpr = df_bgp.merge(df_ratings, on=\"t_id\", how=\"outer\")\n",
    "print(f\"4 | {df_bgpr.shape[0]:,d} | {round(time.time() - start)}s\")\n",
    "df_bgpre = df_bgpr.merge(df_episode, on=\"t_id\", how=\"outer\")\n",
    "print(f\"5 | {df_bgpre.shape[0]:,d} | {round(time.time() - start)}s\")\n",
    "df_bgprec = df_bgpre.merge(df_crew, on=\"t_id\", how=\"outer\")\n",
    "print(f\"6 | {df_bgprec.shape[0]:,d} | {round(time.time() - start)}s\")\n",
    "df_bgpreca = df_bgprec.merge(df_akas, on=\"t_id\", how=\"outer\")\n",
    "print(f\"7 | {df_bgpreca.shape[0]:,d} | {round(time.time() - start)}s\")\n",
    "df_bgprecak = df_bgpreca.merge(df_known_for, on=[\"t_id\", \"n_id\"], how=\"outer\")\n",
    "print(f\"8 | {df_bgprecak.shape[0]:,d} | {round(time.time() - start)}s\")\n",
    "df_bgprecakn = df_bgpreca.merge(df_names, on=\"n_id\", how=\"outer\")\n",
    "print(f\"9 | {df_bgprecakn.shape[0]:,d} | {round(time.time() - start)}s\")\n",
    "        \n",
    "\n",
    "print(f\"✅\"*1000)"
   ]
  },
  {
   "cell_type": "code",
   "execution_count": null,
   "metadata": {
    "ExecuteTime": {
     "end_time": "2021-05-28T21:03:10.894553Z",
     "start_time": "2021-05-28T21:03:10.799415Z"
    },
    "hidden": true
   },
   "outputs": [],
   "source": [
    "all_dfs = [df_basics, df_genres, df_principals, df_ratings, \n",
    "           df_episode, df_crew, df_akas, df_known_for, df_names]\n",
    "\n",
    "all_dfs_sample = [df_basics_sample, df_genres_sample, df_principals_sample, df_ratings_sample, \n",
    "           df_episode_sample, df_crew_sample, df_akas_sample, df_known_for_sample, df_names_sample]\n",
    "\n",
    "\n",
    "\n",
    "for x in all_dfs: \n",
    "    print(x.shape)"
   ]
  },
  {
   "cell_type": "code",
   "execution_count": null,
   "metadata": {
    "ExecuteTime": {
     "end_time": "2021-05-28T21:03:29.246764Z",
     "start_time": "2021-05-28T21:03:29.238727Z"
    },
    "hidden": true
   },
   "outputs": [],
   "source": []
  },
  {
   "cell_type": "markdown",
   "metadata": {
    "heading_collapsed": true,
    "hidden": true
   },
   "source": [
    "### Import dfs"
   ]
  },
  {
   "cell_type": "code",
   "execution_count": null,
   "metadata": {
    "ExecuteTime": {
     "end_time": "2021-05-28T21:40:13.185719Z",
     "start_time": "2021-05-28T21:34:51.475047Z"
    },
    "hidden": true
   },
   "outputs": [],
   "source": [
    "df_basics = pd.read_csv(\"data/basics.csv\", low_memory=False)\n",
    "df_genres = pd.read_csv(\"data/genres.csv\", low_memory=False)\n",
    "df_principals = pd.read_csv(\"data/principals.csv\", low_memory=False)\n",
    "df_ratings = pd.read_csv(\"data/ratings.csv\", low_memory=False)\n",
    "df_episode = pd.read_csv(\"data/episode.csv\", low_memory=False)\n",
    "df_crew = pd.read_csv(\"data/crew.csv\", low_memory=False)\n",
    "df_akas = pd.read_csv(\"data/akas.csv\", low_memory=False)\n",
    "df_known_for = pd.read_csv(\"data/known_for.csv\", low_memory=False)\n",
    "df_names = pd.read_csv(\"data/names.csv\", low_memory=False)"
   ]
  },
  {
   "cell_type": "code",
   "execution_count": null,
   "metadata": {
    "ExecuteTime": {
     "end_time": "2021-05-28T21:55:21.480194Z",
     "start_time": "2021-05-28T21:55:21.468115Z"
    },
    "hidden": true
   },
   "outputs": [],
   "source": [
    "df_known_for_sample.head()"
   ]
  },
  {
   "cell_type": "code",
   "execution_count": 79,
   "metadata": {
    "ExecuteTime": {
     "end_time": "2021-05-29T22:08:10.797652Z",
     "start_time": "2021-05-29T22:08:09.662188Z"
    }
   },
   "outputs": [
    {
     "name": "stderr",
     "output_type": "stream",
     "text": [
      "/Applications/anaconda3/lib/python3.8/site-packages/IPython/core/interactiveshell.py:3145: DtypeWarning: Columns (1) have mixed types.Specify dtype option on import or set low_memory=False.\n",
      "  has_raised = await self.run_ast_nodes(code_ast.body, cell_name,\n"
     ]
    }
   ],
   "source": [
    "df_episode = pd.read_csv(\"data/crew.csv\")"
   ]
  },
  {
   "cell_type": "markdown",
   "metadata": {
    "heading_collapsed": true,
    "hidden": true
   },
   "source": [
    "# Sample dfs based on year"
   ]
  },
  {
   "cell_type": "code",
   "execution_count": 4,
   "metadata": {
    "ExecuteTime": {
     "end_time": "2021-05-30T00:49:37.226571Z",
     "start_time": "2021-05-30T00:49:37.024378Z"
    },
    "code_folding": [],
    "hidden": true
   },
   "outputs": [],
   "source": [
    "def sample_year(start_year=2021, limit=None, end_year=2021, sample=True, export=True):\n",
    "    # This function can also be used to load all dfs at once! \n",
    "    global df_basics\n",
    "    global df_genres\n",
    "    global df_principals \n",
    "    global df_ratings\n",
    "    global df_episode\n",
    "    global df_crew\n",
    "    global df_akas\n",
    "    global df_known_for\n",
    "    global df_names\n",
    "    global df_basics_sample\n",
    "    global df_genres_sample\n",
    "    global df_principals_sample \n",
    "    global df_ratings_sample\n",
    "    global df_episode_sample\n",
    "    global df_crew_sample\n",
    "    global df_akas_sample\n",
    "    global df_known_for_sample\n",
    "    global df_names_sample\n",
    "    global movies_id\n",
    "    global directory\n",
    "    \n",
    "    # Create sub-folder that will contain the new data\n",
    "    directory = f\"data/{start_year} - {end_year}\"\n",
    "    if not os.path.exists(directory):\n",
    "        os.makedirs(directory)\n",
    "    \n",
    "    # To measure how long it takes\n",
    "    start = time.time()\n",
    "    \n",
    "    # Import the CSVs\n",
    "    print(\"Importing\")\n",
    "    df_basics = pd.read_csv(\"data/basics.csv\", parse_dates=[\"start_year\", \"end_year\"])\n",
    "    print(\"Importing: Basics\", \" \"*20, end=\"\\r\")\n",
    "    df_genres = pd.read_csv(\"data/genres.csv\")\n",
    "    print(\"Importing: Genres\", \" \"*20, end=\"\\r\")\n",
    "    df_principals = pd.read_csv(\"data/principals.csv\")\n",
    "    print(\"Importing: Principals\", \" \"*20, end=\"\\r\")\n",
    "    df_ratings = pd.read_csv(\"data/ratings.csv\")\n",
    "    print(\"Importing: Ratings\", \" \"*20, end=\"\\r\")\n",
    "    df_episode = pd.read_csv(\"data/episode.csv\")\n",
    "    print(\"Importing: Episodes\", \" \"*20, end=\"\\r\")\n",
    "    df_crew = pd.read_csv(\"data/crew.csv\", dtype={\"t_id\": str, \"directors\": str, \"writers\": str})\n",
    "    print(\"Importing: Crew\", \" \"*20, end=\"\\r\")\n",
    "    df_akas = pd.read_csv(\"data/akas.csv\")\n",
    "    print(\"Importing: Akas\", \" \"*20, end=\"\\r\")\n",
    "    df_known_for = pd.read_csv(\"data/known_for.csv\")\n",
    "    print(\"Importing: Known_for\", \" \"*20, end=\"\\r\")\n",
    "    df_names = pd.read_csv(\"data/names.csv\")\n",
    "    import_time = round(time.time()-start)\n",
    "    print(f\"Imported! {import_time}s\")\n",
    "    \n",
    "    movies_id = df_basics[df_basics[\"start_year\"].dt.year.isin(list(range(start_year, end_year + 1)))][\"t_id\"].to_list()\n",
    "    if limit != None:\n",
    "        movies_id = movies_id[:limit]\n",
    "        \n",
    "    if sample == True:\n",
    "        df_basics_sample = df_basics[df_basics[\"t_id\"].isin(movies_id)]\n",
    "        df_genres_sample = df_genres[df_genres[\"t_id\"].isin(movies_id)]\n",
    "        df_principals_sample = df_principals[df_principals[\"t_id\"].isin(movies_id)]\n",
    "        df_ratings_sample = df_ratings[df_ratings[\"t_id\"].isin(movies_id)]\n",
    "        df_episode_sample = df_episode[df_episode[\"t_id\"].isin(movies_id)]\n",
    "        df_crew_sample = df_crew[df_crew[\"t_id\"].isin(movies_id)]\n",
    "        df_akas_sample = df_akas[df_akas[\"t_id\"].isin(movies_id)]\n",
    "        df_known_for_sample = df_known_for[df_known_for[\"n_id\"].isin(df_principals_sample[\"n_id\"])]\n",
    "        df_names_sample = df_names[df_names[\"n_id\"].isin(df_principals_sample[\"n_id\"])]\n",
    "        sample_time = round(time.time()-start) - import_time\n",
    "        print(f\"Sampled! {sample_time}s\")\n",
    "        \n",
    "    \n",
    "    if export == True:\n",
    "        df_basics_sample.to_csv(directory + f\"/basics_{start_year}-{end_year}.csv\", index=False)\n",
    "        print(\"Export: Basics\", \" \"*20, end=\"\\r\")\n",
    "        df_genres_sample.to_csv(directory + f\"/genres_{start_year}-{end_year}.csv\", index=False)\n",
    "        print(\"Export: Genres\", \" \"*20, end=\"\\r\")\n",
    "        df_principals_sample.to_csv(directory + f\"/principals_{start_year}-{end_year}.csv\", index=False)\n",
    "        print(\"Export: Principals\", \" \"*20, end=\"\\r\")\n",
    "        df_ratings_sample.to_csv(directory + f\"/ratings_{start_year}-{end_year}.csv\", index=False)\n",
    "        print(\"Export: Ratings\", \" \"*20, end=\"\\r\")\n",
    "        df_episode_sample.to_csv(directory + f\"/episode_{start_year}-{end_year}.csv\", index=False)\n",
    "        print(\"Export: Episode\", \" \"*20, end=\"\\r\")\n",
    "        df_crew_sample.to_csv(directory + f\"/crew_{start_year}-{end_year}.csv\", index=False)\n",
    "        print(\"Export: Crew\", \" \"*20, end=\"\\r\")\n",
    "        df_akas_sample.to_csv(directory + f\"/akas_{start_year}-{end_year}.csv\", index=False)\n",
    "        print(\"Export: Akas\", \" \"*20, end=\"\\r\")\n",
    "        df_known_for_sample.to_csv(directory + f\"/known_for_{start_year}-{end_year}.csv\", index=False)\n",
    "        print(\"Export: Known_for\", \" \"*20, end=\"\\r\")\n",
    "        df_names_sample.to_csv(directory + f\"/names_{start_year}-{end_year}.csv\", index=False)\n",
    "        export_time = round(time.time()-start) - sample_time\n",
    "        print(f\"Exported! {export_time}s\", \" \"*20)\n",
    "        \n",
    "    print(\"Done!\")\n",
    "\n"
   ]
  },
  {
   "cell_type": "code",
   "execution_count": 18,
   "metadata": {
    "ExecuteTime": {
     "end_time": "2021-05-30T01:27:04.427140Z",
     "start_time": "2021-05-30T01:16:59.873301Z"
    }
   },
   "outputs": [
    {
     "name": "stdout",
     "output_type": "stream",
     "text": [
      "Importing\n",
      "Imported! 394swn_for                      \n",
      "Movied!\n",
      "Sampled! 124s\n",
      "Exported! 478s                         \n"
     ]
    }
   ],
   "source": [
    "sample_year(2019, 2021)"
   ]
  },
  {
   "cell_type": "code",
   "execution_count": 36,
   "metadata": {
    "ExecuteTime": {
     "end_time": "2021-05-30T01:47:53.243358Z",
     "start_time": "2021-05-30T01:47:38.422181Z"
    }
   },
   "outputs": [],
   "source": [
    "movies_id = df_basics[df_basics[\"start_year\"].dt.year.isin(list(range(2019, 2020 + 1)))][\"t_id\"].to_list()\n",
    "\n",
    "df_episode = pd.read_csv(\"data/episode.csv\")\n",
    "\n",
    "df_episode_sample = df_episode[df_episode[\"t_id\"].isin(movies_id)]"
   ]
  },
  {
   "cell_type": "code",
   "execution_count": 40,
   "metadata": {
    "ExecuteTime": {
     "end_time": "2021-05-30T01:50:05.744000Z",
     "start_time": "2021-05-30T01:50:04.268579Z"
    }
   },
   "outputs": [],
   "source": [
    "start_year = 2019\n",
    "end_year = 2020 + 1\n",
    "\n",
    "df_episode_sample.to_csv(f\"data/{start_year} - {end_year}\" + f\"/episode_{start_year}-{end_year}.csv\", index=False)\n",
    "df_episode_sample\n"
   ]
  },
  {
   "cell_type": "code",
   "execution_count": 41,
   "metadata": {
    "ExecuteTime": {
     "end_time": "2021-05-30T01:53:03.756003Z",
     "start_time": "2021-05-30T01:53:03.712037Z"
    }
   },
   "outputs": [
    {
     "data": {
      "text/html": [
       "<div>\n",
       "<style scoped>\n",
       "    .dataframe tbody tr th:only-of-type {\n",
       "        vertical-align: middle;\n",
       "    }\n",
       "\n",
       "    .dataframe tbody tr th {\n",
       "        vertical-align: top;\n",
       "    }\n",
       "\n",
       "    .dataframe thead th {\n",
       "        text-align: right;\n",
       "    }\n",
       "</style>\n",
       "<table border=\"1\" class=\"dataframe\">\n",
       "  <thead>\n",
       "    <tr style=\"text-align: right;\">\n",
       "      <th></th>\n",
       "      <th>t_id</th>\n",
       "      <th>parent_id</th>\n",
       "      <th>season</th>\n",
       "      <th>episode</th>\n",
       "    </tr>\n",
       "  </thead>\n",
       "  <tbody>\n",
       "    <tr>\n",
       "      <th>57992</th>\n",
       "      <td>tt0547753</td>\n",
       "      <td>tt0138228</td>\n",
       "      <td>82.0</td>\n",
       "      <td>16.0</td>\n",
       "    </tr>\n",
       "    <tr>\n",
       "      <th>58003</th>\n",
       "      <td>tt0547764</td>\n",
       "      <td>tt0138228</td>\n",
       "      <td>82.0</td>\n",
       "      <td>17.0</td>\n",
       "    </tr>\n",
       "    <tr>\n",
       "      <th>58496</th>\n",
       "      <td>tt0548263</td>\n",
       "      <td>tt0138228</td>\n",
       "      <td>82.0</td>\n",
       "      <td>29.0</td>\n",
       "    </tr>\n",
       "    <tr>\n",
       "      <th>58566</th>\n",
       "      <td>tt0548336</td>\n",
       "      <td>tt0138228</td>\n",
       "      <td>82.0</td>\n",
       "      <td>4.0</td>\n",
       "    </tr>\n",
       "    <tr>\n",
       "      <th>58577</th>\n",
       "      <td>tt0548347</td>\n",
       "      <td>tt0138228</td>\n",
       "      <td>82.0</td>\n",
       "      <td>5.0</td>\n",
       "    </tr>\n",
       "  </tbody>\n",
       "</table>\n",
       "</div>"
      ],
      "text/plain": [
       "            t_id  parent_id  season  episode\n",
       "57992  tt0547753  tt0138228    82.0     16.0\n",
       "58003  tt0547764  tt0138228    82.0     17.0\n",
       "58496  tt0548263  tt0138228    82.0     29.0\n",
       "58566  tt0548336  tt0138228    82.0      4.0\n",
       "58577  tt0548347  tt0138228    82.0      5.0"
      ]
     },
     "execution_count": 41,
     "metadata": {},
     "output_type": "execute_result"
    }
   ],
   "source": [
    "df_episode_sample.head()"
   ]
  },
  {
   "cell_type": "markdown",
   "metadata": {
    "ExecuteTime": {
     "end_time": "2021-06-01T00:14:41.591659Z",
     "start_time": "2021-06-01T00:14:41.345699Z"
    }
   },
   "source": [
    "# Merge\n"
   ]
  },
  {
   "cell_type": "code",
   "execution_count": null,
   "metadata": {
    "ExecuteTime": {
     "end_time": "2021-06-01T00:59:31.070352Z",
     "start_time": "2021-06-01T00:57:12.678Z"
    }
   },
   "outputs": [],
   "source": [
    "print(\"Importing\")\n",
    "df_basics = pd.read_csv(\"data/basics.csv\", parse_dates=[\"start_year\", \"end_year\"])\n",
    "print(\"Importing: Basics\", \" \"*20, end=\"\\r\")\n",
    "df_genres = pd.read_csv(\"data/genres.csv\")\n",
    "print(\"Importing: Genres\", \" \"*20, end=\"\\r\")\n",
    "df_principals = pd.read_csv(\"data/principals.csv\")\n",
    "print(\"Importing: Principals\", \" \"*20, end=\"\\r\")\n",
    "df_ratings = pd.read_csv(\"data/ratings.csv\")\n",
    "print(\"Importing: Ratings\", \" \"*20, end=\"\\r\")\n",
    "df_episode = pd.read_csv(\"data/episode.csv\")\n",
    "print(\"Importing: Episodes\", \" \"*20, end=\"\\r\")\n",
    "df_crew = pd.read_csv(\"data/crew.csv\", dtype={\"t_id\": str, \"directors\": str, \"writers\": str})\n",
    "print(\"Importing: Crew\", \" \"*20, end=\"\\r\")\n",
    "df_akas = pd.read_csv(\"data/akas.csv\")\n",
    "print(\"Importing: Akas\", \" \"*20, end=\"\\r\")\n",
    "df_known_for = pd.read_csv(\"data/known_for.csv\")\n",
    "print(\"Importing: Known_for\", \" \"*20, end=\"\\r\")\n",
    "df_names = pd.read_csv(\"data/names.csv\")\n",
    "import_time = round(time.time()-start)\n",
    "print(f\"Imported! {import_time}s\")"
   ]
  },
  {
   "cell_type": "code",
   "execution_count": null,
   "metadata": {
    "ExecuteTime": {
     "end_time": "2021-06-01T01:00:30.838403Z",
     "start_time": "2021-06-01T01:00:18.455Z"
    }
   },
   "outputs": [],
   "source": [
    "df_basics_merge = df_basics.drop([\"original_title\", \"for_adult\"], axis=1)\n",
    "\n",
    "df_principals_merge = df_principals.drop([\"character_played\", \"job_title\"], axis=1)\n",
    "\n",
    "df_ratings_merge = df_ratings\n",
    "\n",
    "df_episode_merge = df_episode\n",
    "\n",
    "df_crew_merge = df_crew\n",
    "\n",
    "df_names_merge = df_names.drop([\"profession\", \"known_for\"], axis=1)\n"
   ]
  },
  {
   "cell_type": "code",
   "execution_count": 7,
   "metadata": {
    "ExecuteTime": {
     "end_time": "2021-06-01T01:01:28.714167Z",
     "start_time": "2021-06-01T01:00:36.870170Z"
    }
   },
   "outputs": [
    {
     "name": "stdout",
     "output_type": "stream",
     "text": [
      "(45719706, 8)\n"
     ]
    },
    {
     "data": {
      "text/html": [
       "<div>\n",
       "<style scoped>\n",
       "    .dataframe tbody tr th:only-of-type {\n",
       "        vertical-align: middle;\n",
       "    }\n",
       "\n",
       "    .dataframe tbody tr th {\n",
       "        vertical-align: top;\n",
       "    }\n",
       "\n",
       "    .dataframe thead th {\n",
       "        text-align: right;\n",
       "    }\n",
       "</style>\n",
       "<table border=\"1\" class=\"dataframe\">\n",
       "  <thead>\n",
       "    <tr style=\"text-align: right;\">\n",
       "      <th></th>\n",
       "      <th>t_id</th>\n",
       "      <th>n_id</th>\n",
       "      <th>job_category</th>\n",
       "      <th>type</th>\n",
       "      <th>primary_title</th>\n",
       "      <th>start_year</th>\n",
       "      <th>end_year</th>\n",
       "      <th>runtime_mn</th>\n",
       "    </tr>\n",
       "  </thead>\n",
       "  <tbody>\n",
       "    <tr>\n",
       "      <th>0</th>\n",
       "      <td>tt0000001</td>\n",
       "      <td>nm1588970</td>\n",
       "      <td>self</td>\n",
       "      <td>short</td>\n",
       "      <td>Carmencita</td>\n",
       "      <td>1894-01-01</td>\n",
       "      <td>NaT</td>\n",
       "      <td>1.0</td>\n",
       "    </tr>\n",
       "    <tr>\n",
       "      <th>1</th>\n",
       "      <td>tt0000001</td>\n",
       "      <td>nm0005690</td>\n",
       "      <td>director</td>\n",
       "      <td>short</td>\n",
       "      <td>Carmencita</td>\n",
       "      <td>1894-01-01</td>\n",
       "      <td>NaT</td>\n",
       "      <td>1.0</td>\n",
       "    </tr>\n",
       "    <tr>\n",
       "      <th>2</th>\n",
       "      <td>tt0000001</td>\n",
       "      <td>nm0374658</td>\n",
       "      <td>cinematographer</td>\n",
       "      <td>short</td>\n",
       "      <td>Carmencita</td>\n",
       "      <td>1894-01-01</td>\n",
       "      <td>NaT</td>\n",
       "      <td>1.0</td>\n",
       "    </tr>\n",
       "    <tr>\n",
       "      <th>3</th>\n",
       "      <td>tt0000002</td>\n",
       "      <td>nm0721526</td>\n",
       "      <td>director</td>\n",
       "      <td>short</td>\n",
       "      <td>Le clown et ses chiens</td>\n",
       "      <td>1892-01-01</td>\n",
       "      <td>NaT</td>\n",
       "      <td>5.0</td>\n",
       "    </tr>\n",
       "    <tr>\n",
       "      <th>4</th>\n",
       "      <td>tt0000002</td>\n",
       "      <td>nm1335271</td>\n",
       "      <td>composer</td>\n",
       "      <td>short</td>\n",
       "      <td>Le clown et ses chiens</td>\n",
       "      <td>1892-01-01</td>\n",
       "      <td>NaT</td>\n",
       "      <td>5.0</td>\n",
       "    </tr>\n",
       "  </tbody>\n",
       "</table>\n",
       "</div>"
      ],
      "text/plain": [
       "        t_id       n_id     job_category   type           primary_title  \\\n",
       "0  tt0000001  nm1588970             self  short              Carmencita   \n",
       "1  tt0000001  nm0005690         director  short              Carmencita   \n",
       "2  tt0000001  nm0374658  cinematographer  short              Carmencita   \n",
       "3  tt0000002  nm0721526         director  short  Le clown et ses chiens   \n",
       "4  tt0000002  nm1335271         composer  short  Le clown et ses chiens   \n",
       "\n",
       "  start_year end_year  runtime_mn  \n",
       "0 1894-01-01      NaT         1.0  \n",
       "1 1894-01-01      NaT         1.0  \n",
       "2 1894-01-01      NaT         1.0  \n",
       "3 1892-01-01      NaT         5.0  \n",
       "4 1892-01-01      NaT         5.0  "
      ]
     },
     "execution_count": 7,
     "metadata": {},
     "output_type": "execute_result"
    }
   ],
   "source": [
    "pd.set_option(\"display.max_columns\", None)\n",
    "dfm1 = df_principals_merge.merge(df_basics_merge, on=\"t_id\", how=\"outer\")\n",
    "print(dfm1.shape)\n",
    "dfm1.head()"
   ]
  },
  {
   "cell_type": "code",
   "execution_count": 8,
   "metadata": {
    "ExecuteTime": {
     "end_time": "2021-06-01T01:02:05.162363Z",
     "start_time": "2021-06-01T01:01:33.319419Z"
    }
   },
   "outputs": [
    {
     "name": "stdout",
     "output_type": "stream",
     "text": [
      "(45719706, 10)\n"
     ]
    },
    {
     "data": {
      "text/html": [
       "<div>\n",
       "<style scoped>\n",
       "    .dataframe tbody tr th:only-of-type {\n",
       "        vertical-align: middle;\n",
       "    }\n",
       "\n",
       "    .dataframe tbody tr th {\n",
       "        vertical-align: top;\n",
       "    }\n",
       "\n",
       "    .dataframe thead th {\n",
       "        text-align: right;\n",
       "    }\n",
       "</style>\n",
       "<table border=\"1\" class=\"dataframe\">\n",
       "  <thead>\n",
       "    <tr style=\"text-align: right;\">\n",
       "      <th></th>\n",
       "      <th>t_id</th>\n",
       "      <th>n_id</th>\n",
       "      <th>job_category</th>\n",
       "      <th>type</th>\n",
       "      <th>primary_title</th>\n",
       "      <th>start_year</th>\n",
       "      <th>end_year</th>\n",
       "      <th>runtime_mn</th>\n",
       "      <th>rating</th>\n",
       "      <th>votes</th>\n",
       "    </tr>\n",
       "  </thead>\n",
       "  <tbody>\n",
       "    <tr>\n",
       "      <th>0</th>\n",
       "      <td>tt0000001</td>\n",
       "      <td>nm1588970</td>\n",
       "      <td>self</td>\n",
       "      <td>short</td>\n",
       "      <td>Carmencita</td>\n",
       "      <td>1894-01-01</td>\n",
       "      <td>NaT</td>\n",
       "      <td>1.0</td>\n",
       "      <td>5.7</td>\n",
       "      <td>1707.0</td>\n",
       "    </tr>\n",
       "    <tr>\n",
       "      <th>1</th>\n",
       "      <td>tt0000001</td>\n",
       "      <td>nm0005690</td>\n",
       "      <td>director</td>\n",
       "      <td>short</td>\n",
       "      <td>Carmencita</td>\n",
       "      <td>1894-01-01</td>\n",
       "      <td>NaT</td>\n",
       "      <td>1.0</td>\n",
       "      <td>5.7</td>\n",
       "      <td>1707.0</td>\n",
       "    </tr>\n",
       "    <tr>\n",
       "      <th>2</th>\n",
       "      <td>tt0000001</td>\n",
       "      <td>nm0374658</td>\n",
       "      <td>cinematographer</td>\n",
       "      <td>short</td>\n",
       "      <td>Carmencita</td>\n",
       "      <td>1894-01-01</td>\n",
       "      <td>NaT</td>\n",
       "      <td>1.0</td>\n",
       "      <td>5.7</td>\n",
       "      <td>1707.0</td>\n",
       "    </tr>\n",
       "    <tr>\n",
       "      <th>3</th>\n",
       "      <td>tt0000002</td>\n",
       "      <td>nm0721526</td>\n",
       "      <td>director</td>\n",
       "      <td>short</td>\n",
       "      <td>Le clown et ses chiens</td>\n",
       "      <td>1892-01-01</td>\n",
       "      <td>NaT</td>\n",
       "      <td>5.0</td>\n",
       "      <td>6.1</td>\n",
       "      <td>210.0</td>\n",
       "    </tr>\n",
       "    <tr>\n",
       "      <th>4</th>\n",
       "      <td>tt0000002</td>\n",
       "      <td>nm1335271</td>\n",
       "      <td>composer</td>\n",
       "      <td>short</td>\n",
       "      <td>Le clown et ses chiens</td>\n",
       "      <td>1892-01-01</td>\n",
       "      <td>NaT</td>\n",
       "      <td>5.0</td>\n",
       "      <td>6.1</td>\n",
       "      <td>210.0</td>\n",
       "    </tr>\n",
       "  </tbody>\n",
       "</table>\n",
       "</div>"
      ],
      "text/plain": [
       "        t_id       n_id     job_category   type           primary_title  \\\n",
       "0  tt0000001  nm1588970             self  short              Carmencita   \n",
       "1  tt0000001  nm0005690         director  short              Carmencita   \n",
       "2  tt0000001  nm0374658  cinematographer  short              Carmencita   \n",
       "3  tt0000002  nm0721526         director  short  Le clown et ses chiens   \n",
       "4  tt0000002  nm1335271         composer  short  Le clown et ses chiens   \n",
       "\n",
       "  start_year end_year  runtime_mn  rating   votes  \n",
       "0 1894-01-01      NaT         1.0     5.7  1707.0  \n",
       "1 1894-01-01      NaT         1.0     5.7  1707.0  \n",
       "2 1894-01-01      NaT         1.0     5.7  1707.0  \n",
       "3 1892-01-01      NaT         5.0     6.1   210.0  \n",
       "4 1892-01-01      NaT         5.0     6.1   210.0  "
      ]
     },
     "execution_count": 8,
     "metadata": {},
     "output_type": "execute_result"
    }
   ],
   "source": [
    "dfm2 = dfm1.merge(df_ratings_merge, on=\"t_id\", how=\"outer\")\n",
    "print(dfm2.shape)\n",
    "dfm2.head()"
   ]
  },
  {
   "cell_type": "code",
   "execution_count": 9,
   "metadata": {
    "ExecuteTime": {
     "end_time": "2021-06-01T01:02:57.423986Z",
     "start_time": "2021-06-01T01:02:10.903502Z"
    }
   },
   "outputs": [
    {
     "name": "stdout",
     "output_type": "stream",
     "text": [
      "(45719706, 13)\n"
     ]
    },
    {
     "data": {
      "text/html": [
       "<div>\n",
       "<style scoped>\n",
       "    .dataframe tbody tr th:only-of-type {\n",
       "        vertical-align: middle;\n",
       "    }\n",
       "\n",
       "    .dataframe tbody tr th {\n",
       "        vertical-align: top;\n",
       "    }\n",
       "\n",
       "    .dataframe thead th {\n",
       "        text-align: right;\n",
       "    }\n",
       "</style>\n",
       "<table border=\"1\" class=\"dataframe\">\n",
       "  <thead>\n",
       "    <tr style=\"text-align: right;\">\n",
       "      <th></th>\n",
       "      <th>t_id</th>\n",
       "      <th>n_id</th>\n",
       "      <th>job_category</th>\n",
       "      <th>type</th>\n",
       "      <th>primary_title</th>\n",
       "      <th>start_year</th>\n",
       "      <th>end_year</th>\n",
       "      <th>runtime_mn</th>\n",
       "      <th>rating</th>\n",
       "      <th>votes</th>\n",
       "      <th>parent_id</th>\n",
       "      <th>season</th>\n",
       "      <th>episode</th>\n",
       "    </tr>\n",
       "  </thead>\n",
       "  <tbody>\n",
       "    <tr>\n",
       "      <th>0</th>\n",
       "      <td>tt0000001</td>\n",
       "      <td>nm1588970</td>\n",
       "      <td>self</td>\n",
       "      <td>short</td>\n",
       "      <td>Carmencita</td>\n",
       "      <td>1894-01-01</td>\n",
       "      <td>NaT</td>\n",
       "      <td>1.0</td>\n",
       "      <td>5.7</td>\n",
       "      <td>1707.0</td>\n",
       "      <td>NaN</td>\n",
       "      <td>NaN</td>\n",
       "      <td>NaN</td>\n",
       "    </tr>\n",
       "    <tr>\n",
       "      <th>1</th>\n",
       "      <td>tt0000001</td>\n",
       "      <td>nm0005690</td>\n",
       "      <td>director</td>\n",
       "      <td>short</td>\n",
       "      <td>Carmencita</td>\n",
       "      <td>1894-01-01</td>\n",
       "      <td>NaT</td>\n",
       "      <td>1.0</td>\n",
       "      <td>5.7</td>\n",
       "      <td>1707.0</td>\n",
       "      <td>NaN</td>\n",
       "      <td>NaN</td>\n",
       "      <td>NaN</td>\n",
       "    </tr>\n",
       "    <tr>\n",
       "      <th>2</th>\n",
       "      <td>tt0000001</td>\n",
       "      <td>nm0374658</td>\n",
       "      <td>cinematographer</td>\n",
       "      <td>short</td>\n",
       "      <td>Carmencita</td>\n",
       "      <td>1894-01-01</td>\n",
       "      <td>NaT</td>\n",
       "      <td>1.0</td>\n",
       "      <td>5.7</td>\n",
       "      <td>1707.0</td>\n",
       "      <td>NaN</td>\n",
       "      <td>NaN</td>\n",
       "      <td>NaN</td>\n",
       "    </tr>\n",
       "    <tr>\n",
       "      <th>3</th>\n",
       "      <td>tt0000002</td>\n",
       "      <td>nm0721526</td>\n",
       "      <td>director</td>\n",
       "      <td>short</td>\n",
       "      <td>Le clown et ses chiens</td>\n",
       "      <td>1892-01-01</td>\n",
       "      <td>NaT</td>\n",
       "      <td>5.0</td>\n",
       "      <td>6.1</td>\n",
       "      <td>210.0</td>\n",
       "      <td>NaN</td>\n",
       "      <td>NaN</td>\n",
       "      <td>NaN</td>\n",
       "    </tr>\n",
       "    <tr>\n",
       "      <th>4</th>\n",
       "      <td>tt0000002</td>\n",
       "      <td>nm1335271</td>\n",
       "      <td>composer</td>\n",
       "      <td>short</td>\n",
       "      <td>Le clown et ses chiens</td>\n",
       "      <td>1892-01-01</td>\n",
       "      <td>NaT</td>\n",
       "      <td>5.0</td>\n",
       "      <td>6.1</td>\n",
       "      <td>210.0</td>\n",
       "      <td>NaN</td>\n",
       "      <td>NaN</td>\n",
       "      <td>NaN</td>\n",
       "    </tr>\n",
       "  </tbody>\n",
       "</table>\n",
       "</div>"
      ],
      "text/plain": [
       "        t_id       n_id     job_category   type           primary_title  \\\n",
       "0  tt0000001  nm1588970             self  short              Carmencita   \n",
       "1  tt0000001  nm0005690         director  short              Carmencita   \n",
       "2  tt0000001  nm0374658  cinematographer  short              Carmencita   \n",
       "3  tt0000002  nm0721526         director  short  Le clown et ses chiens   \n",
       "4  tt0000002  nm1335271         composer  short  Le clown et ses chiens   \n",
       "\n",
       "  start_year end_year  runtime_mn  rating   votes parent_id  season  episode  \n",
       "0 1894-01-01      NaT         1.0     5.7  1707.0       NaN     NaN      NaN  \n",
       "1 1894-01-01      NaT         1.0     5.7  1707.0       NaN     NaN      NaN  \n",
       "2 1894-01-01      NaT         1.0     5.7  1707.0       NaN     NaN      NaN  \n",
       "3 1892-01-01      NaT         5.0     6.1   210.0       NaN     NaN      NaN  \n",
       "4 1892-01-01      NaT         5.0     6.1   210.0       NaN     NaN      NaN  "
      ]
     },
     "execution_count": 9,
     "metadata": {},
     "output_type": "execute_result"
    }
   ],
   "source": [
    "dfm3 = dfm2.merge(df_episode_merge, on=\"t_id\", how=\"outer\")\n",
    "print(dfm3.shape)\n",
    "dfm3.head()"
   ]
  },
  {
   "cell_type": "code",
   "execution_count": null,
   "metadata": {
    "ExecuteTime": {
     "start_time": "2021-06-01T01:03:04.270Z"
    }
   },
   "outputs": [],
   "source": [
    "dfm5 = dfm4.merge(df_ratings_merge, on=\"t_id\", how=\"outer\")\n",
    "print(dfm5.shape)\n",
    "dfm5.head()"
   ]
  },
  {
   "cell_type": "code",
   "execution_count": 10,
   "metadata": {
    "ExecuteTime": {
     "end_time": "2021-06-01T01:06:08.778232Z",
     "start_time": "2021-06-01T01:03:01.972398Z"
    }
   },
   "outputs": [
    {
     "name": "stdout",
     "output_type": "stream",
     "text": [
      "(192998591, 15)\n"
     ]
    },
    {
     "data": {
      "text/html": [
       "<div>\n",
       "<style scoped>\n",
       "    .dataframe tbody tr th:only-of-type {\n",
       "        vertical-align: middle;\n",
       "    }\n",
       "\n",
       "    .dataframe tbody tr th {\n",
       "        vertical-align: top;\n",
       "    }\n",
       "\n",
       "    .dataframe thead th {\n",
       "        text-align: right;\n",
       "    }\n",
       "</style>\n",
       "<table border=\"1\" class=\"dataframe\">\n",
       "  <thead>\n",
       "    <tr style=\"text-align: right;\">\n",
       "      <th></th>\n",
       "      <th>t_id</th>\n",
       "      <th>n_id</th>\n",
       "      <th>job_category</th>\n",
       "      <th>type</th>\n",
       "      <th>primary_title</th>\n",
       "      <th>start_year</th>\n",
       "      <th>end_year</th>\n",
       "      <th>runtime_mn</th>\n",
       "      <th>rating</th>\n",
       "      <th>votes</th>\n",
       "      <th>parent_id</th>\n",
       "      <th>season</th>\n",
       "      <th>episode</th>\n",
       "      <th>directors</th>\n",
       "      <th>writers</th>\n",
       "    </tr>\n",
       "  </thead>\n",
       "  <tbody>\n",
       "    <tr>\n",
       "      <th>0</th>\n",
       "      <td>tt0000001</td>\n",
       "      <td>nm1588970</td>\n",
       "      <td>self</td>\n",
       "      <td>short</td>\n",
       "      <td>Carmencita</td>\n",
       "      <td>1894-01-01</td>\n",
       "      <td>NaT</td>\n",
       "      <td>1.0</td>\n",
       "      <td>5.7</td>\n",
       "      <td>1707.0</td>\n",
       "      <td>NaN</td>\n",
       "      <td>NaN</td>\n",
       "      <td>NaN</td>\n",
       "      <td>nm0005690</td>\n",
       "      <td>NaN</td>\n",
       "    </tr>\n",
       "    <tr>\n",
       "      <th>1</th>\n",
       "      <td>tt0000001</td>\n",
       "      <td>nm0005690</td>\n",
       "      <td>director</td>\n",
       "      <td>short</td>\n",
       "      <td>Carmencita</td>\n",
       "      <td>1894-01-01</td>\n",
       "      <td>NaT</td>\n",
       "      <td>1.0</td>\n",
       "      <td>5.7</td>\n",
       "      <td>1707.0</td>\n",
       "      <td>NaN</td>\n",
       "      <td>NaN</td>\n",
       "      <td>NaN</td>\n",
       "      <td>nm0005690</td>\n",
       "      <td>NaN</td>\n",
       "    </tr>\n",
       "    <tr>\n",
       "      <th>2</th>\n",
       "      <td>tt0000001</td>\n",
       "      <td>nm0374658</td>\n",
       "      <td>cinematographer</td>\n",
       "      <td>short</td>\n",
       "      <td>Carmencita</td>\n",
       "      <td>1894-01-01</td>\n",
       "      <td>NaT</td>\n",
       "      <td>1.0</td>\n",
       "      <td>5.7</td>\n",
       "      <td>1707.0</td>\n",
       "      <td>NaN</td>\n",
       "      <td>NaN</td>\n",
       "      <td>NaN</td>\n",
       "      <td>nm0005690</td>\n",
       "      <td>NaN</td>\n",
       "    </tr>\n",
       "    <tr>\n",
       "      <th>3</th>\n",
       "      <td>tt0000002</td>\n",
       "      <td>nm0721526</td>\n",
       "      <td>director</td>\n",
       "      <td>short</td>\n",
       "      <td>Le clown et ses chiens</td>\n",
       "      <td>1892-01-01</td>\n",
       "      <td>NaT</td>\n",
       "      <td>5.0</td>\n",
       "      <td>6.1</td>\n",
       "      <td>210.0</td>\n",
       "      <td>NaN</td>\n",
       "      <td>NaN</td>\n",
       "      <td>NaN</td>\n",
       "      <td>nm0721526</td>\n",
       "      <td>NaN</td>\n",
       "    </tr>\n",
       "    <tr>\n",
       "      <th>4</th>\n",
       "      <td>tt0000002</td>\n",
       "      <td>nm1335271</td>\n",
       "      <td>composer</td>\n",
       "      <td>short</td>\n",
       "      <td>Le clown et ses chiens</td>\n",
       "      <td>1892-01-01</td>\n",
       "      <td>NaT</td>\n",
       "      <td>5.0</td>\n",
       "      <td>6.1</td>\n",
       "      <td>210.0</td>\n",
       "      <td>NaN</td>\n",
       "      <td>NaN</td>\n",
       "      <td>NaN</td>\n",
       "      <td>nm0721526</td>\n",
       "      <td>NaN</td>\n",
       "    </tr>\n",
       "  </tbody>\n",
       "</table>\n",
       "</div>"
      ],
      "text/plain": [
       "        t_id       n_id     job_category   type           primary_title  \\\n",
       "0  tt0000001  nm1588970             self  short              Carmencita   \n",
       "1  tt0000001  nm0005690         director  short              Carmencita   \n",
       "2  tt0000001  nm0374658  cinematographer  short              Carmencita   \n",
       "3  tt0000002  nm0721526         director  short  Le clown et ses chiens   \n",
       "4  tt0000002  nm1335271         composer  short  Le clown et ses chiens   \n",
       "\n",
       "  start_year end_year  runtime_mn  rating   votes parent_id  season  episode  \\\n",
       "0 1894-01-01      NaT         1.0     5.7  1707.0       NaN     NaN      NaN   \n",
       "1 1894-01-01      NaT         1.0     5.7  1707.0       NaN     NaN      NaN   \n",
       "2 1894-01-01      NaT         1.0     5.7  1707.0       NaN     NaN      NaN   \n",
       "3 1892-01-01      NaT         5.0     6.1   210.0       NaN     NaN      NaN   \n",
       "4 1892-01-01      NaT         5.0     6.1   210.0       NaN     NaN      NaN   \n",
       "\n",
       "   directors writers  \n",
       "0  nm0005690     NaN  \n",
       "1  nm0005690     NaN  \n",
       "2  nm0005690     NaN  \n",
       "3  nm0721526     NaN  \n",
       "4  nm0721526     NaN  "
      ]
     },
     "execution_count": 10,
     "metadata": {},
     "output_type": "execute_result"
    }
   ],
   "source": [
    "dfm4 = dfm3.merge(df_crew_merge, on=\"t_id\", how=\"outer\")\n",
    "print(dfm4.shape)\n",
    "dfm4.head()"
   ]
  },
  {
   "cell_type": "code",
   "execution_count": null,
   "metadata": {
    "ExecuteTime": {
     "end_time": "2021-06-01T01:00:30.849211Z",
     "start_time": "2021-06-01T01:00:19.408Z"
    }
   },
   "outputs": [],
   "source": [
    "dfm6 = dfm5.merge(df_names_merge, on=\"n_id\", how=\"outer\")\n",
    "print(dfm6.shape)\n",
    "dfm6.head()"
   ]
  },
  {
   "cell_type": "code",
   "execution_count": null,
   "metadata": {},
   "outputs": [],
   "source": []
  },
  {
   "cell_type": "code",
   "execution_count": null,
   "metadata": {},
   "outputs": [],
   "source": []
  }
 ],
 "metadata": {
  "gist": {
   "data": {
    "description": "Projects/imdb/Download and clean Imdb data.ipynb",
    "public": true
   },
   "id": ""
  },
  "kernelspec": {
   "display_name": "Python 3",
   "language": "python",
   "name": "python3"
  },
  "language_info": {
   "codemirror_mode": {
    "name": "ipython",
    "version": 3
   },
   "file_extension": ".py",
   "mimetype": "text/x-python",
   "name": "python",
   "nbconvert_exporter": "python",
   "pygments_lexer": "ipython3",
   "version": "3.8.3"
  },
  "toc": {
   "base_numbering": 1,
   "nav_menu": {},
   "number_sections": true,
   "sideBar": true,
   "skip_h1_title": false,
   "title_cell": "Table of Contents",
   "title_sidebar": "Contents",
   "toc_cell": false,
   "toc_position": {
    "height": "calc(100% - 180px)",
    "left": "10px",
    "top": "150px",
    "width": "288px"
   },
   "toc_section_display": true,
   "toc_window_display": true
  },
  "varInspector": {
   "cols": {
    "lenName": 16,
    "lenType": 16,
    "lenVar": 40
   },
   "kernels_config": {
    "python": {
     "delete_cmd_postfix": "",
     "delete_cmd_prefix": "del ",
     "library": "var_list.py",
     "varRefreshCmd": "print(var_dic_list())"
    },
    "r": {
     "delete_cmd_postfix": ") ",
     "delete_cmd_prefix": "rm(",
     "library": "var_list.r",
     "varRefreshCmd": "cat(var_dic_list()) "
    }
   },
   "types_to_exclude": [
    "module",
    "function",
    "builtin_function_or_method",
    "instance",
    "_Feature"
   ],
   "window_display": false
  }
 },
 "nbformat": 4,
 "nbformat_minor": 4
}
